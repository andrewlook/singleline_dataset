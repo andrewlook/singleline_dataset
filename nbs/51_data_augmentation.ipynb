{
 "cells": [
  {
   "cell_type": "markdown",
   "metadata": {},
   "source": [
    "# data_augmentation\n",
    "\n",
    "> Fill in a module description here"
   ]
  },
  {
   "cell_type": "code",
   "execution_count": null,
   "metadata": {},
   "outputs": [],
   "source": []
  },
  {
   "cell_type": "code",
   "execution_count": null,
   "metadata": {},
   "outputs": [],
   "source": [
    "#| hide\n",
    "from nbdev.showdoc import *"
   ]
  },
  {
   "cell_type": "code",
   "execution_count": null,
   "metadata": {},
   "outputs": [],
   "source": [
    "%load_ext autoreload\n",
    "%autoreload 2"
   ]
  },
  {
   "cell_type": "code",
   "execution_count": null,
   "metadata": {},
   "outputs": [
    {
     "name": "stdout",
     "output_type": "stream",
     "text": [
      "no env var SINGLELINE_DATA_HOME, defaulting to: None\n"
     ]
    }
   ],
   "source": [
    "import math\n",
    "\n",
    "import pandas as pd\n",
    "from fastai.vision.all import *\n",
    "\n",
    "from singleline_dataset.embeddings import *\n",
    "from singleline_dataset.display import *\n",
    "from singleline_dataset.transforms import *\n",
    "from singleline_dataset.fileorg import *"
   ]
  },
  {
   "cell_type": "code",
   "execution_count": null,
   "metadata": {},
   "outputs": [],
   "source": [
    "EXTERNAL_PARENT_DIR = Path('/Users/al/Dropbox/2-Areas/2-Sketchbooks')\n",
    "EXTERNAL_SKETCHBOOKS_DIR = EXTERNAL_PARENT_DIR / 'sketchbooks'\n",
    "EXTERNAL_DATA_HOME = EXTERNAL_PARENT_DIR / 'singleline_data'"
   ]
  },
  {
   "cell_type": "code",
   "execution_count": null,
   "metadata": {},
   "outputs": [
    {
     "name": "stdout",
     "output_type": "stream",
     "text": [
      "no env var SINGLELINE_DATA_HOME, defaulting to: None\n"
     ]
    }
   ],
   "source": [
    "EPOCH = SketchbookEpoch(epoch='20240104', data_home=EXTERNAL_DATA_HOME)"
   ]
  },
  {
   "cell_type": "code",
   "execution_count": null,
   "metadata": {},
   "outputs": [
    {
     "data": {
      "text/html": [
       "<div>\n",
       "<style scoped>\n",
       "    .dataframe tbody tr th:only-of-type {\n",
       "        vertical-align: middle;\n",
       "    }\n",
       "\n",
       "    .dataframe tbody tr th {\n",
       "        vertical-align: top;\n",
       "    }\n",
       "\n",
       "    .dataframe thead th {\n",
       "        text-align: right;\n",
       "    }\n",
       "</style>\n",
       "<table border=\"1\" class=\"dataframe\">\n",
       "  <thead>\n",
       "    <tr style=\"text-align: right;\">\n",
       "      <th></th>\n",
       "      <th>new_idx</th>\n",
       "      <th>group_fname</th>\n",
       "      <th>group_id</th>\n",
       "      <th>group_num_strokes</th>\n",
       "      <th>group_num_points</th>\n",
       "      <th>indiv_fnamebboxsep_</th>\n",
       "      <th>orig_fname</th>\n",
       "      <th>labelbboxsep_</th>\n",
       "      <th>handlabeled_path</th>\n",
       "      <th>is_new</th>\n",
       "      <th>...</th>\n",
       "      <th>err_msg</th>\n",
       "      <th>indiv_fname</th>\n",
       "      <th>label</th>\n",
       "      <th>emb_csv</th>\n",
       "      <th>knn_dist</th>\n",
       "      <th>knn_clusterid</th>\n",
       "      <th>knn_label</th>\n",
       "      <th>cluster_label</th>\n",
       "      <th>rdp_num_points</th>\n",
       "      <th>rdp_epsilon</th>\n",
       "    </tr>\n",
       "    <tr>\n",
       "      <th>idx</th>\n",
       "      <th></th>\n",
       "      <th></th>\n",
       "      <th></th>\n",
       "      <th></th>\n",
       "      <th></th>\n",
       "      <th></th>\n",
       "      <th></th>\n",
       "      <th></th>\n",
       "      <th></th>\n",
       "      <th></th>\n",
       "      <th></th>\n",
       "      <th></th>\n",
       "      <th></th>\n",
       "      <th></th>\n",
       "      <th></th>\n",
       "      <th></th>\n",
       "      <th></th>\n",
       "      <th></th>\n",
       "      <th></th>\n",
       "      <th></th>\n",
       "      <th></th>\n",
       "    </tr>\n",
       "  </thead>\n",
       "  <tbody>\n",
       "    <tr>\n",
       "      <th>0</th>\n",
       "      <td>0</td>\n",
       "      <td>0_drawings/sb55p003g00.png</td>\n",
       "      <td>0</td>\n",
       "      <td>4</td>\n",
       "      <td>1510</td>\n",
       "      <td>sb55p003.jpg</td>\n",
       "      <td>art/sb55p003.jpg</td>\n",
       "      <td>art</td>\n",
       "      <td>0_drawings/sb55p003.jpg</td>\n",
       "      <td>False</td>\n",
       "      <td>...</td>\n",
       "      <td>NaN</td>\n",
       "      <td>sb55p003g00.png</td>\n",
       "      <td>0_drawings</td>\n",
       "      <td>0.04728329,-0.5714155,-0.73929733,-0.35399058,0.22400337,-0.65341413,0.11710799,-0.4896673,-0.7537334,-0.27084306,-0.43680793,-0.72562873,0.26104796,-0.6266761,-0.68991846,-0.57515705,-0.5467274,-0.6520286,2.2132683,-0.63401383,-0.64108604,0.0068377256,-0.5446661,-0.6779002,-0.40022308,-0.6690378,-0.25018138,-0.5982413,-0.73986673,1.0058696,-0.68509877,-0.67007643,0.5276551,-0.4592305,-0.600525,-0.3091834,-0.73933,-0.57338566,0.84570634,-0.6179389,-0.52985966,0.5803701,0.10534239,-0.6682474,-0.1908136,-0.59257406,-0.6157326,-0.6001429,1.3485551,1.1220317,0.10932493,-0.66552746,0.8113811,1....</td>\n",
       "      <td>196.44476</td>\n",
       "      <td>14</td>\n",
       "      <td>NaN</td>\n",
       "      <td>good</td>\n",
       "      <td>1510</td>\n",
       "      <td>0.0</td>\n",
       "    </tr>\n",
       "    <tr>\n",
       "      <th>1</th>\n",
       "      <td>1</td>\n",
       "      <td>0_drawings/sb73p061g00.png</td>\n",
       "      <td>0</td>\n",
       "      <td>2</td>\n",
       "      <td>128</td>\n",
       "      <td>sb73p061.jpg</td>\n",
       "      <td>art/sb73p061.jpg</td>\n",
       "      <td>art</td>\n",
       "      <td>0_drawings/sb73p061.jpg</td>\n",
       "      <td>False</td>\n",
       "      <td>...</td>\n",
       "      <td>NaN</td>\n",
       "      <td>sb73p061g00.png</td>\n",
       "      <td>0_drawings</td>\n",
       "      <td>-0.6198182,-0.5714155,-0.73929733,-0.6553513,-0.6254566,-0.65341413,-0.7267234,-0.46724933,-0.7537334,0.9455167,-0.62038505,-0.72562873,0.18925023,-0.6266761,0.33996195,-0.15316445,-0.5467274,0.03829068,1.0683823,0.23568732,-0.64108604,-0.55193967,-0.5446661,-0.022136033,1.4963098,-0.4510746,-0.4518578,-0.5982413,-0.28755826,0.1980134,-0.68509877,-0.67007643,-0.52171326,-0.19965711,-0.0069928765,-0.46161294,-0.73933,-0.50798476,0.03861904,0.68692446,-0.5830822,0.46990138,1.1344135,-0.6682474,0.6321523,-0.59257406,0.156174,-0.6001429,2.36085,0.16527855,-0.13570255,-0.63657653,0.61075664,0.7...</td>\n",
       "      <td>119.71115</td>\n",
       "      <td>10</td>\n",
       "      <td>NaN</td>\n",
       "      <td>good</td>\n",
       "      <td>128</td>\n",
       "      <td>0.0</td>\n",
       "    </tr>\n",
       "    <tr>\n",
       "      <th>5</th>\n",
       "      <td>5</td>\n",
       "      <td>0_drawings/sb73p041g00.png</td>\n",
       "      <td>0</td>\n",
       "      <td>3</td>\n",
       "      <td>702</td>\n",
       "      <td>sb73p041.jpg</td>\n",
       "      <td>art/sb73p041.jpg</td>\n",
       "      <td>art</td>\n",
       "      <td>0_drawings/sb73p041.jpg</td>\n",
       "      <td>False</td>\n",
       "      <td>...</td>\n",
       "      <td>NaN</td>\n",
       "      <td>sb73p041g00.png</td>\n",
       "      <td>0_drawings</td>\n",
       "      <td>-0.6198182,-0.5714155,-0.73929733,-0.6553513,-0.4395254,-0.65341413,-0.7267234,-0.30100727,-0.7537334,0.6979399,0.5823597,-0.72562873,-0.662768,0.702158,-0.6232817,-0.57515705,-0.22156492,-0.07576728,-0.25915077,0.7949797,-0.5030652,-0.55193967,-0.5446661,-0.6779002,-0.57759243,-0.6690378,-0.4518578,0.8875855,-0.73986673,0.2878165,-0.68509877,-0.67007643,-0.52171326,-0.20293939,-0.600525,0.28690326,-0.73933,0.13321829,-0.65925777,-0.6179389,-0.61049384,-0.58021957,-0.6189488,-0.6682474,-0.75794554,-0.59257406,0.2206502,-0.6001429,-0.3428496,-0.37840372,-0.59497476,-0.66552746,-0.6482407,0....</td>\n",
       "      <td>285.93152</td>\n",
       "      <td>8</td>\n",
       "      <td>NaN</td>\n",
       "      <td>good</td>\n",
       "      <td>702</td>\n",
       "      <td>0.0</td>\n",
       "    </tr>\n",
       "    <tr>\n",
       "      <th>6</th>\n",
       "      <td>6</td>\n",
       "      <td>0_drawings/sb73p041g01.png</td>\n",
       "      <td>1</td>\n",
       "      <td>1</td>\n",
       "      <td>205</td>\n",
       "      <td>sb73p041.jpg</td>\n",
       "      <td>art/sb73p041.jpg</td>\n",
       "      <td>art</td>\n",
       "      <td>0_drawings/sb73p041.jpg</td>\n",
       "      <td>False</td>\n",
       "      <td>...</td>\n",
       "      <td>NaN</td>\n",
       "      <td>sb73p041g01.png</td>\n",
       "      <td>0_drawings</td>\n",
       "      <td>-0.6198182,-0.5714155,-0.73929733,-0.6553513,0.058876395,-0.65341413,-0.7267234,-0.42173523,-0.7537334,0.7433976,0.19966531,-0.72562873,0.62771916,-0.6266761,-0.68991846,-0.57515705,-0.5467274,1.5417054,2.402433,-0.6497359,-0.64108604,-0.4386818,-0.5446661,-0.6779002,-0.57759243,-0.6690378,-0.4518578,0.11702931,-0.73986673,-0.45211998,-0.68509877,-0.67007643,-0.52171326,0.34430972,-0.48163074,-0.6186755,-0.73933,0.040438354,-0.65925777,0.7474549,-0.61049384,0.30740798,1.8930382,-0.6682474,-0.75794554,-0.59257406,-0.3586682,0.89375025,-0.651804,0.08712256,1.415978,-0.66552746,-0.6482407,-0....</td>\n",
       "      <td>179.57721</td>\n",
       "      <td>8</td>\n",
       "      <td>NaN</td>\n",
       "      <td>good</td>\n",
       "      <td>205</td>\n",
       "      <td>0.0</td>\n",
       "    </tr>\n",
       "    <tr>\n",
       "      <th>10</th>\n",
       "      <td>10</td>\n",
       "      <td>0_drawings/sb55p080g00.png</td>\n",
       "      <td>0</td>\n",
       "      <td>4</td>\n",
       "      <td>1462</td>\n",
       "      <td>sb55p080.jpg</td>\n",
       "      <td>art/sb55p080.jpg</td>\n",
       "      <td>art</td>\n",
       "      <td>0_drawings/sb55p080.jpg</td>\n",
       "      <td>False</td>\n",
       "      <td>...</td>\n",
       "      <td>NaN</td>\n",
       "      <td>sb55p080g00.png</td>\n",
       "      <td>0_drawings</td>\n",
       "      <td>-0.6198182,-0.5714155,-0.12864059,-0.6553513,0.03367281,-0.3521561,-0.7267234,-0.47485968,-0.7537334,-0.42715576,1.136474,-0.72562873,2.6017675,-0.6266761,-0.68991846,-0.57515705,-0.5467274,1.0752423,-0.02930379,1.118658,0.39956325,-0.55193967,-0.5446661,-0.6779002,-0.57759243,-0.6690378,-0.4518578,0.16788304,-0.42450532,-0.45211998,-0.68509877,-0.67007643,-0.23189741,0.37339267,1.0403941,0.11935049,-0.73933,-0.19533288,1.3258636,-0.53331745,-0.61049384,1.4947255,0.25517285,-0.59559596,-0.75794554,-0.59257406,0.2976374,-0.6001429,-0.651804,0.09863156,1.5771475,-0.66552746,-0.15108436,0.443...</td>\n",
       "      <td>143.85107</td>\n",
       "      <td>5</td>\n",
       "      <td>NaN</td>\n",
       "      <td>good</td>\n",
       "      <td>1462</td>\n",
       "      <td>0.0</td>\n",
       "    </tr>\n",
       "  </tbody>\n",
       "</table>\n",
       "<p>5 rows × 27 columns</p>\n",
       "</div>"
      ],
      "text/plain": [
       "     new_idx                 group_fname  group_id  group_num_strokes  \\\n",
       "idx                                                                     \n",
       "0          0  0_drawings/sb55p003g00.png         0                  4   \n",
       "1          1  0_drawings/sb73p061g00.png         0                  2   \n",
       "5          5  0_drawings/sb73p041g00.png         0                  3   \n",
       "6          6  0_drawings/sb73p041g01.png         1                  1   \n",
       "10        10  0_drawings/sb55p080g00.png         0                  4   \n",
       "\n",
       "     group_num_points indiv_fnamebboxsep_        orig_fname labelbboxsep_  \\\n",
       "idx                                                                         \n",
       "0                1510        sb55p003.jpg  art/sb55p003.jpg           art   \n",
       "1                 128        sb73p061.jpg  art/sb73p061.jpg           art   \n",
       "5                 702        sb73p041.jpg  art/sb73p041.jpg           art   \n",
       "6                 205        sb73p041.jpg  art/sb73p041.jpg           art   \n",
       "10               1462        sb55p080.jpg  art/sb55p080.jpg           art   \n",
       "\n",
       "            handlabeled_path  is_new  ... err_msg      indiv_fname  \\\n",
       "idx                                   ...                            \n",
       "0    0_drawings/sb55p003.jpg   False  ...     NaN  sb55p003g00.png   \n",
       "1    0_drawings/sb73p061.jpg   False  ...     NaN  sb73p061g00.png   \n",
       "5    0_drawings/sb73p041.jpg   False  ...     NaN  sb73p041g00.png   \n",
       "6    0_drawings/sb73p041.jpg   False  ...     NaN  sb73p041g01.png   \n",
       "10   0_drawings/sb55p080.jpg   False  ...     NaN  sb55p080g00.png   \n",
       "\n",
       "          label  \\\n",
       "idx               \n",
       "0    0_drawings   \n",
       "1    0_drawings   \n",
       "5    0_drawings   \n",
       "6    0_drawings   \n",
       "10   0_drawings   \n",
       "\n",
       "                                                                                                                                                                                                                                                                                                                                                                                                                                                                                                                                                                                                                     emb_csv  \\\n",
       "idx                                                                                                                                                                                                                                                                                                                                                                                                                                                                                                                                                                                                                            \n",
       "0    0.04728329,-0.5714155,-0.73929733,-0.35399058,0.22400337,-0.65341413,0.11710799,-0.4896673,-0.7537334,-0.27084306,-0.43680793,-0.72562873,0.26104796,-0.6266761,-0.68991846,-0.57515705,-0.5467274,-0.6520286,2.2132683,-0.63401383,-0.64108604,0.0068377256,-0.5446661,-0.6779002,-0.40022308,-0.6690378,-0.25018138,-0.5982413,-0.73986673,1.0058696,-0.68509877,-0.67007643,0.5276551,-0.4592305,-0.600525,-0.3091834,-0.73933,-0.57338566,0.84570634,-0.6179389,-0.52985966,0.5803701,0.10534239,-0.6682474,-0.1908136,-0.59257406,-0.6157326,-0.6001429,1.3485551,1.1220317,0.10932493,-0.66552746,0.8113811,1....   \n",
       "1    -0.6198182,-0.5714155,-0.73929733,-0.6553513,-0.6254566,-0.65341413,-0.7267234,-0.46724933,-0.7537334,0.9455167,-0.62038505,-0.72562873,0.18925023,-0.6266761,0.33996195,-0.15316445,-0.5467274,0.03829068,1.0683823,0.23568732,-0.64108604,-0.55193967,-0.5446661,-0.022136033,1.4963098,-0.4510746,-0.4518578,-0.5982413,-0.28755826,0.1980134,-0.68509877,-0.67007643,-0.52171326,-0.19965711,-0.0069928765,-0.46161294,-0.73933,-0.50798476,0.03861904,0.68692446,-0.5830822,0.46990138,1.1344135,-0.6682474,0.6321523,-0.59257406,0.156174,-0.6001429,2.36085,0.16527855,-0.13570255,-0.63657653,0.61075664,0.7...   \n",
       "5    -0.6198182,-0.5714155,-0.73929733,-0.6553513,-0.4395254,-0.65341413,-0.7267234,-0.30100727,-0.7537334,0.6979399,0.5823597,-0.72562873,-0.662768,0.702158,-0.6232817,-0.57515705,-0.22156492,-0.07576728,-0.25915077,0.7949797,-0.5030652,-0.55193967,-0.5446661,-0.6779002,-0.57759243,-0.6690378,-0.4518578,0.8875855,-0.73986673,0.2878165,-0.68509877,-0.67007643,-0.52171326,-0.20293939,-0.600525,0.28690326,-0.73933,0.13321829,-0.65925777,-0.6179389,-0.61049384,-0.58021957,-0.6189488,-0.6682474,-0.75794554,-0.59257406,0.2206502,-0.6001429,-0.3428496,-0.37840372,-0.59497476,-0.66552746,-0.6482407,0....   \n",
       "6    -0.6198182,-0.5714155,-0.73929733,-0.6553513,0.058876395,-0.65341413,-0.7267234,-0.42173523,-0.7537334,0.7433976,0.19966531,-0.72562873,0.62771916,-0.6266761,-0.68991846,-0.57515705,-0.5467274,1.5417054,2.402433,-0.6497359,-0.64108604,-0.4386818,-0.5446661,-0.6779002,-0.57759243,-0.6690378,-0.4518578,0.11702931,-0.73986673,-0.45211998,-0.68509877,-0.67007643,-0.52171326,0.34430972,-0.48163074,-0.6186755,-0.73933,0.040438354,-0.65925777,0.7474549,-0.61049384,0.30740798,1.8930382,-0.6682474,-0.75794554,-0.59257406,-0.3586682,0.89375025,-0.651804,0.08712256,1.415978,-0.66552746,-0.6482407,-0....   \n",
       "10   -0.6198182,-0.5714155,-0.12864059,-0.6553513,0.03367281,-0.3521561,-0.7267234,-0.47485968,-0.7537334,-0.42715576,1.136474,-0.72562873,2.6017675,-0.6266761,-0.68991846,-0.57515705,-0.5467274,1.0752423,-0.02930379,1.118658,0.39956325,-0.55193967,-0.5446661,-0.6779002,-0.57759243,-0.6690378,-0.4518578,0.16788304,-0.42450532,-0.45211998,-0.68509877,-0.67007643,-0.23189741,0.37339267,1.0403941,0.11935049,-0.73933,-0.19533288,1.3258636,-0.53331745,-0.61049384,1.4947255,0.25517285,-0.59559596,-0.75794554,-0.59257406,0.2976374,-0.6001429,-0.651804,0.09863156,1.5771475,-0.66552746,-0.15108436,0.443...   \n",
       "\n",
       "      knn_dist  knn_clusterid  knn_label  cluster_label rdp_num_points  \\\n",
       "idx                                                                      \n",
       "0    196.44476             14        NaN           good           1510   \n",
       "1    119.71115             10        NaN           good            128   \n",
       "5    285.93152              8        NaN           good            702   \n",
       "6    179.57721              8        NaN           good            205   \n",
       "10   143.85107              5        NaN           good           1462   \n",
       "\n",
       "    rdp_epsilon  \n",
       "idx              \n",
       "0           0.0  \n",
       "1           0.0  \n",
       "5           0.0  \n",
       "6           0.0  \n",
       "10          0.0  \n",
       "\n",
       "[5 rows x 27 columns]"
      ]
     },
     "execution_count": null,
     "metadata": {},
     "output_type": "execute_result"
    }
   ],
   "source": [
    "THRESHOLDED_OUTPUT_DIR = EPOCH.dir_08_THRESHOLDED()\n",
    "THESHOLDED_TSV_FNAME = EPOCH.tsv_08_THRESHOLDED()\n",
    "fjdf = pd.read_csv(THESHOLDED_TSV_FNAME, delimiter=\"\\t\", index_col=\"idx\")\n",
    "fjdf.head()"
   ]
  },
  {
   "cell_type": "code",
   "execution_count": null,
   "metadata": {},
   "outputs": [],
   "source": [
    "THRESHOLDED_NPZ_ALL = THRESHOLDED_OUTPUT_DIR / 'furtherfiltered_all.npz'\n",
    "ds = np.load(THRESHOLDED_NPZ_ALL, encoding='latin1', allow_pickle=True)['arr_0']"
   ]
  },
  {
   "cell_type": "markdown",
   "metadata": {},
   "source": [
    "### augmentation??"
   ]
  },
  {
   "cell_type": "code",
   "execution_count": null,
   "metadata": {},
   "outputs": [],
   "source": [
    "def augment_strokes(strokes, prob=0.0):\n",
    "    \"\"\"Perform data augmentation by randomly dropping out strokes.\"\"\"\n",
    "    # drop each point within a line segments with a probability of prob\n",
    "    # note that the logic in the loop prevents points at the ends to be dropped.\n",
    "    result = []\n",
    "    prev_stroke = [0, 0, 1]\n",
    "    count = 0\n",
    "    stroke = [0, 0, 1]  # Added to be safe.\n",
    "    for i in range(len(strokes)):\n",
    "        candidate = [strokes[i][0], strokes[i][1], strokes[i][2]]\n",
    "        if candidate[2] == 1 or prev_stroke[2] == 1:\n",
    "            count = 0\n",
    "        else:\n",
    "            count += 1\n",
    "        urnd = np.random.rand()  # uniform random variable\n",
    "        if candidate[2] == 0 and prev_stroke[2] == 0 and count > 2 and urnd < prob:\n",
    "            stroke[0] += candidate[0]\n",
    "            stroke[1] += candidate[1]\n",
    "        else:\n",
    "            stroke = candidate\n",
    "            prev_stroke = stroke\n",
    "            result.append(stroke)\n",
    "    return np.array(result)"
   ]
  },
  {
   "cell_type": "code",
   "execution_count": null,
   "metadata": {},
   "outputs": [
    {
     "data": {
      "image/png": "[encoded data removed]",
      "text/plain": [
       "<Figure size 432x288 with 1 Axes>"
      ]
     },
     "metadata": {},
     "output_type": "display_data"
    }
   ],
   "source": [
    "plot_strokes(deltas_to_strokes(ds[3]))"
   ]
  },
  {
   "cell_type": "code",
   "execution_count": null,
   "metadata": {},
   "outputs": [],
   "source": []
  },
  {
   "cell_type": "code",
   "execution_count": null,
   "metadata": {},
   "outputs": [
    {
     "data": {
      "image/png": "[encoded data removed]",
      "text/plain": [
       "<Figure size 432x288 with 1 Axes>"
      ]
     },
     "metadata": {},
     "output_type": "display_data"
    }
   ],
   "source": [
    "aug3 = augment_strokes(ds[3], prob=0.6)\n",
    "plot_strokes(deltas_to_strokes(aug3))"
   ]
  },
  {
   "cell_type": "code",
   "execution_count": null,
   "metadata": {},
   "outputs": [
    {
     "name": "stdout",
     "output_type": "stream",
     "text": [
      "197\n"
     ]
    }
   ],
   "source": [
    "create_animation(deltas_to_strokes(ds[3]))"
   ]
  },
  {
   "cell_type": "code",
   "execution_count": null,
   "metadata": {},
   "outputs": [
    {
     "data": {
      "text/html": [
       "<video alt=\"video\" autoplay loop>\n",
       "                    <source src=\"data:video/mp4;base64,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\" type=\"video/mp4\" />\n",
       "                </video>"
      ],
      "text/plain": [
       "<IPython.core.display.HTML object>"
      ]
     },
     "metadata": {},
     "output_type": "display_data"
    }
   ],
   "source": [
    "show_video('video.mp4')"
   ]
  },
  {
   "cell_type": "code",
   "execution_count": null,
   "metadata": {},
   "outputs": [
    {
     "data": {
      "image/png": "[encoded data removed]",
      "text/plain": [
       "<Figure size 432x288 with 1 Axes>"
      ]
     },
     "metadata": {},
     "output_type": "display_data"
    }
   ],
   "source": [
    "plot_strokes(points_to_strokes(np.flip(deltas_to_points(ds[3]), axis=0)))"
   ]
  },
  {
   "cell_type": "code",
   "execution_count": null,
   "metadata": {},
   "outputs": [
    {
     "name": "stdout",
     "output_type": "stream",
     "text": [
      "197\n"
     ]
    }
   ],
   "source": [
    "create_animation(points_to_strokes(np.flip(deltas_to_points(ds[3]), axis=0)))"
   ]
  },
  {
   "cell_type": "code",
   "execution_count": null,
   "metadata": {},
   "outputs": [
    {
     "data": {
      "text/html": [
       "<video alt=\"video\" autoplay loop>\n",
       "                    <source src=\"data:video/mp4;base64,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\" type=\"video/mp4\" />\n",
       "                </video>"
      ],
      "text/plain": [
       "<IPython.core.display.HTML object>"
      ]
     },
     "metadata": {},
     "output_type": "display_data"
    }
   ],
   "source": [
    "show_video('video.mp4')"
   ]
  },
  {
   "cell_type": "code",
   "execution_count": null,
   "metadata": {},
   "outputs": [],
   "source": [
    "rot3 = apply_transform(deltas_to_points(ds[3])[:,:2], rotate_xform(-35))"
   ]
  },
  {
   "cell_type": "code",
   "execution_count": null,
   "metadata": {},
   "outputs": [],
   "source": [
    "rot_deltas3 = points_to_deltas(rot3)"
   ]
  },
  {
   "cell_type": "code",
   "execution_count": null,
   "metadata": {},
   "outputs": [],
   "source": [
    "rot_deltas3[:,2] = ds[3][:,2]"
   ]
  },
  {
   "cell_type": "code",
   "execution_count": null,
   "metadata": {},
   "outputs": [
    {
     "data": {
      "image/png": "[encoded data removed]",
      "text/plain": [
       "<Figure size 432x288 with 1 Axes>"
      ]
     },
     "metadata": {},
     "output_type": "display_data"
    }
   ],
   "source": [
    "plot_strokes(deltas_to_strokes(rot_deltas3))"
   ]
  },
  {
   "cell_type": "code",
   "execution_count": null,
   "metadata": {},
   "outputs": [
    {
     "data": {
      "text/plain": [
       "1550"
      ]
     },
     "execution_count": null,
     "metadata": {},
     "output_type": "execute_result"
    }
   ],
   "source": [
    "len(ds)"
   ]
  },
  {
   "cell_type": "code",
   "execution_count": null,
   "metadata": {},
   "outputs": [],
   "source": [
    "incl_flipped = []\n",
    "\n",
    "for idx in range(len(ds)):\n",
    "    row = ds[idx]\n",
    "    flipped_row = points_to_deltas(np.flip(deltas_to_points(row), axis=0))\n",
    "    incl_flipped.extend([row, flipped_row])"
   ]
  },
  {
   "cell_type": "code",
   "execution_count": null,
   "metadata": {},
   "outputs": [
    {
     "data": {
      "text/plain": [
       "3100"
      ]
     },
     "execution_count": null,
     "metadata": {},
     "output_type": "execute_result"
    }
   ],
   "source": [
    "len(incl_flipped)"
   ]
  },
  {
   "cell_type": "code",
   "execution_count": null,
   "metadata": {},
   "outputs": [],
   "source": []
  },
  {
   "cell_type": "code",
   "execution_count": null,
   "metadata": {},
   "outputs": [],
   "source": [
    "## Todo: code to generate my latest dataset\n",
    "\n",
    "NUM_AUG = 10\n",
    "AUG_PROB = 0.5\n",
    "NUM_DEGREES = 15"
   ]
  },
  {
   "cell_type": "code",
   "execution_count": null,
   "metadata": {},
   "outputs": [],
   "source": []
  },
  {
   "cell_type": "code",
   "execution_count": null,
   "metadata": {},
   "outputs": [],
   "source": []
  },
  {
   "cell_type": "code",
   "execution_count": null,
   "metadata": {},
   "outputs": [],
   "source": []
  },
  {
   "cell_type": "code",
   "execution_count": null,
   "metadata": {},
   "outputs": [],
   "source": []
  },
  {
   "cell_type": "code",
   "execution_count": null,
   "metadata": {},
   "outputs": [],
   "source": []
  },
  {
   "cell_type": "code",
   "execution_count": null,
   "metadata": {},
   "outputs": [],
   "source": []
  },
  {
   "cell_type": "code",
   "execution_count": null,
   "metadata": {},
   "outputs": [],
   "source": [
    "# #| hide\n",
    "# import nbdev\n",
    "\n",
    "# nbdev.nbdev_export()"
   ]
  },
  {
   "cell_type": "code",
   "execution_count": null,
   "metadata": {},
   "outputs": [],
   "source": []
  }
 ],
 "metadata": {
  "kernelspec": {
   "display_name": "python3",
   "language": "python",
   "name": "python3"
  }
 },
 "nbformat": 4,
 "nbformat_minor": 4
}
