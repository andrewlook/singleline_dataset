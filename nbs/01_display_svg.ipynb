{
 "cells": [
  {
   "cell_type": "markdown",
   "metadata": {},
   "source": [
    "# display_svg\n",
    "\n",
    "> Displaying and writing SVG files from stroke data."
   ]
  },
  {
   "cell_type": "code",
   "execution_count": null,
   "metadata": {},
   "outputs": [],
   "source": [
    "#| default_exp stroke3.display_svg"
   ]
  },
  {
   "cell_type": "code",
   "execution_count": null,
   "metadata": {},
   "outputs": [],
   "source": [
    "#| hide\n",
    "%load_ext autoreload\n",
    "%autoreload 2"
   ]
  },
  {
   "cell_type": "code",
   "execution_count": null,
   "metadata": {},
   "outputs": [],
   "source": [
    "#| hide\n",
    "from nbdev.showdoc import *"
   ]
  },
  {
   "cell_type": "code",
   "execution_count": null,
   "metadata": {},
   "outputs": [],
   "source": [
    "#| export\n",
    "import random\n",
    "\n",
    "\n",
    "def randcolor(min_color_intensity=0, max_color_intensity=255):\n",
    "    def _randc():\n",
    "        return str(random.randint(min_color_intensity, max_color_intensity))\n",
    "\n",
    "    return f\"rgb({_randc()},{_randc()},{_randc()})\""
   ]
  },
  {
   "cell_type": "code",
   "execution_count": null,
   "metadata": {},
   "outputs": [],
   "source": [
    "#| export\n",
    "import svgwrite\n",
    "\n",
    "\n",
    "def render_strokes(strokes, target_size=200, stroke_width=1):\n",
    "    dwg = svgwrite.Drawing(size=(f\"{target_size}px\", f\"{target_size}px\"), debug=True)\n",
    "    the_color = randcolor()\n",
    "\n",
    "    for points in strokes:\n",
    "        prev = None\n",
    "        for row in points:\n",
    "            x, y = row[0], row[1]\n",
    "            pt = (x, y)\n",
    "            if prev:\n",
    "                # dist = np.linalg.norm(np.array(pt) - np.array(prev))\n",
    "                # if dist < 60:\n",
    "                dwg.add(dwg.line(prev, pt, stroke=the_color, stroke_width=stroke_width))\n",
    "            prev = pt\n",
    "        the_color = randcolor()\n",
    "    return dwg"
   ]
  },
  {
   "cell_type": "code",
   "execution_count": null,
   "metadata": {},
   "outputs": [],
   "source": [
    "#| export\n",
    "def render_deltas(deltas, target_size=200, color_mode=True, stroke_width=1, factor=1.0):\n",
    "    dwg = svgwrite.Drawing(size=(target_size, target_size))\n",
    "    dwg.add(\n",
    "        dwg.rect(\n",
    "            insert=(0, 0),\n",
    "            size=(target_size, target_size),\n",
    "            fill=\"white\",\n",
    "        )\n",
    "    )\n",
    "\n",
    "    lift_pen = 1\n",
    "    abs_x = 0\n",
    "    abs_y = 0\n",
    "    the_color = \"#000\"\n",
    "    if color_mode:\n",
    "        the_color = randcolor()\n",
    "\n",
    "    for i in range(len(deltas)):\n",
    "        x = round(float(deltas[i, 0]) * factor, 3)\n",
    "        y = round(float(deltas[i, 1]) * factor, 3)\n",
    "\n",
    "        prev_x = round(abs_x, 3)\n",
    "        prev_y = round(abs_y, 3)\n",
    "\n",
    "        abs_x += x\n",
    "        abs_y += y\n",
    "\n",
    "        if lift_pen == 1:\n",
    "            p = \"M \" + str(abs_x) + \",\" + str(abs_y) + \" \"\n",
    "            if color_mode:\n",
    "                the_color = randcolor()\n",
    "        else:\n",
    "            p = (\n",
    "                \"M \"\n",
    "                + str(prev_x)\n",
    "                + \",\"\n",
    "                + str(prev_y)\n",
    "                + \" L \"\n",
    "                + str(abs_x)\n",
    "                + \",\"\n",
    "                + str(abs_y)\n",
    "                + \" \"\n",
    "            )\n",
    "\n",
    "        lift_pen = deltas[i, 2]\n",
    "\n",
    "        dwg.add(dwg.path(p).stroke(the_color, stroke_width).fill(the_color))\n",
    "    return dwg"
   ]
  },
  {
   "cell_type": "code",
   "execution_count": null,
   "metadata": {},
   "outputs": [],
   "source": []
  },
  {
   "cell_type": "code",
   "execution_count": null,
   "metadata": {},
   "outputs": [],
   "source": []
  },
  {
   "cell_type": "code",
   "execution_count": null,
   "metadata": {},
   "outputs": [],
   "source": []
  },
  {
   "cell_type": "code",
   "execution_count": null,
   "metadata": {},
   "outputs": [],
   "source": []
  },
  {
   "cell_type": "code",
   "execution_count": null,
   "metadata": {},
   "outputs": [],
   "source": [
    "#| hide\n",
    "import nbdev\n",
    "\n",
    "nbdev.nbdev_export()"
   ]
  },
  {
   "cell_type": "code",
   "execution_count": null,
   "metadata": {},
   "outputs": [],
   "source": []
  }
 ],
 "metadata": {
  "kernelspec": {
   "display_name": "python3",
   "language": "python",
   "name": "python3"
  }
 },
 "nbformat": 4,
 "nbformat_minor": 4
}
