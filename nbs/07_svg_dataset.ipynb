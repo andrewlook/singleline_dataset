{
 "cells": [
  {
   "cell_type": "markdown",
   "metadata": {},
   "source": [
    "# svg_dataset\n",
    "\n",
    "> End-to-end functions taking in centerline-stroke SVG's and outputting deltas in Stroke-3 format."
   ]
  },
  {
   "cell_type": "code",
   "execution_count": null,
   "metadata": {},
   "outputs": [],
   "source": [
    "#| default_exp svg_dataset"
   ]
  },
  {
   "cell_type": "code",
   "execution_count": null,
   "metadata": {},
   "outputs": [],
   "source": [
    "#| hide\n",
    "%load_ext autoreload\n",
    "%autoreload 2"
   ]
  },
  {
   "cell_type": "code",
   "execution_count": null,
   "metadata": {},
   "outputs": [],
   "source": [
    "#| hide\n",
    "from nbdev.showdoc import *"
   ]
  },
  {
   "cell_type": "code",
   "execution_count": null,
   "metadata": {},
   "outputs": [],
   "source": [
    "# |hide"
   ]
  },
  {
   "cell_type": "code",
   "execution_count": null,
   "metadata": {},
   "outputs": [],
   "source": []
  },
  {
   "cell_type": "code",
   "execution_count": null,
   "metadata": {},
   "outputs": [
    {
     "name": "stderr",
     "output_type": "stream",
     "text": [
      "[autoreload of singleline_dataset.stroke3 failed: Traceback (most recent call last):\n",
      "  File \"/Users/al/code/_svg/singleline-dataset/venv3/lib/python3.8/site-packages/IPython/extensions/autoreload.py\", line 273, in check\n",
      "    superreload(m, reload, self.old_objects)\n",
      "  File \"/Users/al/code/_svg/singleline-dataset/venv3/lib/python3.8/site-packages/IPython/extensions/autoreload.py\", line 471, in superreload\n",
      "    module = reload(module)\n",
      "  File \"/Users/al/miniconda3_m1/lib/python3.8/importlib/__init__.py\", line 169, in reload\n",
      "    _bootstrap._exec(spec, module)\n",
      "  File \"<frozen importlib._bootstrap>\", line 604, in _exec\n",
      "  File \"<frozen importlib._bootstrap_external>\", line 843, in exec_module\n",
      "  File \"<frozen importlib._bootstrap>\", line 219, in _call_with_frames_removed\n",
      "  File \"/Users/al/code/_svg/singleline-dataset/singleline_dataset/stroke3.py\", line 10, in <module>\n",
      "    from .stroke3 import strokes_to_deltas\n",
      "ImportError: cannot import name 'strokes_to_deltas' from 'singleline_dataset.stroke3' (/Users/al/code/_svg/singleline-dataset/singleline_dataset/stroke3.py)\n",
      "]\n"
     ]
    }
   ],
   "source": [
    "#| export\n",
    "from singleline_dataset.path_helpers import discretize_paths\n",
    "from singleline_dataset.path_transforms import rdpify, rescale_strokes, transform_paths\n",
    "from singleline_dataset.stroke3 import strokes_to_deltas\n",
    "from singleline_dataset.svg_files import load_svg\n",
    "from singleline_dataset.svg_transforms import svg_to_transforms\n",
    "\n",
    "\n",
    "def svg_to_stroke_deltas(\n",
    "    input_fname, total_n=1000, min_n=3, target_size=200, epsilon=2.0\n",
    "):\n",
    "    paths, attributes, svg_attributes, svg_root = load_svg(input_fname)\n",
    "    all_strokes = discretize_paths(paths, total_n=total_n, min_n=min_n)\n",
    "\n",
    "    globally_rescaled_strokes = transform_paths(\n",
    "        all_strokes, global_transform=svg_to_transforms(svg_root)\n",
    "    )\n",
    "\n",
    "    rescaled_strokes = rescale_strokes(globally_rescaled_strokes, target_size)\n",
    "    rdp_strokes = rdpify(rescaled_strokes, epsilon)\n",
    "    deltas = strokes_to_deltas(rdp_strokes)\n",
    "\n",
    "    ## roundtrip / sanity check\n",
    "    # _rdp_strokes = stroke3.deltas_to_strokes(deltas)\n",
    "    # display_plot.plot_strokes(_rdp_strokes)\n",
    "\n",
    "    return deltas, rescaled_strokes"
   ]
  },
  {
   "cell_type": "code",
   "execution_count": null,
   "metadata": {},
   "outputs": [],
   "source": [
    "#| export\n",
    "def points_to_deltas(points):\n",
    "    p2 = points.copy()\n",
    "    # first row should stay the same\n",
    "    # cols 0,1 of every row onwards should be a delta from the previous row.\n",
    "    p2[1:, :2] = points[1:, :2] - points[:-1, :2]\n",
    "    return p2"
   ]
  },
  {
   "cell_type": "code",
   "execution_count": null,
   "metadata": {},
   "outputs": [],
   "source": [
    "#| export\n",
    "def strokes_to_deltas(strokes):\n",
    "    points = strokes_to_points(strokes)\n",
    "    return points_to_deltas(points)"
   ]
  },
  {
   "cell_type": "code",
   "execution_count": null,
   "metadata": {},
   "outputs": [],
   "source": [
    "#| export\n",
    "def deltas_to_points(_seq):\n",
    "    seq = np.zeros_like(_seq)\n",
    "    seq[:, 0:2] = np.cumsum(_seq[:, 0:2], axis=0)\n",
    "    seq[:, 2] = _seq[:, 2]\n",
    "    return seq"
   ]
  },
  {
   "cell_type": "code",
   "execution_count": null,
   "metadata": {},
   "outputs": [],
   "source": [
    "#| export\n",
    "def points_to_strokes(_seq):\n",
    "    strokes = np.split(_seq, np.where(_seq[:, 2] > 0)[0] + 1)\n",
    "    return strokes"
   ]
  },
  {
   "cell_type": "code",
   "execution_count": null,
   "metadata": {},
   "outputs": [],
   "source": [
    "#| export\n",
    "def deltas_to_strokes(_seq):\n",
    "    points = deltas_to_points(_seq)\n",
    "    return points_to_strokes(points)"
   ]
  },
  {
   "cell_type": "code",
   "execution_count": null,
   "metadata": {},
   "outputs": [],
   "source": []
  },
  {
   "cell_type": "code",
   "execution_count": null,
   "metadata": {},
   "outputs": [],
   "source": [
    "#| hide\n",
    "import nbdev\n",
    "\n",
    "nbdev.nbdev_export()"
   ]
  },
  {
   "cell_type": "code",
   "execution_count": null,
   "metadata": {},
   "outputs": [],
   "source": []
  }
 ],
 "metadata": {
  "kernelspec": {
   "display_name": "python3",
   "language": "python",
   "name": "python3"
  }
 },
 "nbformat": 4,
 "nbformat_minor": 4
}
