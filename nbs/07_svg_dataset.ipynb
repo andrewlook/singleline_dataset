{
 "cells": [
  {
   "cell_type": "markdown",
   "metadata": {},
   "source": [
    "# svg_dataset\n",
    "\n",
    "> End-to-end functions taking in centerline-stroke SVG's and outputting deltas in Stroke-3 format."
   ]
  },
  {
   "cell_type": "code",
   "execution_count": null,
   "metadata": {},
   "outputs": [],
   "source": [
    "#| default_exp stroke3"
   ]
  },
  {
   "cell_type": "code",
   "execution_count": null,
   "metadata": {},
   "outputs": [],
   "source": [
    "#| hide\n",
    "%load_ext autoreload\n",
    "%autoreload 2"
   ]
  },
  {
   "cell_type": "code",
   "execution_count": null,
   "metadata": {},
   "outputs": [],
   "source": [
    "#| hide\n",
    "from nbdev.showdoc import *"
   ]
  },
  {
   "cell_type": "code",
   "execution_count": null,
   "metadata": {},
   "outputs": [],
   "source": [
    "# |hide"
   ]
  },
  {
   "cell_type": "code",
   "execution_count": null,
   "metadata": {},
   "outputs": [],
   "source": []
  },
  {
   "cell_type": "code",
   "execution_count": null,
   "metadata": {},
   "outputs": [
    {
     "ename": "ModuleNotFoundError",
     "evalue": "No module named 'singleline_dataset.svg_global'",
     "output_type": "error",
     "traceback": [
      "\u001b[0;31m---------------------------------------------------------------------------\u001b[0m",
      "\u001b[0;31mModuleNotFoundError\u001b[0m                       Traceback (most recent call last)",
      "Cell \u001b[0;32mIn[5], line 6\u001b[0m\n\u001b[1;32m      4\u001b[0m \u001b[38;5;28;01mfrom\u001b[39;00m \u001b[38;5;21;01msingleline_dataset\u001b[39;00m\u001b[38;5;21;01m.\u001b[39;00m\u001b[38;5;21;01mstroke3\u001b[39;00m \u001b[38;5;28;01mimport\u001b[39;00m strokes_to_deltas\n\u001b[1;32m      5\u001b[0m \u001b[38;5;28;01mfrom\u001b[39;00m \u001b[38;5;21;01msingleline_dataset\u001b[39;00m\u001b[38;5;21;01m.\u001b[39;00m\u001b[38;5;21;01msvg_files\u001b[39;00m \u001b[38;5;28;01mimport\u001b[39;00m load_svg\n\u001b[0;32m----> 6\u001b[0m \u001b[38;5;28;01mfrom\u001b[39;00m \u001b[38;5;21;01msingleline_dataset\u001b[39;00m\u001b[38;5;21;01m.\u001b[39;00m\u001b[38;5;21;01msvg_global\u001b[39;00m \u001b[38;5;28;01mimport\u001b[39;00m svg_to_transforms\n\u001b[1;32m      9\u001b[0m \u001b[38;5;28;01mdef\u001b[39;00m \u001b[38;5;21msvg_to_stroke_deltas\u001b[39m(\n\u001b[1;32m     10\u001b[0m     input_fname, total_n\u001b[38;5;241m=\u001b[39m\u001b[38;5;241m1000\u001b[39m, min_n\u001b[38;5;241m=\u001b[39m\u001b[38;5;241m3\u001b[39m, target_size\u001b[38;5;241m=\u001b[39m\u001b[38;5;241m200\u001b[39m, epsilon\u001b[38;5;241m=\u001b[39m\u001b[38;5;241m2.0\u001b[39m\n\u001b[1;32m     11\u001b[0m ):\n\u001b[1;32m     12\u001b[0m     paths, attributes, svg_attributes, svg_root \u001b[38;5;241m=\u001b[39m load_svg(input_fname)\n",
      "\u001b[0;31mModuleNotFoundError\u001b[0m: No module named 'singleline_dataset.svg_global'"
     ]
    }
   ],
   "source": [
    "#| export\n",
    "from singleline_dataset.path_helpers import discretize_paths\n",
    "from singleline_dataset.path_transforms import rdpify, rescale_strokes, transform_paths\n",
    "from singleline_dataset.stroke3 import strokes_to_deltas\n",
    "from singleline_dataset.svg_files import load_svg\n",
    "from singleline_dataset.svg_transforms import svg_to_transforms\n",
    "\n",
    "\n",
    "def svg_to_stroke_deltas(\n",
    "    input_fname, total_n=1000, min_n=3, target_size=200, epsilon=2.0\n",
    "):\n",
    "    paths, attributes, svg_attributes, svg_root = load_svg(input_fname)\n",
    "    all_strokes = discretize_paths(paths, total_n=total_n, min_n=min_n)\n",
    "\n",
    "    globally_rescaled_strokes = transform_paths(\n",
    "        all_strokes, global_transform=svg_to_transforms(svg_root)\n",
    "    )\n",
    "\n",
    "    rescaled_strokes = rescale_strokes(globally_rescaled_strokes, target_size)\n",
    "    rdp_strokes = rdpify(rescaled_strokes, epsilon)\n",
    "    deltas = strokes_to_deltas(rdp_strokes)\n",
    "\n",
    "    ## roundtrip / sanity check\n",
    "    # _rdp_strokes = stroke3.deltas_to_strokes(deltas)\n",
    "    # display_plot.plot_strokes(_rdp_strokes)\n",
    "\n",
    "    return deltas, rescaled_strokes"
   ]
  },
  {
   "cell_type": "code",
   "execution_count": null,
   "metadata": {},
   "outputs": [],
   "source": [
    "#| export\n",
    "def points_to_deltas(points):\n",
    "    p2 = points.copy()\n",
    "    # first row should stay the same\n",
    "    # cols 0,1 of every row onwards should be a delta from the previous row.\n",
    "    p2[1:, :2] = points[1:, :2] - points[:-1, :2]\n",
    "    return p2"
   ]
  },
  {
   "cell_type": "code",
   "execution_count": null,
   "metadata": {},
   "outputs": [],
   "source": [
    "#| export\n",
    "def strokes_to_deltas(strokes):\n",
    "    points = strokes_to_points(strokes)\n",
    "    return points_to_deltas(points)"
   ]
  },
  {
   "cell_type": "code",
   "execution_count": null,
   "metadata": {},
   "outputs": [],
   "source": [
    "#| export\n",
    "def deltas_to_points(_seq):\n",
    "    seq = np.zeros_like(_seq)\n",
    "    seq[:, 0:2] = np.cumsum(_seq[:, 0:2], axis=0)\n",
    "    seq[:, 2] = _seq[:, 2]\n",
    "    return seq"
   ]
  },
  {
   "cell_type": "code",
   "execution_count": null,
   "metadata": {},
   "outputs": [],
   "source": [
    "#| export\n",
    "def points_to_strokes(_seq):\n",
    "    strokes = np.split(_seq, np.where(_seq[:, 2] > 0)[0] + 1)\n",
    "    return strokes"
   ]
  },
  {
   "cell_type": "code",
   "execution_count": null,
   "metadata": {},
   "outputs": [],
   "source": [
    "#| export\n",
    "def deltas_to_strokes(_seq):\n",
    "    points = deltas_to_points(_seq)\n",
    "    return points_to_strokes(points)"
   ]
  },
  {
   "cell_type": "code",
   "execution_count": null,
   "metadata": {},
   "outputs": [],
   "source": []
  },
  {
   "cell_type": "code",
   "execution_count": null,
   "metadata": {},
   "outputs": [],
   "source": [
    "#| hide\n",
    "import nbdev\n",
    "\n",
    "nbdev.nbdev_export()"
   ]
  },
  {
   "cell_type": "code",
   "execution_count": null,
   "metadata": {},
   "outputs": [],
   "source": []
  }
 ],
 "metadata": {
  "kernelspec": {
   "display_name": "python3",
   "language": "python",
   "name": "python3"
  }
 },
 "nbformat": 4,
 "nbformat_minor": 4
}
