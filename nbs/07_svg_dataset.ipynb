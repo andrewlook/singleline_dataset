{
 "cells": [
  {
   "cell_type": "markdown",
   "metadata": {},
   "source": [
    "# svg_dataset\n",
    "\n",
    "> End-to-end functions taking in centerline-stroke SVG's and outputting deltas in Stroke-3 format."
   ]
  },
  {
   "cell_type": "code",
   "execution_count": null,
   "metadata": {},
   "outputs": [],
   "source": [
    "#| default_exp stroke3.svg_dataset"
   ]
  },
  {
   "cell_type": "code",
   "execution_count": null,
   "metadata": {},
   "outputs": [],
   "source": [
    "#| hide\n",
    "%load_ext autoreload\n",
    "%autoreload 2"
   ]
  },
  {
   "cell_type": "code",
   "execution_count": null,
   "metadata": {},
   "outputs": [],
   "source": [
    "#| hide\n",
    "from nbdev.showdoc import *"
   ]
  },
  {
   "cell_type": "code",
   "execution_count": null,
   "metadata": {},
   "outputs": [],
   "source": [
    "# |hide"
   ]
  },
  {
   "cell_type": "code",
   "execution_count": null,
   "metadata": {},
   "outputs": [],
   "source": []
  },
  {
   "cell_type": "code",
   "execution_count": null,
   "metadata": {},
   "outputs": [],
   "source": [
    "#| export\n",
    "\n",
    "\n",
    "from singleline_dataset.stroke3.path_transforms import svg_to_strokes\n",
    "from singleline_dataset.stroke3.stroke3 import strokes_to_deltas, rdp_strokes\n",
    "\n",
    "\n",
    "def stroke_rdp_deltas(rescaled_strokes, epsilon=2.0):\n",
    "    rdp_strokes = rdp_strokes(rescaled_strokes, epsilon)\n",
    "    deltas = strokes_to_deltas(rdp_strokes)\n",
    "\n",
    "    ## roundtrip / sanity check\n",
    "    # _rdp_strokes = stroke3.deltas_to_strokes(deltas)\n",
    "    # display_plot.plot_strokes(_rdp_strokes)\n",
    "\n",
    "    return deltas, rescaled_strokes"
   ]
  },
  {
   "cell_type": "code",
   "execution_count": null,
   "metadata": {},
   "outputs": [],
   "source": [
    "#| export\n",
    "import os\n",
    "\n",
    "import numpy as np\n",
    "\n",
    "from singleline_dataset.stroke3.display_svg import render_deltas, render_strokes\n",
    "from singleline_dataset.stroke3.svg_files import enumerate_files\n",
    "\n",
    "\n",
    "def svgs_to_deltas(input_dir, output_dir=None, target_size=200, total_n=1000, min_n=3, epsilon=1.0):\n",
    "    if output_dir and not os.path.isdir(output_dir):\n",
    "        os.makedirs(output_dir)\n",
    "\n",
    "    dataset = []\n",
    "    for fname in enumerate_files(input_dir):\n",
    "        input_fname = os.path.join(input_dir, fname)\n",
    "\n",
    "        try:\n",
    "            rescaled_strokes = svg_to_strokes(input_fname, total_n=total_n, min_n=min_n)\n",
    "            deltas = stroke_rdp_deltas(rescaled_strokes, epsilon=epsilon)\n",
    "            dataset.append(deltas)\n",
    "\n",
    "            # monitor number of points before/after applying RDP path simplification algorithm\n",
    "            raw_points = np.vstack(rescaled_strokes).shape[0]\n",
    "            rdp_points = deltas.shape[0]\n",
    "            print(f\"{input_fname} points: raw={raw_points}, rdp={rdp_points}\")\n",
    "\n",
    "            if output_dir:\n",
    "                raw_output_fname = os.path.join(\n",
    "                    output_dir, fname.replace(\".svg\", \".raw.svg\")\n",
    "                )\n",
    "                preproc_output_fname = os.path.join(\n",
    "                    output_dir, fname.replace(\".svg\", \".preproc.svg\")\n",
    "                )\n",
    "\n",
    "                with open(raw_output_fname, \"w\", encoding=\"utf-8\") as raw_out:\n",
    "                    raw_dwg = render_strokes(rescaled_strokes, target_size=target_size)\n",
    "                    raw_dwg.write(raw_out, pretty=True)\n",
    "                    print(f\"\\twrote {raw_output_fname}\")\n",
    "\n",
    "                with open(preproc_output_fname, \"w\", encoding=\"utf-8\") as preproc_out:\n",
    "                    preproc_dwg = render_deltas(deltas, target_size=target_size)\n",
    "                    preproc_dwg.save(preproc_output_fname)\n",
    "                    print(f\"\\twrote {preproc_output_fname}\")\n",
    "        except Exception as e:\n",
    "            print(f\"error processing {input_fname}: {e}\")\n",
    "    return np.array(dataset, dtype=object)"
   ]
  },
  {
   "cell_type": "code",
   "execution_count": null,
   "metadata": {},
   "outputs": [],
   "source": []
  },
  {
   "cell_type": "code",
   "execution_count": null,
   "metadata": {},
   "outputs": [],
   "source": [
    "#| hide\n",
    "import nbdev\n",
    "\n",
    "nbdev.nbdev_export()"
   ]
  },
  {
   "cell_type": "code",
   "execution_count": null,
   "metadata": {},
   "outputs": [],
   "source": []
  }
 ],
 "metadata": {
  "kernelspec": {
   "display_name": "python3",
   "language": "python",
   "name": "python3"
  }
 },
 "nbformat": 4,
 "nbformat_minor": 4
}
