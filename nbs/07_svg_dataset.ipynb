{
 "cells": [
  {
   "cell_type": "markdown",
   "metadata": {},
   "source": [
    "# svg_dataset\n",
    "\n",
    "> End-to-end functions taking in centerline-stroke SVG's and outputting deltas in Stroke-3 format."
   ]
  },
  {
   "cell_type": "code",
   "execution_count": null,
   "metadata": {},
   "outputs": [],
   "source": [
    "#| default_exp stroke3.svg_dataset"
   ]
  },
  {
   "cell_type": "code",
   "execution_count": null,
   "metadata": {},
   "outputs": [
    {
     "name": "stdout",
     "output_type": "stream",
     "text": [
      "The autoreload extension is already loaded. To reload it, use:\n",
      "  %reload_ext autoreload\n"
     ]
    }
   ],
   "source": [
    "#| hide\n",
    "%load_ext autoreload\n",
    "%autoreload 2"
   ]
  },
  {
   "cell_type": "code",
   "execution_count": null,
   "metadata": {},
   "outputs": [],
   "source": [
    "#| hide\n",
    "from nbdev.showdoc import *"
   ]
  },
  {
   "cell_type": "code",
   "execution_count": null,
   "metadata": {},
   "outputs": [
    {
     "ename": "ModuleNotFoundError",
     "evalue": "No module named 'singleline_dataset.stroke3.path_transforms'; 'singleline_dataset.stroke3' is not a package",
     "output_type": "error",
     "traceback": [
      "\u001b[0;31m---------------------------------------------------------------------------\u001b[0m",
      "\u001b[0;31mModuleNotFoundError\u001b[0m                       Traceback (most recent call last)",
      "Cell \u001b[0;32mIn[39], line 2\u001b[0m\n\u001b[1;32m      1\u001b[0m \u001b[38;5;66;03m#| export\u001b[39;00m\n\u001b[0;32m----> 2\u001b[0m \u001b[38;5;28;01mfrom\u001b[39;00m \u001b[38;5;21;01msingleline_dataset\u001b[39;00m\u001b[38;5;21;01m.\u001b[39;00m\u001b[38;5;21;01mstroke3\u001b[39;00m\u001b[38;5;21;01m.\u001b[39;00m\u001b[38;5;21;01mpath_transforms\u001b[39;00m \u001b[38;5;28;01mimport\u001b[39;00m \u001b[38;5;241m*\u001b[39m\n\u001b[1;32m      3\u001b[0m \u001b[38;5;28;01mfrom\u001b[39;00m \u001b[38;5;21;01msingleline_dataset\u001b[39;00m\u001b[38;5;21;01m.\u001b[39;00m\u001b[38;5;21;01mstroke3\u001b[39;00m\u001b[38;5;21;01m.\u001b[39;00m\u001b[38;5;21;01mstroke3\u001b[39;00m \u001b[38;5;28;01mimport\u001b[39;00m \u001b[38;5;241m*\u001b[39m\n",
      "\u001b[0;31mModuleNotFoundError\u001b[0m: No module named 'singleline_dataset.stroke3.path_transforms'; 'singleline_dataset.stroke3' is not a package"
     ]
    }
   ],
   "source": [
    "#| export\n",
    "from singleline_dataset.stroke3.path_transforms import *\n",
    "from singleline_dataset.stroke3.stroke3 import *\n"
   ]
  },
  {
   "cell_type": "code",
   "execution_count": null,
   "metadata": {},
   "outputs": [],
   "source": []
  },
  {
   "cell_type": "code",
   "execution_count": null,
   "metadata": {},
   "outputs": [],
   "source": [
    "#| export\n",
    "\n",
    "\n",
    "def stroke_rdp_deltas(rescaled_strokes, epsilon=2.0):\n",
    "    rdp_result = rdp_strokes(rescaled_strokes, epsilon)\n",
    "    deltas = strokes_to_deltas(rdp_result)\n",
    "\n",
    "    ## roundtrip / sanity check\n",
    "    # _rdp_result = stroke3.deltas_to_strokes(deltas)\n",
    "    # display_plot.plot_strokes(_rdp_result)\n",
    "    \n",
    "    return deltas\n",
    "    "
   ]
  },
  {
   "cell_type": "code",
   "execution_count": null,
   "metadata": {},
   "outputs": [],
   "source": [
    "#| export\n",
    "import os\n",
    "\n",
    "import numpy as np\n",
    "\n",
    "from singleline_dataset.stroke3.display_svg import render_deltas, render_strokes\n",
    "from singleline_dataset.stroke3.display_plot import *\n",
    "from singleline_dataset.stroke3.stroke3 import *\n",
    "from singleline_dataset.stroke3.svg_files import enumerate_files\n",
    "from singleline_dataset.stroke3.path_joining import merge_until, splice_until\n",
    "\n",
    "\n",
    "def svgs_to_deltas(input_dir, output_dir=None, target_size=200, total_n=1000, min_n=3, epsilon=1.0, limit=None):\n",
    "    if output_dir:\n",
    "        svg_dir = os.path.join(output_dir, 'svg')\n",
    "        png_dir = os.path.join(output_dir, 'png')\n",
    "        for d in [svg_dir, png_dir]:\n",
    "            if not os.path.isdir(d):\n",
    "                os.makedirs(d)\n",
    "    \n",
    "    all_files = enumerate_files(input_dir)\n",
    "    print(f\"found {len(all_files)} in {input_dir}\")\n",
    "    dataset = []\n",
    "    for i, fname in enumerate(all_files):\n",
    "        if limit and i > limit:\n",
    "            break\n",
    "        input_fname = os.path.join(input_dir, fname)\n",
    "\n",
    "        try:\n",
    "            rescaled_strokes = svg_to_strokes(input_fname, total_n=total_n, min_n=min_n)\n",
    "\n",
    "            joined_strokes, _ = merge_until(rescaled_strokes, dist_threshold=15.0)\n",
    "            spliced_strokes, _ = splice_until(joined_strokes, dist_threshold=40.0)\n",
    "\n",
    "            print(f\"{fname}: {len(rescaled_strokes)} strokes -> {len(joined_strokes)} joined -> {len(spliced_strokes)} spliced\")\n",
    "\n",
    "            deltas = stroke_rdp_deltas(spliced_strokes, epsilon=epsilon)\n",
    "            dataset.append(deltas)\n",
    "\n",
    "            # monitor number of points before/after applying RDP path simplification algorithm\n",
    "            raw_points = np.vstack(rescaled_strokes).shape[0]\n",
    "            rdp_points = deltas.shape[0]\n",
    "            print(f\"{input_fname} points: raw={raw_points}, rdp={rdp_points}\")\n",
    "\n",
    "            if output_dir:\n",
    "                def new_suffix(subdir, fname, suffix):\n",
    "                    sd = os.path.join(output_dir, subdir)\n",
    "                    if not os.path.isdir(sd):\n",
    "                        os.makedirs(sd)\n",
    "                    return os.path.join(sd, fname.replace(\".svg\", suffix))\n",
    "                \n",
    "                final_n_strokes = len(spliced_strokes)\n",
    "                subdir = f'png/{final_n_strokes:02d}'\n",
    "                plot_strokes(rescaled_strokes, fname=new_suffix(subdir, fname, '.0_strokes.png'))\n",
    "                plot_strokes(joined_strokes, fname=new_suffix(subdir, fname, '.1_joined.png'))\n",
    "                plot_strokes(spliced_strokes, fname=new_suffix(subdir, fname, '.2_spliced.png'))\n",
    "                plot_strokes(deltas_to_strokes(deltas), fname=new_suffix(subdir, fname, '.3_deltas.png'))\n",
    "\n",
    "                # raw_output_fname = new_suffix('svg', fname, \".raw.svg\")\n",
    "                # with open(raw_output_fname, \"w\", encoding=\"utf-8\") as raw_out:\n",
    "                #     raw_dwg = render_strokes(rescaled_strokes, target_size=target_size)\n",
    "                #     raw_dwg.write(raw_out, pretty=True)\n",
    "                #     print(f\"\\twrote {raw_output_fname}\")\n",
    "\n",
    "                # preproc_output_fname = new_suffix('svg', fname, \".preproc.svg\")\n",
    "                # with open(preproc_output_fname, \"w\", encoding=\"utf-8\") as preproc_out:\n",
    "                #     preproc_dwg = render_deltas(deltas, target_size=target_size)\n",
    "                #     preproc_dwg.save(preproc_output_fname)\n",
    "                #     print(f\"\\twrote {preproc_output_fname}\")\n",
    "        except Exception as e:\n",
    "            print(f\"error processing idx={i} input_fname={input_fname}: {e}\")\n",
    "            #raise e\n",
    "    return np.array(dataset, dtype=object)"
   ]
  },
  {
   "cell_type": "markdown",
   "metadata": {},
   "source": []
  },
  {
   "cell_type": "code",
   "execution_count": null,
   "metadata": {},
   "outputs": [],
   "source": [
    "# input_dir = '../data/svg/'\n",
    "# output_dir = '../outputs'\n",
    "\n",
    "# # debug: only run for the first 10 files\n",
    "# limit = 10\n",
    "\n",
    "# _ = svgs_to_deltas(input_dir, output_dir, limit=limit)"
   ]
  },
  {
   "cell_type": "code",
   "execution_count": null,
   "metadata": {},
   "outputs": [],
   "source": [
    "# partial_dataset = svgs_to_deltas(input_dir, output_dir, limit=None)"
   ]
  },
  {
   "cell_type": "code",
   "execution_count": null,
   "metadata": {},
   "outputs": [],
   "source": [
    "# len(partial_dataset)\n",
    "\n",
    "# np.savez('../outputs/subset.npz', partial_dataset, encoding='latin1', allow_pickle=True)"
   ]
  },
  {
   "cell_type": "code",
   "execution_count": null,
   "metadata": {},
   "outputs": [],
   "source": [
    "## first dataset\n",
    "\n",
    "# full_dataset = svgs_to_deltas('../../svg-dataset/sketch_mgmt/imgs_sorted/drawings_svg_cropped/', '../outputs', limit=None)\n",
    "# np.savez('../datasets/v1-splice.npz', full_dataset, encoding='latin1', allow_pickle=True)"
   ]
  },
  {
   "cell_type": "code",
   "execution_count": null,
   "metadata": {},
   "outputs": [
    {
     "name": "stdout",
     "output_type": "stream",
     "text": [
      "found 1651 in ../../svg-dataset/sketch_mgmt/imgs_sorted/drawings_svg_cropped/\n",
      "1485.svg: 23 strokes -> 3 joined -> 1 spliced\n",
      "../../svg-dataset/sketch_mgmt/imgs_sorted/drawings_svg_cropped/1485.svg points: raw=994, rdp=177\n",
      "2832.svg: 55 strokes -> 9 joined -> 4 spliced\n",
      "../../svg-dataset/sketch_mgmt/imgs_sorted/drawings_svg_cropped/2832.svg points: raw=970, rdp=288\n",
      "2826.svg: 36 strokes -> 7 joined -> 3 spliced\n",
      "../../svg-dataset/sketch_mgmt/imgs_sorted/drawings_svg_cropped/2826.svg points: raw=994, rdp=226\n",
      "2198.svg: 39 strokes -> 6 joined -> 4 spliced\n",
      "../../svg-dataset/sketch_mgmt/imgs_sorted/drawings_svg_cropped/2198.svg points: raw=920, rdp=171\n",
      "0957.svg: 14 strokes -> 3 joined -> 3 spliced\n",
      "../../svg-dataset/sketch_mgmt/imgs_sorted/drawings_svg_cropped/0957.svg points: raw=1000, rdp=30\n",
      "1491.svg: 40 strokes -> 7 joined -> 1 spliced\n",
      "../../svg-dataset/sketch_mgmt/imgs_sorted/drawings_svg_cropped/1491.svg points: raw=987, rdp=252\n",
      "0758.svg: 34 strokes -> 9 joined -> 4 spliced\n",
      "../../svg-dataset/sketch_mgmt/imgs_sorted/drawings_svg_cropped/0758.svg points: raw=991, rdp=229\n",
      "0980.svg: 43 strokes -> 10 joined -> 3 spliced\n",
      "../../svg-dataset/sketch_mgmt/imgs_sorted/drawings_svg_cropped/0980.svg points: raw=961, rdp=253\n",
      "2629.svg: 24 strokes -> 5 joined -> 2 spliced\n",
      "../../svg-dataset/sketch_mgmt/imgs_sorted/drawings_svg_cropped/2629.svg points: raw=996, rdp=171\n"
     ]
    }
   ],
   "source": [
    "%%time\n",
    "\n",
    "full_dataset_eps05 = svgs_to_deltas(\n",
    "    '../../svg-dataset/sketch_mgmt/imgs_sorted/drawings_svg_cropped/',\n",
    "    '../outputs_segmented',\n",
    "    epsilon=0.5,\n",
    "    limit=None)\n",
    "print('-'*50 + '\\n' + len(full_dataset) + '\\n' + '-'*50)\n",
    "np.savez('../datasets/v2-splice-eps05-j15-s40.npz', full_dataset_eps05, encoding='latin1', allow_pickle=True)"
   ]
  },
  {
   "cell_type": "code",
   "execution_count": null,
   "metadata": {},
   "outputs": [],
   "source": []
  },
  {
   "cell_type": "code",
   "execution_count": null,
   "metadata": {},
   "outputs": [
    {
     "name": "stdout",
     "output_type": "stream",
     "text": [
      "    1651\n"
     ]
    }
   ],
   "source": [
    "!ls ../../svg-dataset/sketch_mgmt/imgs_sorted/drawings_svg_cropped/ | wc -l"
   ]
  },
  {
   "cell_type": "code",
   "execution_count": null,
   "metadata": {},
   "outputs": [],
   "source": [
    "rescaled_strokes = svg_to_strokes('../../svg-dataset/sketch_mgmt/imgs_sorted/drawings_svg_cropped/1812.svg', total_n=1000, min_n=3)\n",
    "plot_strokes(rescaled_strokes)\n",
    "joined_strokes, _ = merge_until(rescaled_strokes, dist_threshold=10.0)"
   ]
  },
  {
   "cell_type": "code",
   "execution_count": null,
   "metadata": {},
   "outputs": [],
   "source": []
  },
  {
   "cell_type": "code",
   "execution_count": null,
   "metadata": {},
   "outputs": [],
   "source": [
    "#| hide\n",
    "import nbdev\n",
    "\n",
    "nbdev.nbdev_export()"
   ]
  },
  {
   "cell_type": "code",
   "execution_count": null,
   "metadata": {},
   "outputs": [],
   "source": []
  }
 ],
 "metadata": {
  "kernelspec": {
   "display_name": "python3",
   "language": "python",
   "name": "python3"
  }
 },
 "nbformat": 4,
 "nbformat_minor": 4
}
