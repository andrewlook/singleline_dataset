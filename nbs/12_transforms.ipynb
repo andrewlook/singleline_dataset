{
 "cells": [
  {
   "cell_type": "markdown",
   "metadata": {},
   "source": [
    "# transforms\n",
    "\n",
    "> 2D Matrix transformations to manipulate a series of `(x,y)` coordinates."
   ]
  },
  {
   "cell_type": "code",
   "execution_count": null,
   "metadata": {},
   "outputs": [],
   "source": [
    "#| default_exp transforms"
   ]
  },
  {
   "cell_type": "code",
   "execution_count": null,
   "metadata": {},
   "outputs": [],
   "source": [
    "#| hide\n",
    "%load_ext autoreload\n",
    "%autoreload 2"
   ]
  },
  {
   "cell_type": "code",
   "execution_count": null,
   "metadata": {},
   "outputs": [],
   "source": [
    "#| hide\n",
    "from nbdev.showdoc import *\n",
    "from fastcore.test import *\n",
    "\n",
    "import math\n",
    "import matplotlib.pyplot as plt\n",
    "from matplotlib.lines import Line2D\n",
    "from matplotlib.patches import Arc"
   ]
  },
  {
   "cell_type": "code",
   "execution_count": null,
   "metadata": {},
   "outputs": [],
   "source": [
    "# |export\n",
    "from dataclasses import dataclass\n",
    "\n",
    "import numpy as np"
   ]
  },
  {
   "cell_type": "markdown",
   "metadata": {},
   "source": [
    "## 2D Affine Transformations\n",
    "\n",
    "For manipulating sets of stroke-3 coordinates, I often needed to transform the coordinates - rescaling, rotating, moving, etc.\n",
    "\n",
    "2D affine transformations are perfect for this. Each transformation is expressed as a matrix, and is applied by performing matrix multiplication against the 2D matrix of coordinates (with a column of `1` values concatenated next to `x` and `y` values).\n"
   ]
  },
  {
   "cell_type": "code",
   "execution_count": null,
   "metadata": {},
   "outputs": [],
   "source": [
    "#| exports\n",
    "def apply_transform(coords_2d, xform):\n",
    "    assert coords_2d.shape[1] == 2\n",
    "    assert xform.shape[0] == 3\n",
    "    assert xform.shape[1] == 3\n",
    "\n",
    "    coords_full = np.concatenate([coords_2d, np.ones((coords_2d.shape[0], 1))], axis=1)\n",
    "    assert coords_full.shape[0] == coords_2d.shape[0]\n",
    "    assert coords_full.shape[1] == 3\n",
    "\n",
    "    return xform.dot(coords_full.transpose()).transpose()[:,:2]"
   ]
  },
  {
   "cell_type": "markdown",
   "metadata": {},
   "source": [
    "Consider a sample set of x,y coordinates:\n",
    "\n",
    "|x|y|\n",
    "|-|-|\n",
    "|0|0|\n",
    "|0.5|0.5|\n",
    "|1|1|"
   ]
  },
  {
   "cell_type": "markdown",
   "metadata": {},
   "source": [
    "The simplest affine transformation is the identity.\n",
    "\n",
    "Multiplying the 2D coords by the following matrix will output an identical set of coordinates:\n",
    "```\n",
    "1   0   0\n",
    "0   1   0\n",
    "0   0   1\n",
    "```"
   ]
  },
  {
   "cell_type": "code",
   "execution_count": null,
   "metadata": {},
   "outputs": [],
   "source": [
    "#| exports\n",
    "def identity_xform():\n",
    "    return np.array([\n",
    "        [1, 0, 0],\n",
    "        [0, 1, 0],\n",
    "        [0, 0, 1]])"
   ]
  },
  {
   "cell_type": "code",
   "execution_count": null,
   "metadata": {},
   "outputs": [],
   "source": [
    "sample_coords = np.array([\n",
    "    [0.0,0.0],\n",
    "    [0.5,0.5],\n",
    "    [1.0,1.0],\n",
    "])\n",
    "\n",
    "test(apply_transform(sample_coords, identity_xform()),\n",
    "     sample_coords,\n",
    "     np.array_equal)"
   ]
  },
  {
   "cell_type": "markdown",
   "metadata": {},
   "source": [
    "Scaling a set of coordinates by `sx` in the `x` direction and `sy` in the `y` direction is as easy as multiplying by:\n",
    "```\n",
    "sx  0   0\n",
    "0   sy  0\n",
    "0   0   1\n",
    "```"
   ]
  },
  {
   "cell_type": "code",
   "execution_count": null,
   "metadata": {},
   "outputs": [],
   "source": [
    "#| exports\n",
    "def scale_xform(sx, sy):\n",
    "    return np.array([\n",
    "        [sx, 0, 0],\n",
    "        [0, sy, 0],\n",
    "        [0, 0, 1]])"
   ]
  },
  {
   "cell_type": "code",
   "execution_count": null,
   "metadata": {},
   "outputs": [],
   "source": [
    "scaled_coords_2x_3y = np.array([\n",
    "    [0.0,0.0],\n",
    "    [1.0,1.5],\n",
    "    [2.0,3.0],\n",
    "])\n",
    "\n",
    "test(apply_transform(sample_coords, scale_xform(sx=2.0, sy=3.0)),\n",
    "     scaled_coords_2x_3y,\n",
    "     np.array_equal)"
   ]
  },
  {
   "cell_type": "markdown",
   "metadata": {},
   "source": [
    "Translating a set of coordinates by `tx` in the `x` direction and `ty` in the `y` direction uses the following matrix.\n",
    "```\n",
    "1   0   tx\n",
    "0   1   ty\n",
    "0   0   1\n",
    "```"
   ]
  },
  {
   "cell_type": "code",
   "execution_count": null,
   "metadata": {},
   "outputs": [],
   "source": [
    "#| exports\n",
    "def translate_xform(tx, ty):\n",
    "    return np.array([\n",
    "        [1, 0, tx],\n",
    "        [0, 1, ty],\n",
    "        [0, 0, 1]])"
   ]
  },
  {
   "cell_type": "code",
   "execution_count": null,
   "metadata": {},
   "outputs": [],
   "source": [
    "translated_coords_2x_3y = np.array([\n",
    "    [2.0,3.0],\n",
    "    [2.5,3.5],\n",
    "    [3.0,4.0],\n",
    "])\n",
    "\n",
    "test(apply_transform(sample_coords, translate_xform(tx=2.0, ty=3.0)),\n",
    "     translated_coords_2x_3y,\n",
    "     np.array_equal)"
   ]
  },
  {
   "cell_type": "code",
   "execution_count": null,
   "metadata": {},
   "outputs": [],
   "source": [
    "#| hide\n",
    "def get_angle_plot(line1, line2, offset = 1, color = None, origin = [0,0], len_x_axis = 1, len_y_axis = 1):\n",
    "    l1xy = line1.get_xydata()\n",
    "\n",
    "    # Angle between line1 and x-axis\n",
    "    slope1 = (l1xy[1][1] - l1xy[0][1]) / float(l1xy[1][0] - l1xy[0][0])\n",
    "    angle1 = abs(math.degrees(math.atan(slope1))) # Taking only the positive angle\n",
    "\n",
    "    l2xy = line2.get_xydata()\n",
    "\n",
    "    # Angle between line2 and x-axis\n",
    "    slope2 = (l2xy[1][1] - l2xy[0][1]) / float(l2xy[1][0] - l2xy[0][0])\n",
    "    angle2 = abs(math.degrees(math.atan(slope2)))\n",
    "\n",
    "    theta1 = min(angle1, angle2)\n",
    "    theta2 = max(angle1, angle2)\n",
    "\n",
    "    angle = theta2 - theta1\n",
    "\n",
    "    if color is None:\n",
    "        color = line1.get_color() # Uses the color of line 1 if color parameter is not passed.\n",
    "\n",
    "    return Arc(origin,\n",
    "               width=len_x_axis*offset,\n",
    "               height=len_y_axis*offset,\n",
    "               angle=0,\n",
    "               theta1=theta1,\n",
    "               theta2=theta2,\n",
    "               color=color,\n",
    "               label=str(angle)+u\"\\u00b0\")\n",
    "\n",
    "def get_angle_text(angle_plot, label=None):\n",
    "    angle = angle_plot.get_label()[:-1] # Excluding the degree symbol\n",
    "    angle = \"%0.1f\"%float(angle)+u\"\\u00b0\" # Display angle up to 1 decimal place\n",
    "\n",
    "    # Get the vertices of the angle arc\n",
    "    vertices = angle_plot.get_verts()\n",
    "\n",
    "    # Get the midpoint of the arc extremes\n",
    "    x_width = (vertices[0][0] + vertices[-1][0]) / 2.0\n",
    "    y_width = (vertices[0][-1] + vertices[-1][-2]) / 2.0\n",
    "\n",
    "    separation_radius = max(x_width/2.0, y_width/2.0)\n",
    "\n",
    "    return [ x_width + separation_radius, y_width + separation_radius, angle if not label else f\"{label}: {angle}\"]       "
   ]
  },
  {
   "cell_type": "markdown",
   "metadata": {},
   "source": [
    "To rotate a set of 2D coordinates by `n` degrees, we first convert the desired angle of rotation from degrees to a value in radians, `theta`.\n",
    "\n",
    "Consider a point `(x1, y1)` at `(4, 4)` that I want to rotate by 30 degrees around the origin. If I make a line to the origin with length `r`, the angle between line1 and the x axis, which I'll call `phi`, is 45 degrees.\n",
    "\n",
    "```python\n",
    "x1 = r * cos(phi) = 4\n",
    "y1 = r * sin(phi) = 4\n",
    "```\n",
    "\n",
    "If I want to rotate it by 30 degrees, its final position at point `(x2, y2)` will be 45 + 30 = 75 degrees from the x-axis, equivalent to `phi + theta`.\n",
    "\n",
    "```python\n",
    "x2 = r * cos(phi + theta)\n",
    "y2 = r * sin(phi + theta)\n",
    "```"
   ]
  },
  {
   "cell_type": "code",
   "execution_count": null,
   "metadata": {},
   "outputs": [
    {
     "data": {
      "image/png": "[encoded data removed]",
      "text/plain": [
       "<Figure size 432x288 with 1 Axes>"
      ]
     },
     "metadata": {
      "needs_background": "light"
     },
     "output_type": "display_data"
    }
   ],
   "source": [
    "#| echo: false\n",
    "\n",
    "fig = plt.figure()\n",
    "\n",
    "line_1 = Line2D([0,4], [0,4], linewidth=1, linestyle = \"-\", color=\"green\")\n",
    "\n",
    "\n",
    "line2_radians = np.radians(75)\n",
    "line1_length = np.sqrt(4*4 + 4*4)\n",
    "x2 = np.cos(line2_radians)*line1_length\n",
    "y2 = np.sin(line2_radians)*line1_length\n",
    "line_2 = Line2D([0,x2], [0,y2], linewidth=1, linestyle = \"-\", color=\"red\")\n",
    "\n",
    "ax = fig.add_subplot(1,1,1)\n",
    "\n",
    "ax.add_line(line_1)\n",
    "ax.add_line(line_2)\n",
    "\n",
    "angle_plot = get_angle_plot(line_1, line_2, 1, color=\"red\")\n",
    "angle_text = get_angle_text(angle_plot, label=\"theta (difference between line1 and line2)\") \n",
    "# Gets the arguments to be passed to ax.text as a list to display the angle value besides the arc\n",
    "\n",
    "ax.add_patch(angle_plot) # To display the angle arc\n",
    "ax.text(*angle_text, color=\"red\") # To display the angle value\n",
    "\n",
    "\n",
    "line_xaxis = Line2D([0,2], [0,0], linewidth=1, linestyle = \"-\", color=\"black\")\n",
    "ax.add_line(line_xaxis)\n",
    "angle_plot = get_angle_plot(line_1, line_xaxis, 2, color=\"green\") # Second angle arc will be red in color\n",
    "angle_text = get_angle_text(angle_plot, label=\"phi (line1 to x axis)\")\n",
    "ax.add_patch(angle_plot) # To display the 2nd angle arc\n",
    "ax.text(*angle_text, color=\"green\") # To display the 2nd angle value\n",
    "\n",
    "ax.annotate(\"(x1,y1)\", (4,4), color=\"green\")\n",
    "ax.annotate(\"(x2,y2)\", (x2,y2), color=\"red\")\n",
    "\n",
    "ax.set_xlim(0,6)\n",
    "ax.set_ylim(0,6)\n",
    "\n",
    "plt.legend()\n",
    "plt.show()"
   ]
  },
  {
   "cell_type": "markdown",
   "metadata": {},
   "source": [
    "Since `cos(a + b) = cos(a)*cos(b) - sin(a)*sin(b)` and `sin(a + b) = sin(a)*cos(b) + cos(a)*sin(b)`, this breaks down into:\n",
    "\n",
    "```python\n",
    "x2 = r * cos(phi + theta)\n",
    "   = r * cos(phi) * cos(theta) - r * sin(phi) * sin(theta)\n",
    "   = x1 * cos(theta) - y1 * sin(theta)\n",
    "\n",
    "y2 = r * sin(phi + theta)\n",
    "   = r * sin(phi) * cos(theta) + r * cos(phi) * sin(theta)\n",
    "   = y1 * cos(theta) + x1 * sin(theta)\n",
    "```\n",
    "\n",
    "So, multiplying any 2D coordinates by the following matrix will produce the correct rotation:\n",
    "```\n",
    "cos(theta)   -sin(theta)  0\n",
    "sin(theta)   cos(theta)   0\n",
    "0            0            1\n",
    "```"
   ]
  },
  {
   "cell_type": "code",
   "execution_count": null,
   "metadata": {},
   "outputs": [],
   "source": [
    "#| exports\n",
    "def rotate_xform(rotate_angle):\n",
    "    if rotate_angle % 360 == 0:\n",
    "        return identity_xform()\n",
    "    theta = np.radians(rotate_angle)\n",
    "    cos_theta = np.cos(theta)\n",
    "    sin_theta = np.sin(theta)\n",
    "    return np.array([\n",
    "        [cos_theta, -sin_theta, 0],\n",
    "        [sin_theta, cos_theta, 0],\n",
    "        [0, 0, 1]\n",
    "    ])"
   ]
  },
  {
   "cell_type": "markdown",
   "metadata": {},
   "source": [
    "## Bounding Boxes"
   ]
  },
  {
   "cell_type": "code",
   "execution_count": null,
   "metadata": {},
   "outputs": [],
   "source": [
    "#| exports\n",
    "class BoundingBox:\n",
    "    xmin: float\n",
    "    xmax: float\n",
    "    ymin: float\n",
    "    ymax: float\n",
    "    xrange: float\n",
    "    yrange: float\n",
    "\n",
    "    def __init__(self, xmin, xmax, ymin, ymax):\n",
    "        assert xmin <= xmax\n",
    "        assert ymin <= ymax\n",
    "        self.xmin = xmin\n",
    "        self.xmax = xmax\n",
    "        self.ymin = ymin\n",
    "        self.ymax = ymax\n",
    "        self.xrange = xmax - xmin\n",
    "        self.yrange = ymax - ymin\n",
    "\n",
    "    def __repr__(self):\n",
    "        return f\"BBox(({self.xmin}, {self.ymin}), ({self.xmax}, {self.ymax})) (width {self.xrange} x height {self.yrange})\"\n",
    "\n",
    "    @staticmethod\n",
    "    def create(coords: np.ndarray):\n",
    "        # rank-2\n",
    "        if len(coords.shape) == 2:\n",
    "            xmin = coords[:, 0].min()\n",
    "            xmax = coords[:, 0].max()\n",
    "\n",
    "            ymin = coords[:, 1].min()\n",
    "            ymax = coords[:, 1].max()\n",
    "\n",
    "            return BoundingBox(\n",
    "                xmin=xmin, xmax=xmax, ymin=ymin, ymax=ymax\n",
    "            )\n",
    "        else:\n",
    "            raise Exception(f\"invalid coordinates passed - expected rank-2 matrix but got rank-{len(coords.shape)}\")\n",
    "\n",
    "    def merge(self, other):\n",
    "        return BoundingBox(\n",
    "            xmin=min(self.xmin, other.xmin),\n",
    "            xmax=max(self.xmax, other.xmax),\n",
    "            ymin=min(self.ymin, other.ymin),\n",
    "            ymax=max(self.ymax, other.ymax),\n",
    "        )\n",
    "\n",
    "    def area(self):\n",
    "        return self.xrange * self.yrange\n",
    "\n",
    "    def intersection(self, other):\n",
    "        bb1 = self\n",
    "        bb2 = other\n",
    "\n",
    "        assert bb1.xmin <= bb1.xmax\n",
    "        assert bb1.ymin <= bb1.ymax\n",
    "        assert bb2.xmin <= bb2.xmax\n",
    "        assert bb2.ymin <= bb2.ymax\n",
    "\n",
    "        x_left = max(bb1.xmin, bb2.xmin)\n",
    "        y_top = max(bb1.ymin, bb2.ymin)\n",
    "        x_right = min(bb1.xmax, bb2.xmax)\n",
    "        y_bottom = min(bb1.ymax, bb2.ymax)\n",
    "\n",
    "        if x_right < x_left or y_bottom < y_top:\n",
    "            return None\n",
    "        \n",
    "        return BoundingBox(xmin=x_left, ymin=y_top, xmax=x_right, ymax=y_bottom)\n",
    "\n",
    "    def iou(self, other):\n",
    "        \"\"\"\n",
    "        Intersection over union - area of the overlap relative to combined area of the bounding boxes\n",
    "        \"\"\"\n",
    "        overlap = self.intersection(other)\n",
    "        if not overlap:\n",
    "            return 0.0\n",
    "        return overlap.area() / float(self.area() + other.area() - overlap.area())\n",
    "        \n",
    "    def normalization_xform(self, scale=1.0):\n",
    "        \"\"\"\n",
    "        Produce a normalization transform - a set of transformations,\n",
    "        given the input coordinates, to convert all coords into the range (0,1)\n",
    "        \"\"\"\n",
    "        max_range = self.xrange if self.xrange > self.yrange else self.yrange\n",
    "        return scale_xform(scale / max_range, scale / max_range).dot(\n",
    "            translate_xform(-self.xmin, -self.ymin)\n",
    "        )"
   ]
  },
  {
   "cell_type": "code",
   "execution_count": null,
   "metadata": {},
   "outputs": [
    {
     "data": {
      "text/markdown": [
       "---\n",
       "\n",
       "### BoundingBox.create\n",
       "\n",
       ">      BoundingBox.create (coords:numpy.ndarray)"
      ],
      "text/plain": [
       "---\n",
       "\n",
       "### BoundingBox.create\n",
       "\n",
       ">      BoundingBox.create (coords:numpy.ndarray)"
      ]
     },
     "execution_count": null,
     "metadata": {},
     "output_type": "execute_result"
    }
   ],
   "source": [
    "show_doc(BoundingBox.create)"
   ]
  },
  {
   "cell_type": "code",
   "execution_count": null,
   "metadata": {},
   "outputs": [
    {
     "data": {
      "text/markdown": [
       "---\n",
       "\n",
       "### BoundingBox.merge\n",
       "\n",
       ">      BoundingBox.merge (other)"
      ],
      "text/plain": [
       "---\n",
       "\n",
       "### BoundingBox.merge\n",
       "\n",
       ">      BoundingBox.merge (other)"
      ]
     },
     "execution_count": null,
     "metadata": {},
     "output_type": "execute_result"
    }
   ],
   "source": [
    "show_doc(BoundingBox.merge)"
   ]
  },
  {
   "cell_type": "code",
   "execution_count": null,
   "metadata": {},
   "outputs": [
    {
     "data": {
      "text/markdown": [
       "---\n",
       "\n",
       "### BoundingBox.area\n",
       "\n",
       ">      BoundingBox.area ()"
      ],
      "text/plain": [
       "---\n",
       "\n",
       "### BoundingBox.area\n",
       "\n",
       ">      BoundingBox.area ()"
      ]
     },
     "execution_count": null,
     "metadata": {},
     "output_type": "execute_result"
    }
   ],
   "source": [
    "show_doc(BoundingBox.area)"
   ]
  },
  {
   "cell_type": "code",
   "execution_count": null,
   "metadata": {},
   "outputs": [
    {
     "data": {
      "text/markdown": [
       "---\n",
       "\n",
       "### BoundingBox.intersection\n",
       "\n",
       ">      BoundingBox.intersection (other)"
      ],
      "text/plain": [
       "---\n",
       "\n",
       "### BoundingBox.intersection\n",
       "\n",
       ">      BoundingBox.intersection (other)"
      ]
     },
     "execution_count": null,
     "metadata": {},
     "output_type": "execute_result"
    }
   ],
   "source": [
    "show_doc(BoundingBox.intersection)"
   ]
  },
  {
   "cell_type": "code",
   "execution_count": null,
   "metadata": {},
   "outputs": [
    {
     "data": {
      "text/markdown": [
       "---\n",
       "\n",
       "### BoundingBox.iou\n",
       "\n",
       ">      BoundingBox.iou (other)\n",
       "\n",
       "Intersection over union - area of the overlap relative to combined area of the bounding boxes"
      ],
      "text/plain": [
       "---\n",
       "\n",
       "### BoundingBox.iou\n",
       "\n",
       ">      BoundingBox.iou (other)\n",
       "\n",
       "Intersection over union - area of the overlap relative to combined area of the bounding boxes"
      ]
     },
     "execution_count": null,
     "metadata": {},
     "output_type": "execute_result"
    }
   ],
   "source": [
    "show_doc(BoundingBox.iou)"
   ]
  },
  {
   "cell_type": "code",
   "execution_count": null,
   "metadata": {},
   "outputs": [
    {
     "data": {
      "text/markdown": [
       "---\n",
       "\n",
       "### BoundingBox.normalization_xform\n",
       "\n",
       ">      BoundingBox.normalization_xform (scale=1.0)\n",
       "\n",
       "Produce a normalization transform - a set of transformations,\n",
       "given the input coordinates, to convert all coords into the range (0,1)"
      ],
      "text/plain": [
       "---\n",
       "\n",
       "### BoundingBox.normalization_xform\n",
       "\n",
       ">      BoundingBox.normalization_xform (scale=1.0)\n",
       "\n",
       "Produce a normalization transform - a set of transformations,\n",
       "given the input coordinates, to convert all coords into the range (0,1)"
      ]
     },
     "execution_count": null,
     "metadata": {},
     "output_type": "execute_result"
    }
   ],
   "source": [
    "show_doc(BoundingBox.normalization_xform)"
   ]
  },
  {
   "cell_type": "markdown",
   "metadata": {},
   "source": [
    "## Stroke-3 Conversion"
   ]
  },
  {
   "cell_type": "code",
   "execution_count": null,
   "metadata": {},
   "outputs": [],
   "source": [
    "#| export\n",
    "def strokes_to_points(strokes):\n",
    "    all = []\n",
    "    for s in strokes:\n",
    "        eoc_col = np.zeros((s.shape[0], 1))\n",
    "        eoc_col[-1, 0] = 1\n",
    "        all.append(np.concatenate([s[:, :2], eoc_col], axis=1))\n",
    "    return np.vstack(all)\n",
    "\n",
    "\n",
    "def points_to_deltas(points):\n",
    "    p2 = points.copy()\n",
    "    # first row should stay the same\n",
    "    # cols 0,1 of every row onwards should be a delta from the previous row.\n",
    "    p2[1:, :2] = points[1:, :2] - points[:-1, :2]\n",
    "    return p2\n",
    "\n",
    "\n",
    "def strokes_to_deltas(strokes):\n",
    "    points = strokes_to_points(strokes)\n",
    "    return points_to_deltas(points)"
   ]
  },
  {
   "cell_type": "code",
   "execution_count": null,
   "metadata": {},
   "outputs": [],
   "source": [
    "#| export\n",
    "def deltas_to_points(_seq):\n",
    "    seq = np.zeros_like(_seq)\n",
    "    seq[:, 0:2] = np.cumsum(_seq[:, 0:2], axis=0)\n",
    "    seq[:, 2] = _seq[:, 2]\n",
    "    return seq\n",
    "\n",
    "\n",
    "def points_to_strokes(_seq):\n",
    "    strokes = np.split(_seq, np.where(_seq[:, 2] > 0)[0] + 1)\n",
    "    return [\n",
    "        s for s in strokes if len(s) > 0\n",
    "    ]  # split sometimes returns an empty array at the end\n",
    "\n",
    "\n",
    "def deltas_to_strokes(_seq):\n",
    "    points = deltas_to_points(_seq)\n",
    "    return points_to_strokes(points)"
   ]
  },
  {
   "cell_type": "markdown",
   "metadata": {},
   "source": [
    "## RDP"
   ]
  },
  {
   "cell_type": "code",
   "execution_count": null,
   "metadata": {},
   "outputs": [],
   "source": [
    "#| export\n",
    "from rdp import rdp\n",
    "\n",
    "\n",
    "def rdp_strokes(strokes, epsilon=1.0):\n",
    "    return [rdp(s, epsilon=epsilon) for s in strokes]"
   ]
  },
  {
   "cell_type": "code",
   "execution_count": null,
   "metadata": {},
   "outputs": [],
   "source": [
    "#| export\n",
    "def stroke_rdp_deltas(rescaled_strokes, epsilon=2.0):\n",
    "    rdp_result = rdp_strokes(rescaled_strokes, epsilon)\n",
    "    deltas = strokes_to_deltas(rdp_result)\n",
    "\n",
    "    ## roundtrip / sanity check\n",
    "    # _rdp_result = stroke3.deltas_to_strokes(deltas)\n",
    "    # default.plot_strokes(_rdp_result)\n",
    "\n",
    "    return deltas"
   ]
  },
  {
   "cell_type": "code",
   "execution_count": null,
   "metadata": {},
   "outputs": [],
   "source": [
    "#| hide\n",
    "import nbdev\n",
    "\n",
    "nbdev.nbdev_export()"
   ]
  },
  {
   "cell_type": "code",
   "execution_count": null,
   "metadata": {},
   "outputs": [],
   "source": []
  }
 ],
 "metadata": {
  "kernelspec": {
   "display_name": "python3",
   "language": "python",
   "name": "python3"
  }
 },
 "nbformat": 4,
 "nbformat_minor": 4
}
