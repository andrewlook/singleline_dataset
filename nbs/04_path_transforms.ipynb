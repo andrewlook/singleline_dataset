{
 "cells": [
  {
   "cell_type": "markdown",
   "metadata": {},
   "source": [
    "# path_transforms\n",
    "\n",
    "> Helpers for applying 2D transforms to paths."
   ]
  },
  {
   "cell_type": "code",
   "execution_count": null,
   "metadata": {},
   "outputs": [],
   "source": [
    "#| default_exp path_transforms"
   ]
  },
  {
   "cell_type": "code",
   "execution_count": null,
   "metadata": {},
   "outputs": [],
   "source": [
    "#| hide\n",
    "%load_ext autoreload\n",
    "%autoreload 2"
   ]
  },
  {
   "cell_type": "code",
   "execution_count": null,
   "metadata": {},
   "outputs": [],
   "source": [
    "#| hide\n",
    "from nbdev.showdoc import *"
   ]
  },
  {
   "cell_type": "code",
   "execution_count": null,
   "metadata": {},
   "outputs": [
    {
     "ename": "NameError",
     "evalue": "name 'dataclass' is not defined",
     "output_type": "error",
     "traceback": [
      "\u001b[0;31m---------------------------------------------------------------------------\u001b[0m",
      "\u001b[0;31mNameError\u001b[0m                                 Traceback (most recent call last)",
      "Cell \u001b[0;32mIn[4], line 5\u001b[0m\n\u001b[1;32m      2\u001b[0m \u001b[38;5;28;01mimport\u001b[39;00m \u001b[38;5;21;01mnumpy\u001b[39;00m \u001b[38;5;28;01mas\u001b[39;00m \u001b[38;5;21;01mnp\u001b[39;00m\n\u001b[1;32m      3\u001b[0m \u001b[38;5;28;01mfrom\u001b[39;00m \u001b[38;5;21;01mrdp\u001b[39;00m \u001b[38;5;28;01mimport\u001b[39;00m rdp\n\u001b[0;32m----> 5\u001b[0m \u001b[38;5;28;01mfrom\u001b[39;00m \u001b[38;5;21;01msingleline_dataset\u001b[39;00m\u001b[38;5;21;01m.\u001b[39;00m\u001b[38;5;21;01mtransforms\u001b[39;00m \u001b[38;5;28;01mimport\u001b[39;00m apply_transform, bb_rank2\n",
      "File \u001b[0;32m~/code/_svg/singleline-dataset/singleline_dataset/transforms.py:41\u001b[0m\n\u001b[1;32m     38\u001b[0m     \u001b[38;5;28;01mreturn\u001b[39;00m np\u001b[38;5;241m.\u001b[39marray([[cos_theta, \u001b[38;5;241m-\u001b[39msin_theta, \u001b[38;5;241m0\u001b[39m], [sin_theta, cos_theta, \u001b[38;5;241m0\u001b[39m], [\u001b[38;5;241m0\u001b[39m, \u001b[38;5;241m0\u001b[39m, \u001b[38;5;241m1\u001b[39m]])\n\u001b[1;32m     40\u001b[0m \u001b[38;5;66;03m# %% ../nbs/03_transforms.ipynb 10\u001b[39;00m\n\u001b[0;32m---> 41\u001b[0m \u001b[38;5;129m@dataclass\u001b[39m\n\u001b[1;32m     42\u001b[0m \u001b[38;5;28;01mclass\u001b[39;00m \u001b[38;5;21;01mBoundingBox\u001b[39;00m:\n\u001b[1;32m     43\u001b[0m     xmin: \u001b[38;5;28mfloat\u001b[39m\n\u001b[1;32m     44\u001b[0m     xmax: \u001b[38;5;28mfloat\u001b[39m\n",
      "\u001b[0;31mNameError\u001b[0m: name 'dataclass' is not defined"
     ]
    }
   ],
   "source": [
    "# |hide\n",
    "import numpy as np\n",
    "from rdp import rdp\n",
    "\n",
    "from singleline_dataset.transforms import apply_transform, bb_rank2"
   ]
  },
  {
   "cell_type": "code",
   "execution_count": null,
   "metadata": {},
   "outputs": [],
   "source": [
    "#| export\n",
    "def transform_paths(paths, global_transform=None):\n",
    "    if not global_transform:\n",
    "        return paths\n",
    "    transformed_strokes = []\n",
    "    for path_strokes in paths:\n",
    "        strokes = [apply_transform(s, global_transform) for s in path_strokes]\n",
    "        transformed_strokes.append(strokes)\n",
    "    return transformed_strokes\n",
    "\n",
    "\n",
    "def rescale_strokes(all_strokes, target_size):\n",
    "    # even though we want to default to keeping paths separate (until we can do bbox checking),\n",
    "    # we do want a global max/min coord so that we can rescale all points within the same space.\n",
    "    vstack_coords = np.vstack(all_strokes)\n",
    "    # print(f\"vstack_coords.shape={vstack_coords.shape}\")\n",
    "    vstack_bounding_box = bb_rank2(vstack_coords)\n",
    "    vstack_rescale_transform = vstack_bounding_box.normalization_xform(target_size)\n",
    "    \n",
    "    all_rescaled_strokes = [apply_transform(c[:,:2], vstack_rescale_transform)[:,:2] for c in all_strokes]\n",
    "    return np.array(all_rescaled_strokes, dtype=object)\n",
    "\n",
    "\n",
    "def rdpify(strokes, epsilon=1.0):\n",
    "    return [rdp(s, epsilon=epsilon) for s in strokes]\n"
   ]
  },
  {
   "cell_type": "code",
   "execution_count": null,
   "metadata": {},
   "outputs": [],
   "source": [
    "#| export\n",
    "def identity_xform():\n",
    "    return np.array([[1, 0, 0], [0, 1, 0], [0, 0, 1]])"
   ]
  },
  {
   "cell_type": "code",
   "execution_count": null,
   "metadata": {},
   "outputs": [],
   "source": [
    "#| export\n",
    "def scale_xform(scale_x, scale_y):\n",
    "    return np.array([[scale_x, 0, 0], [0, scale_y, 0], [0, 0, 1]])"
   ]
  },
  {
   "cell_type": "code",
   "execution_count": null,
   "metadata": {},
   "outputs": [],
   "source": [
    "#| export\n",
    "def translate_xform(translate_x, translate_y):\n",
    "    return np.array([[1, 0, translate_x], [0, 1, translate_y], [0, 0, 1]])"
   ]
  },
  {
   "cell_type": "code",
   "execution_count": null,
   "metadata": {},
   "outputs": [],
   "source": [
    "#| export\n",
    "def rotate_xform(rotate_angle):\n",
    "    if rotate_angle % 360 == 0:\n",
    "        return identity_xform()\n",
    "    theta = np.radians(rotate_angle)\n",
    "    cos_theta = np.cos(theta)\n",
    "    sin_theta = np.sin(theta)\n",
    "    return np.array([[cos_theta, -sin_theta, 0], [sin_theta, cos_theta, 0], [0, 0, 1]])"
   ]
  },
  {
   "cell_type": "code",
   "execution_count": null,
   "metadata": {},
   "outputs": [],
   "source": [
    "#| export\n",
    "@dataclass\n",
    "class BoundingBox:\n",
    "    xmin: float\n",
    "    xmax: float\n",
    "    xrange: float\n",
    "    ymin: float\n",
    "    ymax: float\n",
    "    yrange: float\n",
    "\n",
    "    def normalization_xform(self, scale=1.0):\n",
    "        max_range = self.xrange if self.xrange > self.yrange else self.yrange\n",
    "        return scale_xform(scale / max_range, scale / max_range).dot(\n",
    "            translate_xform(-self.xmin, -self.ymin)\n",
    "        )"
   ]
  },
  {
   "cell_type": "code",
   "execution_count": null,
   "metadata": {},
   "outputs": [],
   "source": [
    "#| export\n",
    "def bb_rank2(coords):\n",
    "    xmin = coords[:, 0].min()\n",
    "    xmax = coords[:, 0].max()\n",
    "    xrange = xmax - xmin\n",
    "    # print(f\"xrange, xmin, xmax = {xrange, xmin, xmax}\")\n",
    "\n",
    "    ymin = coords[:, 1].min()\n",
    "    ymax = coords[:, 1].max()\n",
    "    yrange = ymax - ymin\n",
    "    # print(f\"yrange, ymin, ymax = {yrange, ymin, ymax}\")\n",
    "\n",
    "    return BoundingBox(\n",
    "        xmin=xmin, xmax=xmax, xrange=xrange, ymin=ymin, ymax=ymax, yrange=yrange\n",
    "    )"
   ]
  },
  {
   "cell_type": "code",
   "execution_count": null,
   "metadata": {},
   "outputs": [],
   "source": [
    "#| export\n",
    "def bb_rank3(coords):\n",
    "    xmin = coords[:, :, 0].min()\n",
    "    xmax = coords[:, :, 0].max()\n",
    "    xrange = xmax - xmin\n",
    "    # print(f\"xrange, xmin, xmax = {xrange, xmin, xmax}\")\n",
    "\n",
    "    ymin = coords[:, :, 1].min()\n",
    "    ymax = coords[:, :, 1].max()\n",
    "    yrange = ymax - ymin\n",
    "    # print(f\"yrange, ymin, ymax = {yrange, ymin, ymax}\")\n",
    "\n",
    "    return BoundingBox(\n",
    "        xmin=xmin, xmax=xmax, xrange=xrange, ymin=ymin, ymax=ymax, yrange=yrange\n",
    "    )"
   ]
  },
  {
   "cell_type": "code",
   "execution_count": null,
   "metadata": {},
   "outputs": [],
   "source": []
  },
  {
   "cell_type": "code",
   "execution_count": null,
   "metadata": {},
   "outputs": [],
   "source": []
  },
  {
   "cell_type": "code",
   "execution_count": null,
   "metadata": {},
   "outputs": [],
   "source": [
    "#| hide\n",
    "import nbdev\n",
    "\n",
    "nbdev.nbdev_export()"
   ]
  }
 ],
 "metadata": {
  "kernelspec": {
   "display_name": "python3",
   "language": "python",
   "name": "python3"
  }
 },
 "nbformat": 4,
 "nbformat_minor": 4
}
