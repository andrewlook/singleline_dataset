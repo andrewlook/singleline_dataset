{
 "cells": [
  {
   "cell_type": "markdown",
   "metadata": {},
   "source": [
    "# path_transforms\n",
    "\n",
    "> Helpers for applying 2D transforms to paths."
   ]
  },
  {
   "cell_type": "code",
   "execution_count": null,
   "metadata": {},
   "outputs": [],
   "source": [
    "#| default_exp stroke3.path_transforms"
   ]
  },
  {
   "cell_type": "code",
   "execution_count": null,
   "metadata": {},
   "outputs": [],
   "source": [
    "#| hide\n",
    "%load_ext autoreload\n",
    "%autoreload 2"
   ]
  },
  {
   "cell_type": "code",
   "execution_count": null,
   "metadata": {},
   "outputs": [],
   "source": [
    "#| hide\n",
    "from nbdev.showdoc import *"
   ]
  },
  {
   "cell_type": "code",
   "execution_count": null,
   "metadata": {},
   "outputs": [],
   "source": [
    "# |hide"
   ]
  },
  {
   "cell_type": "code",
   "execution_count": null,
   "metadata": {},
   "outputs": [],
   "source": [
    "#| export\n",
    "import numpy as np\n",
    "\n",
    "from singleline_dataset.stroke3.transforms import apply_transform, bb_rank2\n",
    "\n",
    "\n",
    "def rescale_strokes(all_strokes, target_size):\n",
    "    # even though we want to default to keeping paths separate (until we can do bbox checking),\n",
    "    # we do want a global max/min coord so that we can rescale all points within the same space.\n",
    "    vstack_coords = np.vstack(all_strokes)\n",
    "    # print(f\"vstack_coords.shape={vstack_coords.shape}\")\n",
    "    vstack_bounding_box = bb_rank2(vstack_coords)\n",
    "    vstack_rescale_transform = vstack_bounding_box.normalization_xform(target_size)\n",
    "\n",
    "    all_rescaled_strokes = [\n",
    "        apply_transform(c[:, :2], vstack_rescale_transform)[:, :2] for c in all_strokes\n",
    "    ]\n",
    "    return np.array(all_rescaled_strokes, dtype=object)"
   ]
  },
  {
   "cell_type": "code",
   "execution_count": null,
   "metadata": {},
   "outputs": [],
   "source": [
    "#| export\n",
    "def transform_paths(paths, global_transform=None):\n",
    "    if not global_transform:\n",
    "        return paths\n",
    "    transformed_strokes = []\n",
    "    for path_strokes in paths:\n",
    "        strokes = [apply_transform(s, global_transform) for s in path_strokes]\n",
    "        transformed_strokes.append(strokes)\n",
    "    return transformed_strokes"
   ]
  },
  {
   "cell_type": "code",
   "execution_count": null,
   "metadata": {},
   "outputs": [],
   "source": [
    "#| export\n",
    "from singleline_dataset.stroke3.svg_files import load_svg\n",
    "from singleline_dataset.stroke3.svg_transforms import svg_to_transforms\n",
    "from singleline_dataset.stroke3.path_helpers import discretize_paths\n",
    "\n",
    "\n",
    "\n",
    "def svg_to_strokes(input_fname, target_size=200, total_n=1000, min_n=3):\n",
    "    paths, attributes, svg_attributes, svg_root = load_svg(input_fname)\n",
    "    all_strokes = discretize_paths(paths, total_n=total_n, min_n=min_n)\n",
    "\n",
    "    globally_rescaled_strokes = transform_paths(\n",
    "        all_strokes, global_transform=svg_to_transforms(svg_root)\n",
    "    )\n",
    "\n",
    "    rescaled_strokes = rescale_strokes(globally_rescaled_strokes, target_size)\n",
    "    return rescaled_strokes\n"
   ]
  },
  {
   "cell_type": "code",
   "execution_count": null,
   "metadata": {},
   "outputs": [],
   "source": [
    "#| hide\n",
    "import nbdev\n",
    "\n",
    "nbdev.nbdev_export()"
   ]
  },
  {
   "cell_type": "code",
   "execution_count": null,
   "metadata": {},
   "outputs": [],
   "source": []
  }
 ],
 "metadata": {
  "kernelspec": {
   "display_name": "python3",
   "language": "python",
   "name": "python3"
  }
 },
 "nbformat": 4,
 "nbformat_minor": 4
}
