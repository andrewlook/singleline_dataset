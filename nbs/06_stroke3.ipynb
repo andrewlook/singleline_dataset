{
 "cells": [
  {
   "cell_type": "markdown",
   "metadata": {},
   "source": [
    "# stroke3\n",
    "\n",
    "> Helpers for converting to and from stroke3 format."
   ]
  },
  {
   "cell_type": "code",
   "execution_count": null,
   "metadata": {},
   "outputs": [],
   "source": [
    "#| default_exp stroke3.stroke3"
   ]
  },
  {
   "cell_type": "code",
   "execution_count": null,
   "metadata": {},
   "outputs": [],
   "source": [
    "#| hide\n",
    "%load_ext autoreload\n",
    "%autoreload 2"
   ]
  },
  {
   "cell_type": "code",
   "execution_count": null,
   "metadata": {},
   "outputs": [],
   "source": [
    "#| hide\n",
    "from nbdev.showdoc import *"
   ]
  },
  {
   "cell_type": "code",
   "execution_count": null,
   "metadata": {},
   "outputs": [],
   "source": [
    "# |hide"
   ]
  },
  {
   "cell_type": "code",
   "execution_count": null,
   "metadata": {},
   "outputs": [],
   "source": [
    "#| export\n",
    "import numpy as np\n",
    "\n",
    "\n",
    "def strokes_to_points(strokes):\n",
    "    all = []\n",
    "    for s in strokes:\n",
    "        eoc_col = np.zeros((s.shape[0], 1))\n",
    "        eoc_col[-1, 0] = 1\n",
    "        all.append(np.concatenate([s[:, :2], eoc_col], axis=1))\n",
    "    return np.vstack(all)"
   ]
  },
  {
   "cell_type": "code",
   "execution_count": null,
   "metadata": {},
   "outputs": [],
   "source": [
    "#| export\n",
    "def points_to_deltas(points):\n",
    "    p2 = points.copy()\n",
    "    # first row should stay the same\n",
    "    # cols 0,1 of every row onwards should be a delta from the previous row.\n",
    "    p2[1:, :2] = points[1:, :2] - points[:-1, :2]\n",
    "    return p2"
   ]
  },
  {
   "cell_type": "code",
   "execution_count": null,
   "metadata": {},
   "outputs": [],
   "source": [
    "#| export\n",
    "def strokes_to_deltas(strokes):\n",
    "    points = strokes_to_points(strokes)\n",
    "    return points_to_deltas(points)"
   ]
  },
  {
   "cell_type": "code",
   "execution_count": null,
   "metadata": {},
   "outputs": [],
   "source": [
    "#| export\n",
    "def deltas_to_points(_seq):\n",
    "    seq = np.zeros_like(_seq)\n",
    "    seq[:, 0:2] = np.cumsum(_seq[:, 0:2], axis=0)\n",
    "    seq[:, 2] = _seq[:, 2]\n",
    "    return seq"
   ]
  },
  {
   "cell_type": "code",
   "execution_count": null,
   "metadata": {},
   "outputs": [],
   "source": [
    "#| export\n",
    "def points_to_strokes(_seq):\n",
    "    strokes = np.split(_seq, np.where(_seq[:, 2] > 0)[0] + 1)\n",
    "    return strokes"
   ]
  },
  {
   "cell_type": "code",
   "execution_count": null,
   "metadata": {},
   "outputs": [],
   "source": [
    "#| export\n",
    "def deltas_to_strokes(_seq):\n",
    "    points = deltas_to_points(_seq)\n",
    "    return points_to_strokes(points)"
   ]
  },
  {
   "cell_type": "code",
   "execution_count": null,
   "metadata": {},
   "outputs": [],
   "source": [
    "#| export\n",
    "from rdp import rdp\n",
    "\n",
    "\n",
    "def rdp_strokes(strokes, epsilon=1.0):\n",
    "    return [rdp(s, epsilon=epsilon) for s in strokes]"
   ]
  },
  {
   "cell_type": "code",
   "execution_count": null,
   "metadata": {},
   "outputs": [],
   "source": [
    "#| hide\n",
    "import nbdev\n",
    "\n",
    "nbdev.nbdev_export()"
   ]
  },
  {
   "cell_type": "code",
   "execution_count": null,
   "metadata": {},
   "outputs": [],
   "source": []
  }
 ],
 "metadata": {
  "kernelspec": {
   "display_name": "python3",
   "language": "python",
   "name": "python3"
  }
 },
 "nbformat": 4,
 "nbformat_minor": 4
}
