{
 "cells": [
  {
   "cell_type": "markdown",
   "metadata": {},
   "source": [
    "# svg_files\n",
    "\n",
    "> Loading and manipulating SVG files"
   ]
  },
  {
   "cell_type": "code",
   "execution_count": null,
   "metadata": {},
   "outputs": [],
   "source": [
    "#| default_exp stroke3.svg_files"
   ]
  },
  {
   "cell_type": "code",
   "execution_count": null,
   "metadata": {},
   "outputs": [],
   "source": [
    "#| hide\n",
    "%load_ext autoreload\n",
    "%autoreload 2"
   ]
  },
  {
   "cell_type": "code",
   "execution_count": null,
   "metadata": {},
   "outputs": [],
   "source": [
    "#| hide\n",
    "from nbdev.showdoc import *"
   ]
  },
  {
   "cell_type": "code",
   "execution_count": null,
   "metadata": {},
   "outputs": [],
   "source": [
    "#| export\n",
    "import os\n",
    "\n",
    "\n",
    "def enumerate_files(input_dir):\n",
    "    \"\"\"Find all the files within a directory (non-recursively)\"\"\"\n",
    "    files = []\n",
    "    for file in os.listdir(input_dir):\n",
    "        if os.path.isfile(os.path.join(input_dir, file)):\n",
    "            files.append(file)\n",
    "    return files"
   ]
  },
  {
   "cell_type": "code",
   "execution_count": null,
   "metadata": {},
   "outputs": [],
   "source": [
    "#| export\n",
    "from lxml import etree\n",
    "\n",
    "\n",
    "def parse_svg(input_file):\n",
    "    \"\"\"Parse the SVG XML, to allow extracting individual elements\"\"\"\n",
    "    parsed = etree.parse(input_file)\n",
    "    return parsed.getroot()"
   ]
  },
  {
   "cell_type": "code",
   "execution_count": null,
   "metadata": {},
   "outputs": [],
   "source": [
    "#| export\n",
    "import svgpathtools\n",
    "\n",
    "\n",
    "def load_svg(input_fname):\n",
    "    \"\"\"Load an SVG, returning the parsed XML as well as the SVG path elements\"\"\"\n",
    "    paths, attributes, svg_attributes = svgpathtools.svg2paths(\n",
    "        input_fname, return_svg_attributes=True\n",
    "    )\n",
    "    svg_in = parse_svg(input_fname)\n",
    "    return paths, attributes, svg_attributes, svg_in"
   ]
  },
  {
   "cell_type": "code",
   "execution_count": null,
   "metadata": {},
   "outputs": [],
   "source": []
  },
  {
   "cell_type": "code",
   "execution_count": null,
   "metadata": {},
   "outputs": [],
   "source": []
  },
  {
   "cell_type": "code",
   "execution_count": null,
   "metadata": {},
   "outputs": [],
   "source": []
  },
  {
   "cell_type": "code",
   "execution_count": null,
   "metadata": {},
   "outputs": [],
   "source": []
  },
  {
   "cell_type": "code",
   "execution_count": null,
   "metadata": {},
   "outputs": [],
   "source": [
    "#| hide\n",
    "import nbdev\n",
    "\n",
    "nbdev.nbdev_export()"
   ]
  }
 ],
 "metadata": {
  "kernelspec": {
   "display_name": "python3",
   "language": "python",
   "name": "python3"
  }
 },
 "nbformat": 4,
 "nbformat_minor": 4
}
