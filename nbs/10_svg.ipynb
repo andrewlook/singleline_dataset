{
 "cells": [
  {
   "cell_type": "markdown",
   "metadata": {},
   "source": [
    "# svg_files\n",
    "\n",
    "> Loading and manipulating SVG files"
   ]
  },
  {
   "cell_type": "code",
   "execution_count": null,
   "metadata": {},
   "outputs": [],
   "source": [
    "#| default_exp svg_files"
   ]
  },
  {
   "cell_type": "code",
   "execution_count": null,
   "metadata": {},
   "outputs": [],
   "source": [
    "#| hide\n",
    "%load_ext autoreload\n",
    "%autoreload 2"
   ]
  },
  {
   "cell_type": "code",
   "execution_count": null,
   "metadata": {},
   "outputs": [],
   "source": [
    "#| export\n",
    "import numpy as np\n",
    "import svgpathtools\n",
    "from lxml import etree\n",
    "\n",
    "from singleline_dataset.transforms import *"
   ]
  },
  {
   "cell_type": "code",
   "execution_count": null,
   "metadata": {},
   "outputs": [],
   "source": [
    "#| hide\n",
    "from nbdev.showdoc import *"
   ]
  },
  {
   "cell_type": "markdown",
   "metadata": {},
   "source": [
    "## Converting to Strokes\n",
    "\n",
    "Steps:\n",
    "\n",
    "1. **Discretize the SVG:** Convert all paths (including bezier curves, etc) to a set of discrete points.\n",
    "2. **Apply SVG Global Transforms:** If the SVG contains something like `<g transform=\"(scale:0.5,-0.4)\">`, apply that to the coordinates.\n",
    "3. **Rescale:** Find the min/max/range on the x and y axes. Subtract min, divide by range to get coords between 0 and 1. Multiply by `target_size` to get coordinates in a comprehensible range."
   ]
  },
  {
   "cell_type": "code",
   "execution_count": null,
   "metadata": {},
   "outputs": [],
   "source": [
    "#| exports\n",
    "def svg_to_strokes(input_fname, target_size=200, total_n=1000, min_n=3):\n",
    "    # convert all paths to a series of points\n",
    "    all_strokes = discretize_svg(input_fname, total_n=total_n, min_n=min_n)\n",
    "    # apply any global SVG transform instructions\n",
    "    globally_rescaled_strokes = global_svg_transform(all_strokes, input_fname)\n",
    "    # rescaled to the target image size\n",
    "    rescaled_strokes = rescale_strokes(globally_rescaled_strokes, target_size)\n",
    "    return rescaled_strokes"
   ]
  },
  {
   "cell_type": "markdown",
   "metadata": {},
   "source": [
    "## Discretizing SVG Paths"
   ]
  },
  {
   "cell_type": "code",
   "execution_count": null,
   "metadata": {},
   "outputs": [],
   "source": [
    "#| export\n",
    "def to_points(parsed_path, n):\n",
    "    prev = None\n",
    "    acc = []\n",
    "    step_size = 1.0 / n\n",
    "    for x in np.arange(0.0, 1.0, step_size):\n",
    "        _complex_pt = parsed_path.point(x)\n",
    "        _x = _complex_pt.real\n",
    "        _y = _complex_pt.imag\n",
    "        pt = (_x, _y)\n",
    "        acc.append(pt)\n",
    "    return acc\n",
    "\n",
    "\n",
    "def discretize_path(path, total_n=1000, min_n=3):\n",
    "    chunk_size = path.length() / total_n\n",
    "    subpaths = []\n",
    "    for subpath in path.continuous_subpaths():\n",
    "        sub_n = subpath.length() / chunk_size\n",
    "        # drop paths shorter than the minimum number of points.\n",
    "        if sub_n < min_n:\n",
    "            continue\n",
    "        subpaths.append(np.array(to_points(subpath, n=sub_n)))\n",
    "    return np.array(subpaths, dtype=object)"
   ]
  },
  {
   "cell_type": "code",
   "execution_count": null,
   "metadata": {},
   "outputs": [],
   "source": [
    "#| exports\n",
    "def discretize_paths(paths, total_n=1000, min_n=3):\n",
    "    all_strokes = []\n",
    "    total_length = sum([p.length() for p in paths])\n",
    "    for p in paths:\n",
    "        # compute number of points to generate for curr path based on ratio to total path length\n",
    "        path_n = int(total_n * p.length() / total_length)\n",
    "        # if number of points is less than the minimum, drop it.\n",
    "        if path_n < min_n:\n",
    "            continue\n",
    "\n",
    "        strokes = discretize_path(p, path_n, min_n=min_n)\n",
    "        all_strokes.extend(strokes)\n",
    "    return all_strokes\n",
    "\n",
    "\n",
    "def discretize_svg(input_fname, **kwargs):\n",
    "    paths, attributes, svg_attributes = svgpathtools.svg2paths(\n",
    "        input_fname, return_svg_attributes=True\n",
    "    )\n",
    "    all_strokes = discretize_paths(paths, **kwargs)\n",
    "    return all_strokes"
   ]
  },
  {
   "cell_type": "markdown",
   "metadata": {},
   "source": [
    "## Rescale"
   ]
  },
  {
   "cell_type": "code",
   "execution_count": null,
   "metadata": {},
   "outputs": [],
   "source": [
    "#| export\n",
    "def rescale_strokes(all_strokes, target_size):\n",
    "    # even though we want to default to keeping paths separate (until we can do bbox checking),\n",
    "    # we do want a global max/min coord so that we can rescale all points within the same space.\n",
    "    vstack_coords = np.vstack(all_strokes)\n",
    "    # print(f\"vstack_coords.shape={vstack_coords.shape}\")\n",
    "    vstack_bounding_box = BoundingBox.create(vstack_coords)\n",
    "    vstack_rescale_transform = vstack_bounding_box.normalization_xform(target_size)\n",
    "\n",
    "    all_rescaled_strokes = [\n",
    "        apply_transform(c[:, :2], vstack_rescale_transform)[:, :2] for c in all_strokes\n",
    "    ]\n",
    "    return np.array(all_rescaled_strokes, dtype=object)"
   ]
  },
  {
   "cell_type": "markdown",
   "metadata": {},
   "source": [
    "## Global Transforms"
   ]
  },
  {
   "cell_type": "code",
   "execution_count": null,
   "metadata": {},
   "outputs": [],
   "source": [
    "#| export\n",
    "def global_svg_transform(all_strokes, input_fname):\n",
    "    global_transform = svg_to_transforms(parse_svg(input_fname))\n",
    "    if not global_transform:\n",
    "        return all_strokes\n",
    "    transformed_strokes = []\n",
    "    for path_strokes in all_strokes:\n",
    "        strokes = [apply_transform(s, global_transform) for s in path_strokes]\n",
    "        transformed_strokes.append(strokes)\n",
    "    return transformed_strokes\n",
    "\n",
    "\n",
    "def parse_svg(input_file):\n",
    "    \"\"\"Parse the SVG XML, to allow extracting individual elements\"\"\"\n",
    "    parsed = etree.parse(input_file)\n",
    "    return parsed.getroot()\n",
    "\n",
    "\n",
    "def svg_to_transforms(svgroot):\n",
    "    def _extract_g(svgroot):\n",
    "        all_parsed = []\n",
    "        all_g = svgroot.findall(\".//{http://www.w3.org/2000/svg}g\")\n",
    "        for g in all_g:\n",
    "            all_parsed.append(g.attrib)\n",
    "        return all_parsed\n",
    "\n",
    "    def _get_transform_str(svgroot):\n",
    "        all_g = _extract_g(svgroot)\n",
    "        if not all_g:\n",
    "            # print('no <g> tags found')\n",
    "            return None\n",
    "        elif len(all_g) > 1:\n",
    "            return Exception(\n",
    "                f\"unexpected number of <g> tags found in SVG: {len(all_g)}\"\n",
    "            )\n",
    "        g = all_g[0]\n",
    "        if \"transform\" not in g:\n",
    "            # print('\"transform\" attribute not found in <g>')\n",
    "            return None\n",
    "        transform_str = g[\"transform\"]\n",
    "        return transform_str\n",
    "\n",
    "    transform_str = _get_transform_str(svgroot)\n",
    "    if not transform_str:\n",
    "        return None\n",
    "\n",
    "    return build_transforms(transform_str)\n",
    "\n",
    "\n",
    "def parse_transform_instruction(item):\n",
    "    def strip_tname(tname, item, expected_len):\n",
    "        parts = item.replace(tname, \"\").replace(\"(\", \"\").replace(\")\", \"\").split(\",\")\n",
    "        nums = [float(n) for n in parts]\n",
    "        if len(nums) != expected_len:\n",
    "            raise Exception(\n",
    "                f'unexpected length for transform instruction \"{item}\": {len(nums)} (expected {expected_len})'\n",
    "            )\n",
    "        return nums\n",
    "\n",
    "    if item.startswith(\"translate\"):\n",
    "        tx, ty = strip_tname(\"translate\", item, expected_len=2)\n",
    "        # print(f\"tx={tx}, ty={ty}\")\n",
    "        return translate_xform(tx, ty)\n",
    "    elif item.startswith(\"rotate\"):\n",
    "        ang = strip_tname(\"rotate\", item, expected_len=1)\n",
    "        # print(f\"ang={ang}\")\n",
    "        return rotate_xform(ang[0])\n",
    "    elif item.startswith(\"scale\"):\n",
    "        sx, sy = strip_tname(\"scale\", item, expected_len=2)\n",
    "        # print(f\"sx={sx}, sy={sy}\")\n",
    "        return scale_xform(sx, sy)\n",
    "    else:\n",
    "        raise Exception(f\"runrecognized transform instruction: {item}\")\n",
    "\n",
    "\n",
    "def build_transforms(tstr):\n",
    "    xforms = [parse_transform_instruction(part) for part in tstr.split(\" \")]\n",
    "    final = identity_xform()\n",
    "    for x in reversed(xforms):\n",
    "        final = final.dot(x)\n",
    "    return final"
   ]
  },
  {
   "cell_type": "code",
   "execution_count": null,
   "metadata": {},
   "outputs": [],
   "source": [
    "#| hide\n",
    "import nbdev\n",
    "\n",
    "nbdev.nbdev_export()"
   ]
  }
 ],
 "metadata": {
  "kernelspec": {
   "display_name": "python3",
   "language": "python",
   "name": "python3"
  }
 },
 "nbformat": 4,
 "nbformat_minor": 4
}
