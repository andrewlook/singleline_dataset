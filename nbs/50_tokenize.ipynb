{
 "cells": [
  {
   "cell_type": "markdown",
   "metadata": {},
   "source": [
    "# tokenize\n",
    "\n",
    "> Fill in a module description here"
   ]
  },
  {
   "cell_type": "code",
   "execution_count": null,
   "metadata": {},
   "outputs": [
    {
     "name": "stdout",
     "output_type": "stream",
     "text": [
      "The autoreload extension is already loaded. To reload it, use:\n",
      "  %reload_ext autoreload\n"
     ]
    }
   ],
   "source": [
    "%load_ext autoreload\n",
    "%autoreload 2"
   ]
  },
  {
   "cell_type": "code",
   "execution_count": null,
   "metadata": {},
   "outputs": [],
   "source": [
    "#| default_exp tokenize"
   ]
  },
  {
   "cell_type": "code",
   "execution_count": null,
   "metadata": {},
   "outputs": [],
   "source": [
    "#| hide\n",
    "from nbdev.showdoc import *"
   ]
  },
  {
   "cell_type": "code",
   "execution_count": null,
   "metadata": {},
   "outputs": [],
   "source": [
    "#| export\n",
    "import math\n",
    "import json\n",
    "\n",
    "import faiss\n",
    "import pandas as pd\n",
    "from fastai.vision.all import *\n",
    "\n",
    "from singleline_stroke3.embeddings import *\n",
    "from singleline_stroke3.display import *\n",
    "from singleline_stroke3.transforms import *\n",
    "from singleline_stroke3.fileorg import *"
   ]
  },
  {
   "cell_type": "code",
   "execution_count": null,
   "metadata": {},
   "outputs": [
    {
     "name": "stdout",
     "output_type": "stream",
     "text": [
      "no env var SINGLELINE_DATA_HOME, defaulting to: None\n"
     ]
    }
   ],
   "source": [
    "EXTERNAL_PARENT_DIR = Path('/Users/al/Dropbox/2-Areas/2-Sketchbooks')\n",
    "EXTERNAL_SKETCHBOOKS_DIR = EXTERNAL_PARENT_DIR / 'sketchbooks'\n",
    "EXTERNAL_DATA_HOME = EXTERNAL_PARENT_DIR / 'singleline_data'\n",
    "\n",
    "EPOCH = SketchbookEpoch(epoch='20240104', data_home=EXTERNAL_DATA_HOME)"
   ]
  },
  {
   "cell_type": "code",
   "execution_count": null,
   "metadata": {},
   "outputs": [
    {
     "data": {
      "text/html": [
       "<div>\n",
       "<style scoped>\n",
       "    .dataframe tbody tr th:only-of-type {\n",
       "        vertical-align: middle;\n",
       "    }\n",
       "\n",
       "    .dataframe tbody tr th {\n",
       "        vertical-align: top;\n",
       "    }\n",
       "\n",
       "    .dataframe thead th {\n",
       "        text-align: right;\n",
       "    }\n",
       "</style>\n",
       "<table border=\"1\" class=\"dataframe\">\n",
       "  <thead>\n",
       "    <tr style=\"text-align: right;\">\n",
       "      <th></th>\n",
       "      <th>new_idx</th>\n",
       "      <th>group_fname</th>\n",
       "      <th>group_id</th>\n",
       "      <th>group_num_strokes</th>\n",
       "      <th>group_num_points</th>\n",
       "      <th>indiv_fnamebboxsep_</th>\n",
       "      <th>orig_fname</th>\n",
       "      <th>labelbboxsep_</th>\n",
       "      <th>handlabeled_path</th>\n",
       "      <th>is_new</th>\n",
       "      <th>...</th>\n",
       "      <th>err_msg</th>\n",
       "      <th>indiv_fname</th>\n",
       "      <th>label</th>\n",
       "      <th>emb_csv</th>\n",
       "      <th>knn_dist</th>\n",
       "      <th>knn_clusterid</th>\n",
       "      <th>knn_label</th>\n",
       "      <th>cluster_label</th>\n",
       "      <th>rdp_num_points</th>\n",
       "      <th>rdp_epsilon</th>\n",
       "    </tr>\n",
       "    <tr>\n",
       "      <th>idx</th>\n",
       "      <th></th>\n",
       "      <th></th>\n",
       "      <th></th>\n",
       "      <th></th>\n",
       "      <th></th>\n",
       "      <th></th>\n",
       "      <th></th>\n",
       "      <th></th>\n",
       "      <th></th>\n",
       "      <th></th>\n",
       "      <th></th>\n",
       "      <th></th>\n",
       "      <th></th>\n",
       "      <th></th>\n",
       "      <th></th>\n",
       "      <th></th>\n",
       "      <th></th>\n",
       "      <th></th>\n",
       "      <th></th>\n",
       "      <th></th>\n",
       "      <th></th>\n",
       "    </tr>\n",
       "  </thead>\n",
       "  <tbody>\n",
       "    <tr>\n",
       "      <th>0</th>\n",
       "      <td>0</td>\n",
       "      <td>0_drawings/sb55p003g00.png</td>\n",
       "      <td>0</td>\n",
       "      <td>4</td>\n",
       "      <td>1510</td>\n",
       "      <td>sb55p003.jpg</td>\n",
       "      <td>art/sb55p003.jpg</td>\n",
       "      <td>art</td>\n",
       "      <td>0_drawings/sb55p003.jpg</td>\n",
       "      <td>False</td>\n",
       "      <td>...</td>\n",
       "      <td>NaN</td>\n",
       "      <td>sb55p003g00.png</td>\n",
       "      <td>0_drawings</td>\n",
       "      <td>0.04728329,-0.5714155,-0.73929733,-0.35399058,0.22400337,-0.65341413,0.11710799,-0.4896673,-0.7537334,-0.27084306,-0.43680793,-0.72562873,0.26104796,-0.6266761,-0.68991846,-0.57515705,-0.5467274,-0.6520286,2.2132683,-0.63401383,-0.64108604,0.0068377256,-0.5446661,-0.6779002,-0.40022308,-0.6690378,-0.25018138,-0.5982413,-0.73986673,1.0058696,-0.68509877,-0.67007643,0.5276551,-0.4592305,-0.600525,-0.3091834,-0.73933,-0.57338566,0.84570634,-0.6179389,-0.52985966,0.5803701,0.10534239,-0.6682474,-0.1908136,-0.59257406,-0.6157326,-0.6001429,1.3485551,1.1220317,0.10932493,-0.66552746,0.8113811,1....</td>\n",
       "      <td>196.44476</td>\n",
       "      <td>14</td>\n",
       "      <td>NaN</td>\n",
       "      <td>good</td>\n",
       "      <td>1510</td>\n",
       "      <td>0.0</td>\n",
       "    </tr>\n",
       "    <tr>\n",
       "      <th>1</th>\n",
       "      <td>1</td>\n",
       "      <td>0_drawings/sb73p061g00.png</td>\n",
       "      <td>0</td>\n",
       "      <td>2</td>\n",
       "      <td>128</td>\n",
       "      <td>sb73p061.jpg</td>\n",
       "      <td>art/sb73p061.jpg</td>\n",
       "      <td>art</td>\n",
       "      <td>0_drawings/sb73p061.jpg</td>\n",
       "      <td>False</td>\n",
       "      <td>...</td>\n",
       "      <td>NaN</td>\n",
       "      <td>sb73p061g00.png</td>\n",
       "      <td>0_drawings</td>\n",
       "      <td>-0.6198182,-0.5714155,-0.73929733,-0.6553513,-0.6254566,-0.65341413,-0.7267234,-0.46724933,-0.7537334,0.9455167,-0.62038505,-0.72562873,0.18925023,-0.6266761,0.33996195,-0.15316445,-0.5467274,0.03829068,1.0683823,0.23568732,-0.64108604,-0.55193967,-0.5446661,-0.022136033,1.4963098,-0.4510746,-0.4518578,-0.5982413,-0.28755826,0.1980134,-0.68509877,-0.67007643,-0.52171326,-0.19965711,-0.0069928765,-0.46161294,-0.73933,-0.50798476,0.03861904,0.68692446,-0.5830822,0.46990138,1.1344135,-0.6682474,0.6321523,-0.59257406,0.156174,-0.6001429,2.36085,0.16527855,-0.13570255,-0.63657653,0.61075664,0.7...</td>\n",
       "      <td>119.71115</td>\n",
       "      <td>10</td>\n",
       "      <td>NaN</td>\n",
       "      <td>good</td>\n",
       "      <td>128</td>\n",
       "      <td>0.0</td>\n",
       "    </tr>\n",
       "    <tr>\n",
       "      <th>5</th>\n",
       "      <td>5</td>\n",
       "      <td>0_drawings/sb73p041g00.png</td>\n",
       "      <td>0</td>\n",
       "      <td>3</td>\n",
       "      <td>702</td>\n",
       "      <td>sb73p041.jpg</td>\n",
       "      <td>art/sb73p041.jpg</td>\n",
       "      <td>art</td>\n",
       "      <td>0_drawings/sb73p041.jpg</td>\n",
       "      <td>False</td>\n",
       "      <td>...</td>\n",
       "      <td>NaN</td>\n",
       "      <td>sb73p041g00.png</td>\n",
       "      <td>0_drawings</td>\n",
       "      <td>-0.6198182,-0.5714155,-0.73929733,-0.6553513,-0.4395254,-0.65341413,-0.7267234,-0.30100727,-0.7537334,0.6979399,0.5823597,-0.72562873,-0.662768,0.702158,-0.6232817,-0.57515705,-0.22156492,-0.07576728,-0.25915077,0.7949797,-0.5030652,-0.55193967,-0.5446661,-0.6779002,-0.57759243,-0.6690378,-0.4518578,0.8875855,-0.73986673,0.2878165,-0.68509877,-0.67007643,-0.52171326,-0.20293939,-0.600525,0.28690326,-0.73933,0.13321829,-0.65925777,-0.6179389,-0.61049384,-0.58021957,-0.6189488,-0.6682474,-0.75794554,-0.59257406,0.2206502,-0.6001429,-0.3428496,-0.37840372,-0.59497476,-0.66552746,-0.6482407,0....</td>\n",
       "      <td>285.93152</td>\n",
       "      <td>8</td>\n",
       "      <td>NaN</td>\n",
       "      <td>good</td>\n",
       "      <td>702</td>\n",
       "      <td>0.0</td>\n",
       "    </tr>\n",
       "    <tr>\n",
       "      <th>6</th>\n",
       "      <td>6</td>\n",
       "      <td>0_drawings/sb73p041g01.png</td>\n",
       "      <td>1</td>\n",
       "      <td>1</td>\n",
       "      <td>205</td>\n",
       "      <td>sb73p041.jpg</td>\n",
       "      <td>art/sb73p041.jpg</td>\n",
       "      <td>art</td>\n",
       "      <td>0_drawings/sb73p041.jpg</td>\n",
       "      <td>False</td>\n",
       "      <td>...</td>\n",
       "      <td>NaN</td>\n",
       "      <td>sb73p041g01.png</td>\n",
       "      <td>0_drawings</td>\n",
       "      <td>-0.6198182,-0.5714155,-0.73929733,-0.6553513,0.058876395,-0.65341413,-0.7267234,-0.42173523,-0.7537334,0.7433976,0.19966531,-0.72562873,0.62771916,-0.6266761,-0.68991846,-0.57515705,-0.5467274,1.5417054,2.402433,-0.6497359,-0.64108604,-0.4386818,-0.5446661,-0.6779002,-0.57759243,-0.6690378,-0.4518578,0.11702931,-0.73986673,-0.45211998,-0.68509877,-0.67007643,-0.52171326,0.34430972,-0.48163074,-0.6186755,-0.73933,0.040438354,-0.65925777,0.7474549,-0.61049384,0.30740798,1.8930382,-0.6682474,-0.75794554,-0.59257406,-0.3586682,0.89375025,-0.651804,0.08712256,1.415978,-0.66552746,-0.6482407,-0....</td>\n",
       "      <td>179.57721</td>\n",
       "      <td>8</td>\n",
       "      <td>NaN</td>\n",
       "      <td>good</td>\n",
       "      <td>205</td>\n",
       "      <td>0.0</td>\n",
       "    </tr>\n",
       "    <tr>\n",
       "      <th>10</th>\n",
       "      <td>10</td>\n",
       "      <td>0_drawings/sb55p080g00.png</td>\n",
       "      <td>0</td>\n",
       "      <td>4</td>\n",
       "      <td>1462</td>\n",
       "      <td>sb55p080.jpg</td>\n",
       "      <td>art/sb55p080.jpg</td>\n",
       "      <td>art</td>\n",
       "      <td>0_drawings/sb55p080.jpg</td>\n",
       "      <td>False</td>\n",
       "      <td>...</td>\n",
       "      <td>NaN</td>\n",
       "      <td>sb55p080g00.png</td>\n",
       "      <td>0_drawings</td>\n",
       "      <td>-0.6198182,-0.5714155,-0.12864059,-0.6553513,0.03367281,-0.3521561,-0.7267234,-0.47485968,-0.7537334,-0.42715576,1.136474,-0.72562873,2.6017675,-0.6266761,-0.68991846,-0.57515705,-0.5467274,1.0752423,-0.02930379,1.118658,0.39956325,-0.55193967,-0.5446661,-0.6779002,-0.57759243,-0.6690378,-0.4518578,0.16788304,-0.42450532,-0.45211998,-0.68509877,-0.67007643,-0.23189741,0.37339267,1.0403941,0.11935049,-0.73933,-0.19533288,1.3258636,-0.53331745,-0.61049384,1.4947255,0.25517285,-0.59559596,-0.75794554,-0.59257406,0.2976374,-0.6001429,-0.651804,0.09863156,1.5771475,-0.66552746,-0.15108436,0.443...</td>\n",
       "      <td>143.85107</td>\n",
       "      <td>5</td>\n",
       "      <td>NaN</td>\n",
       "      <td>good</td>\n",
       "      <td>1462</td>\n",
       "      <td>0.0</td>\n",
       "    </tr>\n",
       "  </tbody>\n",
       "</table>\n",
       "<p>5 rows × 27 columns</p>\n",
       "</div>"
      ],
      "text/plain": [
       "     new_idx                 group_fname  group_id  group_num_strokes  \\\n",
       "idx                                                                     \n",
       "0          0  0_drawings/sb55p003g00.png         0                  4   \n",
       "1          1  0_drawings/sb73p061g00.png         0                  2   \n",
       "5          5  0_drawings/sb73p041g00.png         0                  3   \n",
       "6          6  0_drawings/sb73p041g01.png         1                  1   \n",
       "10        10  0_drawings/sb55p080g00.png         0                  4   \n",
       "\n",
       "     group_num_points indiv_fnamebboxsep_        orig_fname labelbboxsep_  \\\n",
       "idx                                                                         \n",
       "0                1510        sb55p003.jpg  art/sb55p003.jpg           art   \n",
       "1                 128        sb73p061.jpg  art/sb73p061.jpg           art   \n",
       "5                 702        sb73p041.jpg  art/sb73p041.jpg           art   \n",
       "6                 205        sb73p041.jpg  art/sb73p041.jpg           art   \n",
       "10               1462        sb55p080.jpg  art/sb55p080.jpg           art   \n",
       "\n",
       "            handlabeled_path  is_new  ... err_msg      indiv_fname  \\\n",
       "idx                                   ...                            \n",
       "0    0_drawings/sb55p003.jpg   False  ...     NaN  sb55p003g00.png   \n",
       "1    0_drawings/sb73p061.jpg   False  ...     NaN  sb73p061g00.png   \n",
       "5    0_drawings/sb73p041.jpg   False  ...     NaN  sb73p041g00.png   \n",
       "6    0_drawings/sb73p041.jpg   False  ...     NaN  sb73p041g01.png   \n",
       "10   0_drawings/sb55p080.jpg   False  ...     NaN  sb55p080g00.png   \n",
       "\n",
       "          label  \\\n",
       "idx               \n",
       "0    0_drawings   \n",
       "1    0_drawings   \n",
       "5    0_drawings   \n",
       "6    0_drawings   \n",
       "10   0_drawings   \n",
       "\n",
       "                                                                                                                                                                                                                                                                                                                                                                                                                                                                                                                                                                                                                     emb_csv  \\\n",
       "idx                                                                                                                                                                                                                                                                                                                                                                                                                                                                                                                                                                                                                            \n",
       "0    0.04728329,-0.5714155,-0.73929733,-0.35399058,0.22400337,-0.65341413,0.11710799,-0.4896673,-0.7537334,-0.27084306,-0.43680793,-0.72562873,0.26104796,-0.6266761,-0.68991846,-0.57515705,-0.5467274,-0.6520286,2.2132683,-0.63401383,-0.64108604,0.0068377256,-0.5446661,-0.6779002,-0.40022308,-0.6690378,-0.25018138,-0.5982413,-0.73986673,1.0058696,-0.68509877,-0.67007643,0.5276551,-0.4592305,-0.600525,-0.3091834,-0.73933,-0.57338566,0.84570634,-0.6179389,-0.52985966,0.5803701,0.10534239,-0.6682474,-0.1908136,-0.59257406,-0.6157326,-0.6001429,1.3485551,1.1220317,0.10932493,-0.66552746,0.8113811,1....   \n",
       "1    -0.6198182,-0.5714155,-0.73929733,-0.6553513,-0.6254566,-0.65341413,-0.7267234,-0.46724933,-0.7537334,0.9455167,-0.62038505,-0.72562873,0.18925023,-0.6266761,0.33996195,-0.15316445,-0.5467274,0.03829068,1.0683823,0.23568732,-0.64108604,-0.55193967,-0.5446661,-0.022136033,1.4963098,-0.4510746,-0.4518578,-0.5982413,-0.28755826,0.1980134,-0.68509877,-0.67007643,-0.52171326,-0.19965711,-0.0069928765,-0.46161294,-0.73933,-0.50798476,0.03861904,0.68692446,-0.5830822,0.46990138,1.1344135,-0.6682474,0.6321523,-0.59257406,0.156174,-0.6001429,2.36085,0.16527855,-0.13570255,-0.63657653,0.61075664,0.7...   \n",
       "5    -0.6198182,-0.5714155,-0.73929733,-0.6553513,-0.4395254,-0.65341413,-0.7267234,-0.30100727,-0.7537334,0.6979399,0.5823597,-0.72562873,-0.662768,0.702158,-0.6232817,-0.57515705,-0.22156492,-0.07576728,-0.25915077,0.7949797,-0.5030652,-0.55193967,-0.5446661,-0.6779002,-0.57759243,-0.6690378,-0.4518578,0.8875855,-0.73986673,0.2878165,-0.68509877,-0.67007643,-0.52171326,-0.20293939,-0.600525,0.28690326,-0.73933,0.13321829,-0.65925777,-0.6179389,-0.61049384,-0.58021957,-0.6189488,-0.6682474,-0.75794554,-0.59257406,0.2206502,-0.6001429,-0.3428496,-0.37840372,-0.59497476,-0.66552746,-0.6482407,0....   \n",
       "6    -0.6198182,-0.5714155,-0.73929733,-0.6553513,0.058876395,-0.65341413,-0.7267234,-0.42173523,-0.7537334,0.7433976,0.19966531,-0.72562873,0.62771916,-0.6266761,-0.68991846,-0.57515705,-0.5467274,1.5417054,2.402433,-0.6497359,-0.64108604,-0.4386818,-0.5446661,-0.6779002,-0.57759243,-0.6690378,-0.4518578,0.11702931,-0.73986673,-0.45211998,-0.68509877,-0.67007643,-0.52171326,0.34430972,-0.48163074,-0.6186755,-0.73933,0.040438354,-0.65925777,0.7474549,-0.61049384,0.30740798,1.8930382,-0.6682474,-0.75794554,-0.59257406,-0.3586682,0.89375025,-0.651804,0.08712256,1.415978,-0.66552746,-0.6482407,-0....   \n",
       "10   -0.6198182,-0.5714155,-0.12864059,-0.6553513,0.03367281,-0.3521561,-0.7267234,-0.47485968,-0.7537334,-0.42715576,1.136474,-0.72562873,2.6017675,-0.6266761,-0.68991846,-0.57515705,-0.5467274,1.0752423,-0.02930379,1.118658,0.39956325,-0.55193967,-0.5446661,-0.6779002,-0.57759243,-0.6690378,-0.4518578,0.16788304,-0.42450532,-0.45211998,-0.68509877,-0.67007643,-0.23189741,0.37339267,1.0403941,0.11935049,-0.73933,-0.19533288,1.3258636,-0.53331745,-0.61049384,1.4947255,0.25517285,-0.59559596,-0.75794554,-0.59257406,0.2976374,-0.6001429,-0.651804,0.09863156,1.5771475,-0.66552746,-0.15108436,0.443...   \n",
       "\n",
       "      knn_dist  knn_clusterid  knn_label  cluster_label rdp_num_points  \\\n",
       "idx                                                                      \n",
       "0    196.44476             14        NaN           good           1510   \n",
       "1    119.71115             10        NaN           good            128   \n",
       "5    285.93152              8        NaN           good            702   \n",
       "6    179.57721              8        NaN           good            205   \n",
       "10   143.85107              5        NaN           good           1462   \n",
       "\n",
       "    rdp_epsilon  \n",
       "idx              \n",
       "0           0.0  \n",
       "1           0.0  \n",
       "5           0.0  \n",
       "6           0.0  \n",
       "10          0.0  \n",
       "\n",
       "[5 rows x 27 columns]"
      ]
     },
     "execution_count": null,
     "metadata": {},
     "output_type": "execute_result"
    }
   ],
   "source": [
    "THRESHOLDED_OUTPUT_DIR = EPOCH.dir_08_THRESHOLDED()\n",
    "THESHOLDED_TSV_FNAME = EPOCH.tsv_08_THRESHOLDED()\n",
    "fjdf = pd.read_csv(THESHOLDED_TSV_FNAME, delimiter=\"\\t\", index_col=\"idx\")\n",
    "fjdf.head()"
   ]
  },
  {
   "cell_type": "code",
   "execution_count": null,
   "metadata": {},
   "outputs": [
    {
     "name": "stdout",
     "output_type": "stream",
     "text": [
      "num drawings in dataset: 1550\n"
     ]
    }
   ],
   "source": [
    "THRESHOLDED_NPZ_ALL = THRESHOLDED_OUTPUT_DIR / 'furtherfiltered_all.npz'\n",
    "ds = np.load(THRESHOLDED_NPZ_ALL, encoding='latin1', allow_pickle=True)['arr_0']\n",
    "print(f\"num drawings in dataset: {ds.shape[0]}\")"
   ]
  },
  {
   "cell_type": "code",
   "execution_count": null,
   "metadata": {},
   "outputs": [
    {
     "name": "stdout",
     "output_type": "stream",
     "text": [
      "num individual steps in all strokes in dataset: 315396\n"
     ]
    }
   ],
   "source": [
    "# stack all drawings, to get one big array of all the stroke3 steps in the dataset\n",
    "all_steps = np.vstack(ds).astype(np.float32)\n",
    "print(f\"num individual steps in all strokes in dataset: {all_steps.shape[0]}\")"
   ]
  },
  {
   "cell_type": "code",
   "execution_count": null,
   "metadata": {},
   "outputs": [
    {
     "name": "stdout",
     "output_type": "stream",
     "text": [
      "num steps with lift_pen=0: 312557\n",
      "num steps with lift_pen=1: 2839\n"
     ]
    }
   ],
   "source": [
    "zero_indices = []\n",
    "one_indices = []\n",
    "for idx, is_zero in enumerate(all_steps[:,2]==0):\n",
    "    if is_zero:\n",
    "        zero_indices.append(idx)\n",
    "    else:\n",
    "        one_indices.append(idx)\n",
    "\n",
    "zero_steps = all_steps[zero_indices]\n",
    "one_steps = all_steps[one_indices]\n",
    "\n",
    "print(f\"num steps with lift_pen=0: {zero_steps.shape[0]}\")\n",
    "print(f\"num steps with lift_pen=1: {one_steps.shape[0]}\")"
   ]
  },
  {
   "cell_type": "code",
   "execution_count": null,
   "metadata": {},
   "outputs": [],
   "source": [
    "kmeans_zero = train_kmeans(zero_steps, ncentroids=960, nredo=10, seed=42)\n",
    "kmeans_one = train_kmeans(one_steps, ncentroids=40, nredo=10, seed=42)"
   ]
  },
  {
   "cell_type": "raw",
   "metadata": {},
   "source": [
    "print(kmeans_zero.centroids.shape, kmeans_one.centroids.shape)"
   ]
  },
  {
   "cell_type": "code",
   "execution_count": null,
   "metadata": {},
   "outputs": [],
   "source": [
    "#kmeans_zero.centroids"
   ]
  },
  {
   "cell_type": "code",
   "execution_count": null,
   "metadata": {},
   "outputs": [],
   "source": [
    "# kmeans_one.centroids"
   ]
  },
  {
   "cell_type": "code",
   "execution_count": null,
   "metadata": {},
   "outputs": [],
   "source": [
    "#| export\n",
    "class Stroke3Tokenizer(object):\n",
    "\n",
    "    def __init__(self, centroids_zero, centroids_one):\n",
    "        self.centroids_zero = centroids_zero\n",
    "        print(self.centroids_zero.shape)\n",
    "        self.kmeans_zero = faiss.IndexFlatL2(self.centroids_zero.shape[1])\n",
    "        self.kmeans_zero.add(self.centroids_zero)\n",
    "\n",
    "        self.centroids_one = centroids_one\n",
    "        self.kmeans_one = faiss.IndexFlatL2(self.centroids_one.shape[1])\n",
    "        self.kmeans_one.add(self.centroids_one)\n",
    "\n",
    "    def save(self, base_dir, extra_suffix=\"\"):\n",
    "        CENTROIDS_FNAME = base_dir / f\"stroke3_centroids{extra_suffix}.json\"\n",
    "        with open(CENTROIDS_FNAME, 'w') as outfile:\n",
    "            payload = {\n",
    "                'centroids_zero': self.centroids_zero.tolist(),\n",
    "                'centroids_one': self.centroids_one.tolist(),\n",
    "            }\n",
    "            json.dump(payload, outfile, indent=2)\n",
    "        print(f\"wrote {CENTROIDS_FNAME}\")\n",
    "\n",
    "    @staticmethod\n",
    "    def load(base_dir, extra_suffix=\"\"):\n",
    "        CENTROIDS_FNAME = base_dir / f\"stroke3_centroids{extra_suffix}.json\"\n",
    "        with open(CENTROIDS_FNAME, 'r') as infile:\n",
    "            payload = json.load(infile)\n",
    "        centroids_zero = np.array(payload['centroids_zero'], dtype=np.float32)\n",
    "        centroids_one = np.array(payload['centroids_one'], dtype=np.float32)\n",
    "\n",
    "        tokenizer = Stroke3Tokenizer(centroids_zero, centroids_one)\n",
    "        return tokenizer\n",
    "\n",
    "    def encode(self, input_deltas):\n",
    "        \"\"\"\n",
    "        total vocabulary size is len(centroids_zero) + len(centroids_one).\n",
    "\n",
    "        for a point with lift_pen=0, the \"word\" index in the vocabulary\n",
    "        is equal to its position within the centroids_zero list.\n",
    "\n",
    "        for a point with lift_pen=1, the \"word\" index in the vocabulary\n",
    "        is equal to its position within the centroids_one list, PLUS\n",
    "        the total length of the centroids_zero list.\n",
    "        \"\"\"\n",
    "        D0, I0 = self.kmeans_zero.search(input_deltas, 1)\n",
    "        D1, I1 = self.kmeans_one.search(input_deltas, 1)\n",
    "        \n",
    "        tokens = []\n",
    "        for idx in range(input_deltas.shape[0]):\n",
    "            row = input_deltas[idx]\n",
    "            if row[2] == 0:\n",
    "                tokens.append(I0[idx][0])\n",
    "            elif row[2] == 1:\n",
    "                tokens.append(I1[idx][0] + self.centroids_zero.shape[0])\n",
    "            else:\n",
    "                raise Exception ('didnt find a 0 or 1 in the lift_pen column')\n",
    "        return tokens\n",
    "\n",
    "    def decode(self, tokens):\n",
    "        num_zero = self.centroids_zero.shape[0]\n",
    "        num_one = self.centroids_one.shape[0]\n",
    "        decoded = []\n",
    "        for tok in tokens:\n",
    "            if tok < 0:\n",
    "                raise Exception(\"invalid token index\")\n",
    "            if tok < num_zero:\n",
    "                decoded.append(self.centroids_zero[tok])\n",
    "            elif tok < (num_zero + num_one):\n",
    "                decoded.append(self.centroids_one[tok - num_zero])\n",
    "            else:\n",
    "                raise Exception(\"invalid token index\")\n",
    "        return np.array(decoded)\n",
    "            "
   ]
  },
  {
   "cell_type": "code",
   "execution_count": null,
   "metadata": {},
   "outputs": [],
   "source": [
    "# t = Stroke3Tokenizer(kmeans_zero.centroids, kmeans_one.centroids)\n",
    "# t.save(THRESHOLDED_OUTPUT_DIR)"
   ]
  },
  {
   "cell_type": "code",
   "execution_count": null,
   "metadata": {},
   "outputs": [
    {
     "name": "stdout",
     "output_type": "stream",
     "text": [
      "(2048, 3)\n"
     ]
    }
   ],
   "source": [
    "tokenizer = Stroke3Tokenizer.load(THRESHOLDED_OUTPUT_DIR)"
   ]
  },
  {
   "cell_type": "code",
   "execution_count": null,
   "metadata": {},
   "outputs": [],
   "source": [
    "test_toks = tokenizer.encode(ds[2])"
   ]
  },
  {
   "cell_type": "code",
   "execution_count": null,
   "metadata": {},
   "outputs": [
    {
     "data": {
      "text/plain": [
       "[1635, 1251, 1393, 1013, 671]"
      ]
     },
     "execution_count": null,
     "metadata": {},
     "output_type": "execute_result"
    }
   ],
   "source": [
    "test_toks[0:5]"
   ]
  },
  {
   "cell_type": "code",
   "execution_count": null,
   "metadata": {},
   "outputs": [
    {
     "data": {
      "text/plain": [
       "array([[ 0.3155888, 37.36093  ,  0.       ],\n",
       "       [ 7.065908 , -8.754673 ,  0.       ],\n",
       "       [-1.8780638,  6.4204984,  0.       ],\n",
       "       [ 4.526787 ,  4.7838955,  0.       ],\n",
       "       [ 4.9135633, 11.580178 ,  0.       ]], dtype=float32)"
      ]
     },
     "execution_count": null,
     "metadata": {},
     "output_type": "execute_result"
    }
   ],
   "source": [
    "test_decoded = tokenizer.decode(test_toks)\n",
    "test_decoded[:5]"
   ]
  },
  {
   "cell_type": "code",
   "execution_count": null,
   "metadata": {},
   "outputs": [
    {
     "data": {
      "image/png": "[encoded data removed]",
      "text/plain": [
       "<Figure size 432x288 with 1 Axes>"
      ]
     },
     "metadata": {},
     "output_type": "display_data"
    }
   ],
   "source": [
    "plot_strokes(deltas_to_strokes(test_decoded))"
   ]
  },
  {
   "cell_type": "code",
   "execution_count": null,
   "metadata": {},
   "outputs": [
    {
     "data": {
      "text/plain": [
       "array([[ 0.6209417 , -0.33721057,  0.        ],\n",
       "       [-4.1855707 , -3.1003277 ,  0.        ],\n",
       "       [ 5.7066207 ,  2.6960166 ,  0.        ],\n",
       "       ...,\n",
       "       [-1.1269675 , -0.28028095,  0.        ],\n",
       "       [-3.6861207 , -4.5447764 ,  0.        ],\n",
       "       [-1.6025403 ,  0.5354872 ,  0.        ]], dtype=float32)"
      ]
     },
     "execution_count": null,
     "metadata": {},
     "output_type": "execute_result"
    }
   ],
   "source": [
    "tokenizer.centroids_zero"
   ]
  },
  {
   "cell_type": "code",
   "execution_count": null,
   "metadata": {},
   "outputs": [
    {
     "data": {
      "image/png": "[encoded data removed]",
      "text/plain": [
       "<Figure size 432x288 with 1 Axes>"
      ]
     },
     "metadata": {},
     "output_type": "display_data"
    }
   ],
   "source": [
    "plot_strokes(deltas_to_strokes(ds[2]))"
   ]
  },
  {
   "cell_type": "code",
   "execution_count": null,
   "metadata": {},
   "outputs": [],
   "source": [
    "deltas_tmp = ds[2]"
   ]
  },
  {
   "cell_type": "code",
   "execution_count": null,
   "metadata": {},
   "outputs": [
    {
     "data": {
      "text/plain": [
       "(242, 3)"
      ]
     },
     "execution_count": null,
     "metadata": {},
     "output_type": "execute_result"
    }
   ],
   "source": [
    "deltas_tmp.shape"
   ]
  },
  {
   "cell_type": "code",
   "execution_count": null,
   "metadata": {},
   "outputs": [
    {
     "data": {
      "text/plain": [
       "array([[ 0.3771549 , 38.41915779,  0.        ],\n",
       "       [ 6.84299279, -8.26956107,  0.        ],\n",
       "       [-1.94953761,  6.4101698 ,  0.        ],\n",
       "       [ 4.55352531,  4.95268558,  0.        ],\n",
       "       [ 4.70517464, 11.38796166,  0.        ]])"
      ]
     },
     "execution_count": null,
     "metadata": {},
     "output_type": "execute_result"
    }
   ],
   "source": [
    "deltas_tmp[:5]"
   ]
  },
  {
   "cell_type": "code",
   "execution_count": null,
   "metadata": {},
   "outputs": [],
   "source": [
    "D0, I0 = kmeans_zero.index.search(deltas_tmp, 1)\n",
    "D1, I1 = kmeans_one.index.search(deltas_tmp, 1)\n",
    "\n",
    "S0 = kmeans_zero.centroids[I0]\n",
    "S1 = kmeans_one.centroids[I1]\n"
   ]
  },
  {
   "cell_type": "code",
   "execution_count": null,
   "metadata": {},
   "outputs": [
    {
     "data": {
      "image/png": "[encoded data removed]",
      "text/plain": [
       "<Figure size 432x288 with 1 Axes>"
      ]
     },
     "metadata": {},
     "output_type": "display_data"
    }
   ],
   "source": [
    "plot_strokes(deltas_to_strokes(deltas_tmp))"
   ]
  },
  {
   "cell_type": "code",
   "execution_count": null,
   "metadata": {},
   "outputs": [],
   "source": [
    "tokenized_steps = []\n",
    "for idx in range(deltas_tmp.shape[0]):\n",
    "    row = deltas_tmp[idx]\n",
    "    if row[2] == 0:\n",
    "        tokenized_steps.append(S0[idx][0])\n",
    "    elif row[2] == 1:\n",
    "        tokenized_steps.append(S1[idx][0])\n",
    "    else:\n",
    "        raise Exception ('didnt find a 0 or 1 in the lift_pen column')\n",
    "\n",
    "new_deltas = np.array(tokenized_steps)"
   ]
  },
  {
   "cell_type": "code",
   "execution_count": null,
   "metadata": {},
   "outputs": [
    {
     "data": {
      "text/plain": [
       "array([[-3.3815517, 40.04465  ,  0.       ],\n",
       "       [ 6.9500613, -8.3709345,  0.       ],\n",
       "       [-1.9793537,  6.5232167,  0.       ],\n",
       "       [ 4.097289 ,  4.915239 ,  0.       ],\n",
       "       [ 4.9076104, 11.547217 ,  0.       ]], dtype=float32)"
      ]
     },
     "execution_count": null,
     "metadata": {},
     "output_type": "execute_result"
    }
   ],
   "source": [
    "new_deltas[0:5]"
   ]
  },
  {
   "cell_type": "code",
   "execution_count": null,
   "metadata": {},
   "outputs": [
    {
     "data": {
      "text/plain": [
       "242"
      ]
     },
     "execution_count": null,
     "metadata": {},
     "output_type": "execute_result"
    }
   ],
   "source": [
    "len(new_deltas)"
   ]
  },
  {
   "cell_type": "code",
   "execution_count": null,
   "metadata": {},
   "outputs": [
    {
     "data": {
      "text/plain": [
       "242"
      ]
     },
     "execution_count": null,
     "metadata": {},
     "output_type": "execute_result"
    }
   ],
   "source": [
    "len(deltas_tmp)"
   ]
  },
  {
   "cell_type": "code",
   "execution_count": null,
   "metadata": {},
   "outputs": [],
   "source": []
  },
  {
   "cell_type": "code",
   "execution_count": null,
   "metadata": {},
   "outputs": [],
   "source": []
  },
  {
   "cell_type": "code",
   "execution_count": null,
   "metadata": {},
   "outputs": [],
   "source": []
  },
  {
   "cell_type": "code",
   "execution_count": null,
   "metadata": {},
   "outputs": [],
   "source": [
    "#| hide\n",
    "import nbdev\n",
    "\n",
    "nbdev.nbdev_export()"
   ]
  },
  {
   "cell_type": "code",
   "execution_count": null,
   "metadata": {},
   "outputs": [],
   "source": []
  }
 ],
 "metadata": {
  "kernelspec": {
   "display_name": "python3",
   "language": "python",
   "name": "python3"
  }
 },
 "nbformat": 4,
 "nbformat_minor": 4
}
