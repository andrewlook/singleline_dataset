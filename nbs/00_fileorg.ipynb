{
 "cells": [
  {
   "cell_type": "markdown",
   "metadata": {},
   "source": [
    "# fileorg\n",
    "\n",
    "> Fill in a module description here"
   ]
  },
  {
   "cell_type": "code",
   "execution_count": null,
   "metadata": {},
   "outputs": [],
   "source": [
    "#| default_exp fileorg"
   ]
  },
  {
   "cell_type": "code",
   "execution_count": null,
   "metadata": {},
   "outputs": [],
   "source": [
    "#| hide\n",
    "%load_ext autoreload\n",
    "%autoreload 2"
   ]
  },
  {
   "cell_type": "code",
   "execution_count": null,
   "metadata": {},
   "outputs": [],
   "source": [
    "#| hide\n",
    "from nbdev.showdoc import *"
   ]
  },
  {
   "cell_type": "code",
   "execution_count": null,
   "metadata": {},
   "outputs": [],
   "source": [
    "#| export\n",
    "import os\n",
    "import shutil\n",
    "from pathlib import Path\n",
    "\n",
    "from fastai.vision.all import get_image_files"
   ]
  },
  {
   "cell_type": "code",
   "execution_count": null,
   "metadata": {},
   "outputs": [],
   "source": [
    "#| export\n",
    "DEFAULT_HOME_DIR=Path.home()/'singleline_data'\n",
    "\n",
    "def _path_from_env(variable, default):\n",
    "    value = os.environ.get(variable)\n",
    "    if value and os.path.isabs(value):\n",
    "        print(f'found env var {variable}, using: {value}')\n",
    "        return Path(value)\n",
    "    return Path(default)\n",
    "\n",
    "def singleline_data_home(default=DEFAULT_HOME_DIR):\n",
    "    return _path_from_env('SINGLELINE_DATA_HOME', default)\n",
    "\n",
    "def raster_dir(default=DEFAULT_HOME_DIR):\n",
    "    return singleline_data_home(default) / 'raster'\n",
    "\n",
    "def svg_dir(default=DEFAULT_HOME_DIR):\n",
    "    return singleline_data_home(default) / 'svg'\n",
    "\n",
    "def stroke3_dir(default=DEFAULT_HOME_DIR):\n",
    "    return singleline_data_home(default) / 'stroke3'\n",
    "\n",
    "def epoch_subdir(base: Path, epoch: str):\n",
    "    return base / f\"epoch-{epoch}\"\n"
   ]
  },
  {
   "cell_type": "code",
   "execution_count": null,
   "metadata": {},
   "outputs": [],
   "source": [
    "#| export\n",
    "def flat_sketchbook_paths(data_root, exclude_parents=[\"xtra\", \"priv\"]):\n",
    "    for p in get_image_files(data_root):\n",
    "        # ex. '016.jpg'\n",
    "        name = os.path.basename(p)\n",
    "        # ex. 'art'\n",
    "        parent_dir = os.path.dirname(p)\n",
    "        parent_name = os.path.basename(parent_dir)\n",
    "        if parent_name in exclude_parents:\n",
    "            continue\n",
    "        # ex. 'sb44'\n",
    "        grandparent_dir = os.path.dirname(parent_dir)\n",
    "        grandparent_name = os.path.basename(grandparent_dir)\n",
    "\n",
    "        # # should be same as data_root\n",
    "        # greatgrandparent_dir = os.path.dirname(grandparent_dir)\n",
    "        # print(greatgrandparent_dir, data_root)\n",
    "        # assert data_root == str(greatgrandparent_dir)\n",
    "\n",
    "        dest_fname = f\"{parent_name}/{grandparent_name}p{name}\"\n",
    "\n",
    "        yield {\n",
    "            \"source_abs\": p,\n",
    "            \"dest_fname\": dest_fname,\n",
    "            \"parent_name\": parent_name,\n",
    "            \"grandparent_name\": grandparent_name,\n",
    "        }"
   ]
  },
  {
   "cell_type": "code",
   "execution_count": null,
   "metadata": {},
   "outputs": [],
   "source": [
    "#| export\n",
    "def flatten_sketchbooks(source_root, dest_root):\n",
    "    parent_counts = {}\n",
    "    grandparent_counts = {}\n",
    "    for f in flat_sketchbook_paths(source_root):\n",
    "        source_abs = f[\"source_abs\"]\n",
    "        dest_abs = Path(dest_root) / f[\"dest_fname\"]\n",
    "        dest_dir = os.path.dirname(dest_abs)\n",
    "        if not os.path.isdir(dest_dir):\n",
    "            print(f\"creating {dest_dir}\")\n",
    "            os.makedirs(dest_dir)\n",
    "        if not os.path.exists(dest_abs):\n",
    "            print(f\"copying {source_abs} to {dest_abs}\")\n",
    "            shutil.copy(source_abs, dest_abs)\n",
    "\n",
    "        parent_cnt = parent_counts.get(f[\"parent_name\"], 0)\n",
    "        parent_counts[f[\"parent_name\"]] = parent_cnt + 1\n",
    "        grandparent_cnt = grandparent_counts.get(f[\"grandparent_name\"], 0)\n",
    "        grandparent_counts[f[\"grandparent_name\"]] = grandparent_cnt + 1\n",
    "    return parent_counts, grandparent_counts"
   ]
  },
  {
   "cell_type": "code",
   "execution_count": null,
   "metadata": {},
   "outputs": [],
   "source": [
    "# source_root = \"../data/00_RAW/sample\"\n",
    "# dest_root = \"../data/01_FLAT/sample\"\n",
    "\n",
    "# # source_root = \"/Users/al/Dropbox/2-Areas/2-Sketchbooks/sketchbooks\"\n",
    "# # dest_root = \"/Users/al/Dropbox/2-Areas/2-Sketchbooks/raster/epoch-20231214/01_FLAT\"\n",
    "\n",
    "# parents, grandparents = flatten_sketchbooks(source_root, dest_root)"
   ]
  },
  {
   "cell_type": "code",
   "execution_count": null,
   "metadata": {},
   "outputs": [],
   "source": [
    "#| hide\n",
    "import nbdev\n",
    "\n",
    "nbdev.nbdev_export()"
   ]
  },
  {
   "cell_type": "code",
   "execution_count": null,
   "metadata": {},
   "outputs": [],
   "source": []
  }
 ],
 "metadata": {
  "kernelspec": {
   "display_name": "python3",
   "language": "python",
   "name": "python3"
  }
 },
 "nbformat": 4,
 "nbformat_minor": 4
}
