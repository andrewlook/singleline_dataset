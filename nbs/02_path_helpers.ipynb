{
 "cells": [
  {
   "cell_type": "markdown",
   "metadata": {},
   "source": [
    "# path_helpers\n",
    "\n",
    "> Converting SVG paths to a series of points"
   ]
  },
  {
   "cell_type": "code",
   "execution_count": null,
   "metadata": {},
   "outputs": [],
   "source": [
    "#| default_exp path_helpers"
   ]
  },
  {
   "cell_type": "code",
   "execution_count": null,
   "metadata": {},
   "outputs": [
    {
     "name": "stdout",
     "output_type": "stream",
     "text": [
      "The autoreload extension is already loaded. To reload it, use:\n",
      "  %reload_ext autoreload\n"
     ]
    }
   ],
   "source": [
    "#| hide\n",
    "%load_ext autoreload\n",
    "%autoreload 2"
   ]
  },
  {
   "cell_type": "code",
   "execution_count": null,
   "metadata": {},
   "outputs": [],
   "source": [
    "#| hide\n",
    "from nbdev.showdoc import *"
   ]
  },
  {
   "cell_type": "code",
   "execution_count": null,
   "metadata": {},
   "outputs": [],
   "source": []
  },
  {
   "cell_type": "code",
   "execution_count": null,
   "metadata": {},
   "outputs": [],
   "source": [
    "#| export\n",
    "import numpy\n",
    "\n",
    "\n",
    "def to_points(parsed_path, n):\n",
    "    prev = None\n",
    "    acc = []\n",
    "    step_size = 1.0 / n\n",
    "    for x in np.arange(0.0, 1.0, step_size):\n",
    "        _complex_pt = parsed_path.point(x)\n",
    "        _x = _complex_pt.real\n",
    "        _y = _complex_pt.imag\n",
    "        pt = (_x, _y)\n",
    "        acc.append(pt)\n",
    "    return acc"
   ]
  },
  {
   "cell_type": "code",
   "execution_count": null,
   "metadata": {},
   "outputs": [],
   "source": [
    "#| export\n",
    "def discretize_path(path, total_n=1000, min_n=3):\n",
    "    chunk_size = path.length() / total_n\n",
    "    subpaths = []\n",
    "    for subpath in path.continuous_subpaths():\n",
    "        sub_n = subpath.length() / chunk_size\n",
    "        # drop paths shorter than the minimum number of points.\n",
    "        if sub_n < min_n:\n",
    "            continue\n",
    "        # TODO: consider joining subpaths if the next start point is within 'dist' of this endpoint\n",
    "        subpaths.append(np.array(to_points(subpath, n=sub_n)))\n",
    "    return np.array(subpaths, dtype=object)"
   ]
  },
  {
   "cell_type": "code",
   "execution_count": null,
   "metadata": {},
   "outputs": [],
   "source": [
    "#| export\n",
    "def discretize_paths(paths, total_n=1000, min_n=3):\n",
    "    all_strokes = []\n",
    "    total_length = sum([p.length() for p in paths])\n",
    "    for p in paths:\n",
    "        # compute number of points to generate for curr path based on ratio to total path length\n",
    "        path_n = int(total_n * p.length() / total_length)\n",
    "        # if number of points is less than the minimum, drop it.\n",
    "        if path_n < min_n:\n",
    "            # print(f\"skipping path - path_n={path_n}, path_length={p.length()}, total_length={total_length}\")\n",
    "            continue\n",
    "        # print(f\"discretize path - path_n={path_n}, path_length={p.length()}, total_length={total_length}\")\n",
    "\n",
    "        strokes = discretize_path(p, path_n, min_n=min_n)\n",
    "\n",
    "        # path_transform_str = attributes[i].get('transform', None)\n",
    "        # if path_transform_str:\n",
    "        #     print(f\"path_transform_st={path_transform_str}\")\n",
    "        #     path_transform = build_transforms(path_transform_str)\n",
    "        #     coords = apply_transform(coords, path_transform)\n",
    "\n",
    "        all_strokes.extend(strokes)\n",
    "    return all_strokes"
   ]
  },
  {
   "cell_type": "code",
   "execution_count": null,
   "metadata": {},
   "outputs": [],
   "source": []
  },
  {
   "cell_type": "code",
   "execution_count": null,
   "metadata": {},
   "outputs": [],
   "source": []
  },
  {
   "cell_type": "code",
   "execution_count": null,
   "metadata": {},
   "outputs": [],
   "source": []
  },
  {
   "cell_type": "code",
   "execution_count": null,
   "metadata": {},
   "outputs": [],
   "source": []
  },
  {
   "cell_type": "code",
   "execution_count": null,
   "metadata": {},
   "outputs": [],
   "source": [
    "#| hide\n",
    "import nbdev\n",
    "\n",
    "nbdev.nbdev_export()"
   ]
  }
 ],
 "metadata": {
  "kernelspec": {
   "display_name": "python3",
   "language": "python",
   "name": "python3"
  }
 },
 "nbformat": 4,
 "nbformat_minor": 4
}
