{
 "cells": [
  {
   "cell_type": "markdown",
   "metadata": {},
   "source": [
    "# display_plot\n",
    "\n",
    "> Plotting and animating stroke data using matplotlib."
   ]
  },
  {
   "cell_type": "code",
   "execution_count": null,
   "metadata": {},
   "outputs": [],
   "source": [
    "#| default_exp stroke3.display_plot"
   ]
  },
  {
   "cell_type": "code",
   "execution_count": null,
   "metadata": {},
   "outputs": [],
   "source": [
    "#| hide\n",
    "%load_ext autoreload\n",
    "%autoreload 2"
   ]
  },
  {
   "cell_type": "code",
   "execution_count": null,
   "metadata": {},
   "outputs": [],
   "source": [
    "#| hide\n",
    "from nbdev.showdoc import *"
   ]
  },
  {
   "cell_type": "code",
   "execution_count": null,
   "metadata": {},
   "outputs": [],
   "source": [
    "#| export\n",
    "import matplotlib.pyplot as plt\n",
    "\n",
    "\n",
    "def plot_strokes(strokes, target_size=200, lw=2):\n",
    "    fig = plt.figure()\n",
    "    ax = plt.axes(xlim=(0, target_size + 2 * lw), ylim=(-target_size - 2 * lw, 0))\n",
    "    ax.set_facecolor(\"white\")\n",
    "\n",
    "    # remove the axis\n",
    "    ax.grid = False\n",
    "    ax.set_xticks([])\n",
    "    ax.set_yticks([])\n",
    "\n",
    "    lines = []\n",
    "    for s in strokes:\n",
    "        (line,) = ax.plot([], [], lw=lw)\n",
    "        line.set_data(s[:, 0], -s[:, 1])\n",
    "        lines.append(line)\n",
    "    plt.show()"
   ]
  },
  {
   "cell_type": "code",
   "execution_count": null,
   "metadata": {},
   "outputs": [],
   "source": [
    "#| export\n",
    "from lxml import etree\n",
    "\n",
    "\n",
    "def parse_svg(input_file):\n",
    "    \"\"\"Parse the SVG XML, to allow extracting individual elements\"\"\"\n",
    "    parsed = etree.parse(input_file)\n",
    "    return parsed.getroot()"
   ]
  },
  {
   "cell_type": "code",
   "execution_count": null,
   "metadata": {},
   "outputs": [],
   "source": [
    "#| export\n",
    "import numpy as np\n",
    "from matplotlib import animation\n",
    "\n",
    "\n",
    "def create_animation(\n",
    "    strokes, fname=\"video.mp4\", fps=60, target_size=200, lw=2, trailing_frames=30\n",
    "):\n",
    "    seq_length = np.vstack(strokes).shape[0]\n",
    "    print(seq_length)\n",
    "\n",
    "    i = 0\n",
    "    j = 0\n",
    "\n",
    "    # First set up the figure, the axis, and the plot element we want to animate\n",
    "    fig = plt.figure()\n",
    "    ax = plt.axes(xlim=(0, target_size + 2 * lw), ylim=(-target_size - 2 * lw, 0))\n",
    "    ax.set_facecolor(\"white\")\n",
    "    (line,) = ax.plot([], [], lw=lw)\n",
    "\n",
    "    # remove the axis\n",
    "    ax.grid = False\n",
    "    ax.set_xticks([])\n",
    "    ax.set_yticks([])\n",
    "\n",
    "    # initialization function: plot the background of each frame\n",
    "    def init():\n",
    "        line.set_data([], [])\n",
    "        return (line,)\n",
    "\n",
    "    # animation function.  This is called sequentially\n",
    "    def animate(frame):\n",
    "        nonlocal i, j, line\n",
    "        if i < len(strokes):\n",
    "            x = strokes[i][:, 0]\n",
    "            y = strokes[i][:, 1]\n",
    "            line.set_data(x[0:j], -y[0:j])\n",
    "\n",
    "            if j >= len(x):\n",
    "                i += 1\n",
    "                j = 0\n",
    "                (line,) = ax.plot([], [], lw=lw)\n",
    "            else:\n",
    "                j += 1\n",
    "        else:\n",
    "            # if i has already incremented past all the strokes,\n",
    "            # that means this is a \"trailing frame\" (meant to leave\n",
    "            # the finished drawing onscreen for a moment).\n",
    "            pass\n",
    "        return (line,)\n",
    "\n",
    "    # call the animator.  blit=True means only re-draw the parts that have changed.\n",
    "    total_frames = seq_length + len(strokes) + trailing_frames\n",
    "    anim = animation.FuncAnimation(\n",
    "        fig, animate, init_func=init, frames=total_frames, blit=True\n",
    "    )\n",
    "    plt.close()\n",
    "\n",
    "    # save the animation as an mp4.\n",
    "    anim.save(fname, fps=fps, extra_args=[\"-vcodec\", \"libx264\"])"
   ]
  },
  {
   "cell_type": "code",
   "execution_count": null,
   "metadata": {},
   "outputs": [],
   "source": [
    "#| export\n",
    "import base64\n",
    "import io\n",
    "\n",
    "from IPython.display import HTML, display\n",
    "\n",
    "\n",
    "def show_video(fname=\"video.mp4\"):\n",
    "    \"\"\"\n",
    "    create_animation(strokes, fname=\"video.mp4\", lw=2)\n",
    "    show_video(\"video.mp4\")\n",
    "    \"\"\"\n",
    "    video = io.open(fname, \"r+b\").read()\n",
    "    encoded = base64.b64encode(video)\n",
    "    html_data = f\"\"\"<video alt=\"video\" autoplay loop>\n",
    "                    <source src=\"data:video/mp4;base64,{encoded.decode('ascii')}\" type=\"video/mp4\" />\n",
    "                </video>\"\"\"\n",
    "    display(HTML(data=html_data))"
   ]
  },
  {
   "cell_type": "code",
   "execution_count": null,
   "metadata": {},
   "outputs": [],
   "source": []
  },
  {
   "cell_type": "code",
   "execution_count": null,
   "metadata": {},
   "outputs": [],
   "source": []
  },
  {
   "cell_type": "code",
   "execution_count": null,
   "metadata": {},
   "outputs": [],
   "source": []
  },
  {
   "cell_type": "code",
   "execution_count": null,
   "metadata": {},
   "outputs": [],
   "source": []
  },
  {
   "cell_type": "code",
   "execution_count": null,
   "metadata": {},
   "outputs": [],
   "source": [
    "#| hide\n",
    "import nbdev\n",
    "\n",
    "nbdev.nbdev_export()"
   ]
  },
  {
   "cell_type": "code",
   "execution_count": null,
   "metadata": {},
   "outputs": [],
   "source": []
  }
 ],
 "metadata": {
  "kernelspec": {
   "display_name": "python3",
   "language": "python",
   "name": "python3"
  }
 },
 "nbformat": 4,
 "nbformat_minor": 4
}
