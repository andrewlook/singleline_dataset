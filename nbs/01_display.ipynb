{
 "cells": [
  {
   "cell_type": "markdown",
   "metadata": {},
   "source": [
    "# display\n",
    "\n",
    "> Displaying and writing SVG files from stroke data."
   ]
  },
  {
   "cell_type": "code",
   "execution_count": null,
   "metadata": {},
   "outputs": [],
   "source": [
    "#| default_exp display"
   ]
  },
  {
   "cell_type": "code",
   "execution_count": null,
   "metadata": {},
   "outputs": [],
   "source": [
    "#| hide\n",
    "%load_ext autoreload\n",
    "%autoreload 2"
   ]
  },
  {
   "cell_type": "code",
   "execution_count": null,
   "metadata": {},
   "outputs": [],
   "source": [
    "#| export\n",
    "import base64\n",
    "import io\n",
    "import random\n",
    "\n",
    "import matplotlib.pyplot as plt\n",
    "import numpy as np\n",
    "import svgwrite\n",
    "from IPython.display import HTML, display\n",
    "from matplotlib import animation\n",
    "from PIL import Image"
   ]
  },
  {
   "cell_type": "code",
   "execution_count": null,
   "metadata": {},
   "outputs": [],
   "source": [
    "#| hide\n",
    "from nbdev.showdoc import *"
   ]
  },
  {
   "cell_type": "markdown",
   "metadata": {},
   "source": [
    "## Matplotlib Display"
   ]
  },
  {
   "cell_type": "code",
   "execution_count": null,
   "metadata": {},
   "outputs": [],
   "source": [
    "#| export\n",
    "def plot_strokes(strokes, target_size=200, lw=2, fname=None):\n",
    "    fig = plt.figure()\n",
    "    ax = plt.axes(\n",
    "        xlim=(0, target_size + 0.1 * target_size),\n",
    "        ylim=(-target_size - 0.1 * target_size),\n",
    "    )\n",
    "    ax.set_facecolor(\"white\")\n",
    "\n",
    "    # remove the axis\n",
    "    ax.grid = False\n",
    "    ax.set_xticks([])\n",
    "    ax.set_yticks([])\n",
    "\n",
    "    # remove the frame; https://stackoverflow.com/questions/14908576/how-to-remove-frame-from-a-figure\n",
    "    fig.patch.set_visible(False)\n",
    "    # plt.box(False)\n",
    "\n",
    "    lines = []\n",
    "    for s in strokes:\n",
    "        (line,) = ax.plot([], [], lw=lw)\n",
    "        line.set_data(s[:, 0], -s[:, 1])\n",
    "        lines.append(line)\n",
    "    if not fname:\n",
    "        plt.show()\n",
    "        return\n",
    "    with io.BytesIO() as buf:\n",
    "        plt.savefig(buf, format=\"png\")\n",
    "        plt.close()\n",
    "        img = Image.open(buf)\n",
    "        img.save(fname)\n",
    "        buf.seek(0)\n",
    "        buf.truncate()"
   ]
  },
  {
   "cell_type": "markdown",
   "metadata": {},
   "source": [
    "### Matplotlib Video"
   ]
  },
  {
   "cell_type": "code",
   "execution_count": null,
   "metadata": {},
   "outputs": [],
   "source": [
    "#| export\n",
    "def create_animation(\n",
    "    strokes, fname=\"video.mp4\", fps=60, target_size=200, lw=2, trailing_frames=30\n",
    "):\n",
    "    seq_length = np.vstack(strokes).shape[0]\n",
    "    print(seq_length)\n",
    "\n",
    "    i = 0\n",
    "    j = 0\n",
    "\n",
    "    # First set up the figure, the axis, and the plot element we want to animate\n",
    "    fig = plt.figure()\n",
    "    ax = plt.axes(xlim=(0, target_size + 2 * lw), ylim=(-target_size - 2 * lw, 0))\n",
    "    ax.set_facecolor(\"white\")\n",
    "    (line,) = ax.plot([], [], lw=lw)\n",
    "\n",
    "    # remove the axis\n",
    "    ax.grid = False\n",
    "    ax.set_xticks([])\n",
    "    ax.set_yticks([])\n",
    "    # remove the frame\n",
    "    fig.patch.set_visible(False)\n",
    "\n",
    "    # initialization function: plot the background of each frame\n",
    "    def init():\n",
    "        line.set_data([], [])\n",
    "        return (line,)\n",
    "\n",
    "    # animation function.  This is called sequentially\n",
    "    def animate(frame):\n",
    "        nonlocal i, j, line\n",
    "        if i < len(strokes):\n",
    "            x = strokes[i][:, 0]\n",
    "            y = strokes[i][:, 1]\n",
    "            line.set_data(x[0:j], -y[0:j])\n",
    "\n",
    "            if j >= len(x):\n",
    "                i += 1\n",
    "                j = 0\n",
    "                (line,) = ax.plot([], [], lw=lw)\n",
    "            else:\n",
    "                j += 1\n",
    "        else:\n",
    "            # if i has already incremented past all the strokes,\n",
    "            # that means this is a \"trailing frame\" (meant to leave\n",
    "            # the finished drawing onscreen for a moment).\n",
    "            pass\n",
    "        return (line,)\n",
    "\n",
    "    # call the animator.  blit=True means only re-draw the parts that have changed.\n",
    "    total_frames = seq_length + len(strokes) + trailing_frames\n",
    "    anim = animation.FuncAnimation(\n",
    "        fig, animate, init_func=init, frames=total_frames, blit=True\n",
    "    )\n",
    "    plt.close()\n",
    "\n",
    "    # save the animation as an mp4.\n",
    "    anim.save(fname, fps=fps, extra_args=[\"-vcodec\", \"libx264\"])"
   ]
  },
  {
   "cell_type": "code",
   "execution_count": null,
   "metadata": {},
   "outputs": [],
   "source": [
    "#| export\n",
    "def show_video(fname=\"video.mp4\"):\n",
    "    \"\"\"\n",
    "    create_animation(strokes, fname=\"video.mp4\", lw=2)\n",
    "    show_video(\"video.mp4\")\n",
    "    \"\"\"\n",
    "    video = io.open(fname, \"r+b\").read()\n",
    "    encoded = base64.b64encode(video)\n",
    "    html_data = f\"\"\"<video alt=\"video\" autoplay loop>\n",
    "                    <source src=\"data:video/mp4;base64,{encoded.decode('ascii')}\" type=\"video/mp4\" />\n",
    "                </video>\"\"\"\n",
    "    display(HTML(data=html_data))"
   ]
  },
  {
   "cell_type": "markdown",
   "metadata": {},
   "source": [
    "## SVG Display"
   ]
  },
  {
   "cell_type": "code",
   "execution_count": null,
   "metadata": {},
   "outputs": [],
   "source": [
    "#| export\n",
    "def randcolor(min_color_intensity=0, max_color_intensity=255):\n",
    "    def _randc():\n",
    "        return str(random.randint(min_color_intensity, max_color_intensity))\n",
    "\n",
    "    return f\"rgb({_randc()},{_randc()},{_randc()})\"\n",
    "\n",
    "\n",
    "#| export\n",
    "def render_strokes(strokes, target_size=200, stroke_width=1):\n",
    "    dwg = svgwrite.Drawing(size=(f\"{target_size}px\", f\"{target_size}px\"), debug=True)\n",
    "    the_color = randcolor()\n",
    "\n",
    "    for points in strokes:\n",
    "        prev = None\n",
    "        for row in points:\n",
    "            x, y = row[0], row[1]\n",
    "            pt = (x, y)\n",
    "            if prev:\n",
    "                # dist = np.linalg.norm(np.array(pt) - np.array(prev))\n",
    "                # if dist < 60:\n",
    "                dwg.add(dwg.line(prev, pt, stroke=the_color, stroke_width=stroke_width))\n",
    "            prev = pt\n",
    "        the_color = randcolor()\n",
    "    return dwg"
   ]
  },
  {
   "cell_type": "code",
   "execution_count": null,
   "metadata": {},
   "outputs": [],
   "source": [
    "#| export\n",
    "def render_deltas(deltas, target_size=200, color_mode=True, stroke_width=1, factor=1.0):\n",
    "    dwg = svgwrite.Drawing(size=(target_size, target_size))\n",
    "    dwg.add(\n",
    "        dwg.rect(\n",
    "            insert=(0, 0),\n",
    "            size=(target_size, target_size),\n",
    "            fill=\"white\",\n",
    "        )\n",
    "    )\n",
    "\n",
    "    lift_pen = 1\n",
    "    abs_x = 0\n",
    "    abs_y = 0\n",
    "    the_color = \"#000\"\n",
    "    if color_mode:\n",
    "        the_color = randcolor()\n",
    "\n",
    "    for i in range(len(deltas)):\n",
    "        x = round(float(deltas[i, 0]) * factor, 3)\n",
    "        y = round(float(deltas[i, 1]) * factor, 3)\n",
    "\n",
    "        prev_x = round(abs_x, 3)\n",
    "        prev_y = round(abs_y, 3)\n",
    "\n",
    "        abs_x += x\n",
    "        abs_y += y\n",
    "\n",
    "        if lift_pen == 1:\n",
    "            p = \"M \" + str(abs_x) + \",\" + str(abs_y) + \" \"\n",
    "            if color_mode:\n",
    "                the_color = randcolor()\n",
    "        else:\n",
    "            p = (\n",
    "                \"M \"\n",
    "                + str(prev_x)\n",
    "                + \",\"\n",
    "                + str(prev_y)\n",
    "                + \" L \"\n",
    "                + str(abs_x)\n",
    "                + \",\"\n",
    "                + str(abs_y)\n",
    "                + \" \"\n",
    "            )\n",
    "\n",
    "        lift_pen = deltas[i, 2]\n",
    "\n",
    "        dwg.add(dwg.path(p).stroke(the_color, stroke_width).fill(the_color))\n",
    "    return dwg"
   ]
  },
  {
   "cell_type": "code",
   "execution_count": null,
   "metadata": {},
   "outputs": [],
   "source": [
    "#| hide\n",
    "import nbdev\n",
    "\n",
    "nbdev.nbdev_export()"
   ]
  },
  {
   "cell_type": "code",
   "execution_count": null,
   "metadata": {},
   "outputs": [],
   "source": []
  },
  {
   "cell_type": "code",
   "execution_count": null,
   "metadata": {},
   "outputs": [],
   "source": []
  }
 ],
 "metadata": {
  "kernelspec": {
   "display_name": "python3",
   "language": "python",
   "name": "python3"
  }
 },
 "nbformat": 4,
 "nbformat_minor": 4
}
