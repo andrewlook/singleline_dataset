{
 "cells": [
  {
   "cell_type": "markdown",
   "metadata": {},
   "source": [
    "# transforms\n",
    "\n",
    "> 2D Matrix transformations to manipulate a series of `(x,y)` coordinates."
   ]
  },
  {
   "cell_type": "code",
   "execution_count": null,
   "metadata": {},
   "outputs": [],
   "source": [
    "#| default_exp transforms"
   ]
  },
  {
   "cell_type": "code",
   "execution_count": null,
   "metadata": {},
   "outputs": [],
   "source": [
    "#| hide\n",
    "%load_ext autoreload\n",
    "%autoreload 2"
   ]
  },
  {
   "cell_type": "code",
   "execution_count": null,
   "metadata": {},
   "outputs": [],
   "source": [
    "#| hide\n",
    "from nbdev.showdoc import *"
   ]
  },
  {
   "cell_type": "code",
   "execution_count": null,
   "metadata": {},
   "outputs": [],
   "source": [
    "# |export\n",
    "from dataclasses import dataclass\n",
    "\n",
    "import numpy as np"
   ]
  },
  {
   "cell_type": "markdown",
   "metadata": {},
   "source": [
    "## 2D Affine Transformations"
   ]
  },
  {
   "cell_type": "code",
   "execution_count": null,
   "metadata": {},
   "outputs": [],
   "source": [
    "#| export\n",
    "def apply_transform(coords_2d, xform):\n",
    "    assert coords_2d.shape[1] == 2\n",
    "    assert xform.shape[0] == 3\n",
    "    assert xform.shape[1] == 3\n",
    "\n",
    "    coords_full = np.concatenate([coords_2d, np.ones((coords_2d.shape[0], 1))], axis=1)\n",
    "    assert coords_full.shape[0] == coords_2d.shape[0]\n",
    "    assert coords_full.shape[1] == 3\n",
    "\n",
    "    return xform.dot(coords_full.transpose()).transpose()"
   ]
  },
  {
   "cell_type": "code",
   "execution_count": null,
   "metadata": {},
   "outputs": [],
   "source": [
    "#| export\n",
    "def identity_xform():\n",
    "    return np.array([[1, 0, 0], [0, 1, 0], [0, 0, 1]])"
   ]
  },
  {
   "cell_type": "code",
   "execution_count": null,
   "metadata": {},
   "outputs": [],
   "source": [
    "#| export\n",
    "def scale_xform(scale_x, scale_y):\n",
    "    return np.array([[scale_x, 0, 0], [0, scale_y, 0], [0, 0, 1]])"
   ]
  },
  {
   "cell_type": "code",
   "execution_count": null,
   "metadata": {},
   "outputs": [],
   "source": [
    "#| export\n",
    "def translate_xform(translate_x, translate_y):\n",
    "    return np.array([[1, 0, translate_x], [0, 1, translate_y], [0, 0, 1]])"
   ]
  },
  {
   "cell_type": "code",
   "execution_count": null,
   "metadata": {},
   "outputs": [],
   "source": [
    "#| export\n",
    "def rotate_xform(rotate_angle):\n",
    "    if rotate_angle % 360 == 0:\n",
    "        return identity_xform()\n",
    "    theta = np.radians(rotate_angle)\n",
    "    cos_theta = np.cos(theta)\n",
    "    sin_theta = np.sin(theta)\n",
    "    return np.array([[cos_theta, -sin_theta, 0], [sin_theta, cos_theta, 0], [0, 0, 1]])"
   ]
  },
  {
   "cell_type": "markdown",
   "metadata": {},
   "source": [
    "## Bounding Boxes"
   ]
  },
  {
   "cell_type": "code",
   "execution_count": null,
   "metadata": {},
   "outputs": [],
   "source": [
    "#| export\n",
    "@dataclass\n",
    "class BoundingBox:\n",
    "    xmin: float\n",
    "    xmax: float\n",
    "    xrange: float\n",
    "    ymin: float\n",
    "    ymax: float\n",
    "    yrange: float\n",
    "\n",
    "    @staticmethod\n",
    "    def create(coords: np.ndarray):\n",
    "        # rank-2\n",
    "        if len(coords.shape) == 2:\n",
    "            xmin = coords[:, 0].min()\n",
    "            xmax = coords[:, 0].max()\n",
    "            xrange = xmax - xmin\n",
    "            # print(f\"xrange, xmin, xmax = {xrange, xmin, xmax}\")\n",
    "\n",
    "            ymin = coords[:, 1].min()\n",
    "            ymax = coords[:, 1].max()\n",
    "            yrange = ymax - ymin\n",
    "            # print(f\"yrange, ymin, ymax = {yrange, ymin, ymax}\")\n",
    "\n",
    "            return BoundingBox(\n",
    "                xmin=xmin, xmax=xmax, xrange=xrange, ymin=ymin, ymax=ymax, yrange=yrange\n",
    "            )\n",
    "        else:\n",
    "            raise Exception(f\"invalid coordinates passed - expected rank-2 matrix but got rank-{len(coords.shape)}\")\n",
    "\n",
    "    def normalization_xform(self, scale=1.0):\n",
    "        max_range = self.xrange if self.xrange > self.yrange else self.yrange\n",
    "        return scale_xform(scale / max_range, scale / max_range).dot(\n",
    "            translate_xform(-self.xmin, -self.ymin)\n",
    "        )"
   ]
  },
  {
   "cell_type": "code",
   "execution_count": null,
   "metadata": {},
   "outputs": [],
   "source": []
  },
  {
   "cell_type": "code",
   "execution_count": null,
   "metadata": {},
   "outputs": [],
   "source": []
  },
  {
   "cell_type": "markdown",
   "metadata": {},
   "source": [
    "## Stroke-3 Conversion"
   ]
  },
  {
   "cell_type": "code",
   "execution_count": null,
   "metadata": {},
   "outputs": [],
   "source": [
    "#| export\n",
    "def strokes_to_points(strokes):\n",
    "    all = []\n",
    "    for s in strokes:\n",
    "        eoc_col = np.zeros((s.shape[0], 1))\n",
    "        eoc_col[-1, 0] = 1\n",
    "        all.append(np.concatenate([s[:, :2], eoc_col], axis=1))\n",
    "    return np.vstack(all)\n",
    "\n",
    "\n",
    "def points_to_deltas(points):\n",
    "    p2 = points.copy()\n",
    "    # first row should stay the same\n",
    "    # cols 0,1 of every row onwards should be a delta from the previous row.\n",
    "    p2[1:, :2] = points[1:, :2] - points[:-1, :2]\n",
    "    return p2\n",
    "\n",
    "\n",
    "def strokes_to_deltas(strokes):\n",
    "    points = strokes_to_points(strokes)\n",
    "    return points_to_deltas(points)"
   ]
  },
  {
   "cell_type": "code",
   "execution_count": null,
   "metadata": {},
   "outputs": [],
   "source": [
    "#| export\n",
    "def deltas_to_points(_seq):\n",
    "    seq = np.zeros_like(_seq)\n",
    "    seq[:, 0:2] = np.cumsum(_seq[:, 0:2], axis=0)\n",
    "    seq[:, 2] = _seq[:, 2]\n",
    "    return seq\n",
    "\n",
    "\n",
    "def points_to_strokes(_seq):\n",
    "    strokes = np.split(_seq, np.where(_seq[:, 2] > 0)[0] + 1)\n",
    "    return [\n",
    "        s for s in strokes if len(s) > 0\n",
    "    ]  # split sometimes returns an empty array at the end\n",
    "\n",
    "\n",
    "def deltas_to_strokes(_seq):\n",
    "    points = deltas_to_points(_seq)\n",
    "    return points_to_strokes(points)"
   ]
  },
  {
   "cell_type": "markdown",
   "metadata": {},
   "source": [
    "## RDP"
   ]
  },
  {
   "cell_type": "code",
   "execution_count": null,
   "metadata": {},
   "outputs": [],
   "source": [
    "#| export\n",
    "from rdp import rdp\n",
    "\n",
    "\n",
    "def rdp_strokes(strokes, epsilon=1.0):\n",
    "    return [rdp(s, epsilon=epsilon) for s in strokes]"
   ]
  },
  {
   "cell_type": "code",
   "execution_count": null,
   "metadata": {},
   "outputs": [],
   "source": [
    "#| export\n",
    "def stroke_rdp_deltas(rescaled_strokes, epsilon=2.0):\n",
    "    rdp_result = rdp_strokes(rescaled_strokes, epsilon)\n",
    "    deltas = strokes_to_deltas(rdp_result)\n",
    "\n",
    "    ## roundtrip / sanity check\n",
    "    # _rdp_result = stroke3.deltas_to_strokes(deltas)\n",
    "    # default.plot_strokes(_rdp_result)\n",
    "\n",
    "    return deltas"
   ]
  },
  {
   "cell_type": "code",
   "execution_count": null,
   "metadata": {},
   "outputs": [],
   "source": []
  },
  {
   "cell_type": "code",
   "execution_count": null,
   "metadata": {},
   "outputs": [],
   "source": []
  },
  {
   "cell_type": "code",
   "execution_count": null,
   "metadata": {},
   "outputs": [],
   "source": [
    "#| hide\n",
    "import nbdev\n",
    "\n",
    "nbdev.nbdev_export()"
   ]
  },
  {
   "cell_type": "code",
   "execution_count": null,
   "metadata": {},
   "outputs": [],
   "source": []
  }
 ],
 "metadata": {
  "kernelspec": {
   "display_name": "python3",
   "language": "python",
   "name": "python3"
  }
 },
 "nbformat": 4,
 "nbformat_minor": 4
}
