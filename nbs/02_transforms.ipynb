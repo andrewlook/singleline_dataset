{
  "cells": [
    {
      "cell_type": "markdown",
      "metadata": {},
      "source": [
        "# transforms\n",
        "\n",
        "> 2D Matrix transformations to manipulate a series of `(x,y)` coordinates."
      ]
    },
    {
      "cell_type": "code",
      "execution_count": null,
      "metadata": {},
      "outputs": [],
      "source": [
        "#| default_exp transforms"
      ]
    },
    {
      "cell_type": "code",
      "execution_count": null,
      "metadata": {},
      "outputs": [
        {
          "name": "stdout",
          "output_type": "stream",
          "text": [
            "The autoreload extension is already loaded. To reload it, use:\n",
            "  %reload_ext autoreload\n"
          ]
        }
      ],
      "source": [
        "#| hide\n",
        "%load_ext autoreload\n",
        "%autoreload 2"
      ]
    },
    {
      "cell_type": "code",
      "execution_count": null,
      "metadata": {},
      "outputs": [],
      "source": [
        "#| hide\n",
        "from nbdev.showdoc import *"
      ]
    },
    {
      "cell_type": "code",
      "execution_count": null,
      "metadata": {},
      "outputs": [],
      "source": []
    },
    {
      "cell_type": "code",
      "execution_count": null,
      "metadata": {},
      "outputs": [],
      "source": [
        "#| export\n",
        "import numpy as np\n",
        "\n",
        "\n",
        "def apply_transform(coords_2d, xform):\n",
        "    assert coords_2d.shape[1] == 2\n",
        "    assert xform.shape[0] == 3\n",
        "    assert xform.shape[1] == 3\n",
        "\n",
        "    coords_full = np.concatenate([coords_2d, np.ones((coords_2d.shape[0], 1))], axis=1)\n",
        "    assert coords_full.shape[0] == coords_2d.shape[0]\n",
        "    assert coords_full.shape[1] == 3\n",
        "\n",
        "    return xform.dot(coords_full.transpose()).transpose()"
      ]
    },
    {
      "cell_type": "code",
      "execution_count": null,
      "metadata": {},
      "outputs": [],
      "source": [
        "#| export\n",
        "def identity_xform():\n",
        "    return np.array([[1, 0, 0], [0, 1, 0], [0, 0, 1]])"
      ]
    },
    {
      "cell_type": "code",
      "execution_count": null,
      "metadata": {},
      "outputs": [],
      "source": [
        "#| export\n",
        "def scale_xform(scale_x, scale_y):\n",
        "    return np.array([[scale_x, 0, 0], [0, scale_y, 0], [0, 0, 1]])"
      ]
    },
    {
      "cell_type": "code",
      "execution_count": null,
      "metadata": {},
      "outputs": [],
      "source": [
        "#| export\n",
        "def translate_xform(translate_x, translate_y):\n",
        "    return np.array([[1, 0, translate_x], [0, 1, translate_y], [0, 0, 1]])"
      ]
    },
    {
      "cell_type": "code",
      "execution_count": null,
      "metadata": {},
      "outputs": [],
      "source": [
        "#| export\n",
        "def rotate_xform(rotate_angle):\n",
        "    if rotate_angle % 360 == 0:\n",
        "        return identity_xform()\n",
        "    theta = np.radians(rotate_angle)\n",
        "    cos_theta = np.cos(theta)\n",
        "    sin_theta = np.sin(theta)\n",
        "    return np.array([[cos_theta, -sin_theta, 0], [sin_theta, cos_theta, 0], [0, 0, 1]])"
      ]
    },
    {
      "cell_type": "code",
      "execution_count": null,
      "metadata": {},
      "outputs": [],
      "source": [
        "#| export\n",
        "from dataclasses import dataclass\n",
        "\n",
        "\n",
        "@dataclass\n",
        "class BoundingBox:\n",
        "    xmin: float\n",
        "    xmax: float\n",
        "    xrange: float\n",
        "    ymin: float\n",
        "    ymax: float\n",
        "    yrange: float\n",
        "\n",
        "    def normalization_xform(self, scale=1.0):\n",
        "        max_range = self.xrange if self.xrange > self.yrange else self.yrange\n",
        "        return scale_xform(scale / max_range, scale / max_range).dot(\n",
        "            translate_xform(-self.xmin, -self.ymin)\n",
        "        )"
      ]
    },
    {
      "cell_type": "code",
      "execution_count": null,
      "metadata": {},
      "outputs": [],
      "source": [
        "#| export\n",
        "def bb_rank2(coords):\n",
        "    xmin = coords[:, 0].min()\n",
        "    xmax = coords[:, 0].max()\n",
        "    xrange = xmax - xmin\n",
        "    # print(f\"xrange, xmin, xmax = {xrange, xmin, xmax}\")\n",
        "\n",
        "    ymin = coords[:, 1].min()\n",
        "    ymax = coords[:, 1].max()\n",
        "    yrange = ymax - ymin\n",
        "    # print(f\"yrange, ymin, ymax = {yrange, ymin, ymax}\")\n",
        "\n",
        "    return BoundingBox(\n",
        "        xmin=xmin, xmax=xmax, xrange=xrange, ymin=ymin, ymax=ymax, yrange=yrange\n",
        "    )"
      ]
    },
    {
      "cell_type": "code",
      "execution_count": null,
      "metadata": {},
      "outputs": [],
      "source": [
        "#| export\n",
        "def bb_rank3(coords):\n",
        "    xmin = coords[:, :, 0].min()\n",
        "    xmax = coords[:, :, 0].max()\n",
        "    xrange = xmax - xmin\n",
        "    # print(f\"xrange, xmin, xmax = {xrange, xmin, xmax}\")\n",
        "\n",
        "    ymin = coords[:, :, 1].min()\n",
        "    ymax = coords[:, :, 1].max()\n",
        "    yrange = ymax - ymin\n",
        "    # print(f\"yrange, ymin, ymax = {yrange, ymin, ymax}\")\n",
        "\n",
        "    return BoundingBox(\n",
        "        xmin=xmin, xmax=xmax, xrange=xrange, ymin=ymin, ymax=ymax, yrange=yrange\n",
        "    )"
      ]
    },
    {
      "cell_type": "code",
      "execution_count": null,
      "metadata": {},
      "outputs": [],
      "source": []
    },
    {
      "cell_type": "code",
      "execution_count": null,
      "metadata": {},
      "outputs": [],
      "source": []
    },
    {
      "cell_type": "code",
      "execution_count": null,
      "metadata": {},
      "outputs": [],
      "source": [
        "#| hide\n",
        "import nbdev\n",
        "\n",
        "nbdev.nbdev_export()"
      ]
    }
  ],
  "metadata": {
    "kernelspec": {
      "display_name": "python3",
      "language": "python",
      "name": "python3"
    }
  },
  "nbformat": 4,
  "nbformat_minor": 4
}
