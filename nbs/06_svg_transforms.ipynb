{
 "cells": [
  {
   "cell_type": "markdown",
   "metadata": {},
   "source": [
    "# svg_transforms\n",
    "\n",
    "> Converting SVG transform directives to 2D matrix tranformations."
   ]
  },
  {
   "cell_type": "code",
   "execution_count": null,
   "metadata": {},
   "outputs": [],
   "source": [
    "#| default_exp svg_transforms"
   ]
  },
  {
   "cell_type": "code",
   "execution_count": null,
   "metadata": {},
   "outputs": [],
   "source": [
    "#| hide\n",
    "%load_ext autoreload\n",
    "%autoreload 2"
   ]
  },
  {
   "cell_type": "code",
   "execution_count": null,
   "metadata": {},
   "outputs": [],
   "source": [
    "#| hide\n",
    "from nbdev.showdoc import *"
   ]
  },
  {
   "cell_type": "code",
   "execution_count": null,
   "metadata": {},
   "outputs": [],
   "source": [
    "# |hide"
   ]
  },
  {
   "cell_type": "code",
   "execution_count": null,
   "metadata": {},
   "outputs": [],
   "source": [
    "#| export\n",
    "from singleline_dataset.transforms import *\n",
    "\n",
    "\n",
    "def _extract_g(svgroot):\n",
    "    all_parsed = []\n",
    "    all_g = svgroot.findall(\".//{http://www.w3.org/2000/svg}g\")\n",
    "    for g in all_g:\n",
    "        all_parsed.append(g.attrib)\n",
    "    return all_parsed\n",
    "\n",
    "\n",
    "def _get_transform_str(svgroot):\n",
    "    all_g = _extract_g(svgroot)\n",
    "    if not all_g:\n",
    "        # print('no <g> tags found')\n",
    "        return None\n",
    "    elif len(all_g) > 1:\n",
    "        return Exception(f\"unexpected number of <g> tags found in SVG: {len(all_g)}\")\n",
    "    g = all_g[0]\n",
    "    if \"transform\" not in g:\n",
    "        # print('\"transform\" attribute not found in <g>')\n",
    "        return None\n",
    "    transform_str = g[\"transform\"]\n",
    "    return transform_str\n",
    "\n",
    "\n",
    "def strip_tname(tname, item, expected_len):\n",
    "    parts = item.replace(tname, \"\").replace(\"(\", \"\").replace(\")\", \"\").split(\",\")\n",
    "    nums = [float(n) for n in parts]\n",
    "    if len(nums) != expected_len:\n",
    "        raise Exception(\n",
    "            f'unexpected length for transform instruction \"{item}\": {len(nums)} (expected {expected_len})'\n",
    "        )\n",
    "    return nums\n",
    "\n",
    "\n",
    "def parse_transform_instruction(item):\n",
    "    if item.startswith(\"translate\"):\n",
    "        tx, ty = strip_tname(\"translate\", item, expected_len=2)\n",
    "        # print(f\"tx={tx}, ty={ty}\")\n",
    "        return translate_xform(tx, ty)\n",
    "    elif item.startswith(\"rotate\"):\n",
    "        ang = strip_tname(\"rotate\", item, expected_len=1)\n",
    "        # print(f\"ang={ang}\")\n",
    "        return rotate_xform(ang[0])\n",
    "    elif item.startswith(\"scale\"):\n",
    "        sx, sy = strip_tname(\"scale\", item, expected_len=2)\n",
    "        # print(f\"sx={sx}, sy={sy}\")\n",
    "        return scale_xform(sx, sy)\n",
    "    else:\n",
    "        raise Exception(f\"runrecognized transform instruction: {item}\")\n",
    "\n",
    "\n",
    "def build_transforms(tstr):\n",
    "    xforms = [parse_transform_instruction(part) for part in tstr.split(\" \")]\n",
    "    final = identity_xform()\n",
    "    for x in reversed(xforms):\n",
    "        final = final.dot(x)\n",
    "    return final\n",
    "\n",
    "\n",
    "def svg_to_transforms(svgroot):\n",
    "    transform_str = _get_transform_str(svgroot)\n",
    "    if not transform_str:\n",
    "        return None\n",
    "    return build_transforms(transform_str)"
   ]
  },
  {
   "cell_type": "code",
   "execution_count": null,
   "metadata": {},
   "outputs": [],
   "source": [
    "#| export\n",
    "def apply_path_attribute_transforms(paths, attributes):\n",
    "    \"\"\"\n",
    "    Find and apply transform attributes specified inline on the <path> elements.\n",
    "    (not used in final workflow, b/c the way I vectorized SVG's resulted in some skewed transform attributes)\n",
    "    \"\"\"\n",
    "    all_coords = []\n",
    "    for path, attrs in zip(paths, attributes):\n",
    "        path_transform = identity_xform()\n",
    "        path_transform_str = attrs.get(\"transform\", None)\n",
    "        if path_transform_str:\n",
    "            print(f\"path_transform_st={path_transform_str}\")\n",
    "            path_transform = build_transforms(path_transform_str)\n",
    "        coords = apply_transform(coords, path_transform)\n",
    "        all_coords.append(coords)\n",
    "    return all_coords"
   ]
  },
  {
   "cell_type": "code",
   "execution_count": null,
   "metadata": {},
   "outputs": [],
   "source": []
  },
  {
   "cell_type": "code",
   "execution_count": null,
   "metadata": {},
   "outputs": [],
   "source": [
    "#| hide\n",
    "import nbdev\n",
    "\n",
    "nbdev.nbdev_export()"
   ]
  },
  {
   "cell_type": "code",
   "execution_count": null,
   "metadata": {},
   "outputs": [],
   "source": []
  }
 ],
 "metadata": {
  "kernelspec": {
   "display_name": "python3",
   "language": "python",
   "name": "python3"
  }
 },
 "nbformat": 4,
 "nbformat_minor": 4
}
