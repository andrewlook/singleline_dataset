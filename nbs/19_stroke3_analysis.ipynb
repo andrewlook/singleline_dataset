{
 "cells": [
  {
   "cell_type": "markdown",
   "metadata": {},
   "source": [
    "# analysis\n",
    "\n",
    "> Looking at outliers in terms of num_strokes, num_points."
   ]
  },
  {
   "cell_type": "code",
   "execution_count": null,
   "metadata": {},
   "outputs": [],
   "source": []
  },
  {
   "cell_type": "code",
   "execution_count": null,
   "metadata": {},
   "outputs": [],
   "source": [
    "#| hide\n",
    "%load_ext autoreload\n",
    "%autoreload 2"
   ]
  },
  {
   "cell_type": "code",
   "execution_count": null,
   "metadata": {},
   "outputs": [],
   "source": [
    "#| hide\n",
    "from nbdev.showdoc import *"
   ]
  },
  {
   "cell_type": "code",
   "execution_count": null,
   "metadata": {},
   "outputs": [],
   "source": [
    "import os\n",
    "\n",
    "import numpy as np\n",
    "\n",
    "from singleline_dataset.dataset import *\n",
    "from singleline_dataset.display import *\n",
    "from singleline_dataset.fileorg import *\n",
    "from singleline_dataset.strokes import *\n",
    "from singleline_dataset.svg import *\n",
    "from singleline_dataset.transforms import *"
   ]
  },
  {
   "cell_type": "markdown",
   "metadata": {},
   "source": [
    "## Full Runs"
   ]
  },
  {
   "cell_type": "markdown",
   "metadata": {},
   "source": [
    "### Dataset V1\n",
    "\n",
    "- `epsilon=1.0`\n",
    "- No max stroke threshold"
   ]
  },
  {
   "cell_type": "code",
   "execution_count": null,
   "metadata": {},
   "outputs": [],
   "source": [
    "## first dataset\n",
    "\n",
    "# full_dataset = svgs_to_deltas('../../svg-dataset/sketch_mgmt/imgs_sorted/drawings_svg_cropped/', '../outputs', limit=None)\n",
    "# np.savez('../datasets/v1-splice.npz', full_dataset, encoding='latin1', allow_pickle=True)"
   ]
  },
  {
   "cell_type": "markdown",
   "metadata": {},
   "source": [
    "## Dataset V2\n",
    "\n",
    "- `epsilon=0.5`\n",
    "- `max_stroke={5,6}`"
   ]
  },
  {
   "cell_type": "code",
   "execution_count": null,
   "metadata": {},
   "outputs": [],
   "source": [
    "# ## second dataset\n",
    "\n",
    "# %%time\n",
    "\n",
    "# full_dataset_eps05 = svgs_to_deltas(\n",
    "#     \"../../svg-dataset/sketch_mgmt/imgs_sorted/drawings_svg_cropped/\",\n",
    "#     \"../outputs_segmented\",\n",
    "#     epsilon=0.5,\n",
    "#     limit=None,\n",
    "# )\n",
    "\n",
    "# print(\"-\" * 50)\n",
    "# print(len(full_dataset_eps05))\n",
    "# print(\"-\" * 50)\n",
    "# np.savez(\n",
    "#     \"../datasets/v2-splice-eps05-j15-s40.npz\",\n",
    "#     full_dataset_eps05,\n",
    "#     encoding=\"latin1\",\n",
    "#     allow_pickle=True,\n",
    "# )"
   ]
  },
  {
   "cell_type": "markdown",
   "metadata": {},
   "source": [
    "Dataset V3"
   ]
  },
  {
   "cell_type": "code",
   "execution_count": null,
   "metadata": {},
   "outputs": [],
   "source": [
    "# full_dataset = svgs_to_deltas(\n",
    "#     singleline_data_home() / \"svg/epoch-20231214/0_drawings\",\n",
    "#     singleline_data_home() / \"stroke3/epoch-20231214/0_drawings\",\n",
    "#     epsilon=1.0,\n",
    "#     limit=None,\n",
    "# )\n",
    "\n",
    "# np.savez(\n",
    "#     singleline_data_home() / \"stroke3/epoch-20231214//full-v2-eps10.npz\",\n",
    "#     full_dataset,\n",
    "#     encoding=\"latin1\",\n",
    "#     allow_pickle=True,\n",
    "# )"
   ]
  },
  {
   "cell_type": "code",
   "execution_count": null,
   "metadata": {},
   "outputs": [
    {
     "name": "stdout",
     "output_type": "stream",
     "text": [
      "no env var SINGLELINE_DATA_HOME, defaulting to: None\n"
     ]
    }
   ],
   "source": [
    "data_home = singleline_data_home(default=\"../data_home\")\n",
    "\n",
    "sample_path = data_home / \"stroke3/epoch-20231214/sample-v2-eps10.npz\""
   ]
  },
  {
   "cell_type": "markdown",
   "metadata": {},
   "source": [
    "Analysis: choosing max stroke threshold, to filter out drawings with too much complexity."
   ]
  },
  {
   "cell_type": "code",
   "execution_count": null,
   "metadata": {},
   "outputs": [
    {
     "data": {
      "text/html": [
       "<div>\n",
       "<style scoped>\n",
       "    .dataframe tbody tr th:only-of-type {\n",
       "        vertical-align: middle;\n",
       "    }\n",
       "\n",
       "    .dataframe tbody tr th {\n",
       "        vertical-align: top;\n",
       "    }\n",
       "\n",
       "    .dataframe thead th {\n",
       "        text-align: right;\n",
       "    }\n",
       "</style>\n",
       "<table border=\"1\" class=\"dataframe\">\n",
       "  <thead>\n",
       "    <tr style=\"text-align: right;\">\n",
       "      <th></th>\n",
       "      <th>idx</th>\n",
       "      <th>num_points</th>\n",
       "      <th>num_strokes</th>\n",
       "    </tr>\n",
       "  </thead>\n",
       "  <tbody>\n",
       "    <tr>\n",
       "      <th>0</th>\n",
       "      <td>0</td>\n",
       "      <td>246</td>\n",
       "      <td>5</td>\n",
       "    </tr>\n",
       "    <tr>\n",
       "      <th>1</th>\n",
       "      <td>1</td>\n",
       "      <td>172</td>\n",
       "      <td>4</td>\n",
       "    </tr>\n",
       "    <tr>\n",
       "      <th>2</th>\n",
       "      <td>2</td>\n",
       "      <td>306</td>\n",
       "      <td>4</td>\n",
       "    </tr>\n",
       "    <tr>\n",
       "      <th>3</th>\n",
       "      <td>3</td>\n",
       "      <td>213</td>\n",
       "      <td>3</td>\n",
       "    </tr>\n",
       "    <tr>\n",
       "      <th>4</th>\n",
       "      <td>4</td>\n",
       "      <td>35</td>\n",
       "      <td>4</td>\n",
       "    </tr>\n",
       "  </tbody>\n",
       "</table>\n",
       "</div>"
      ],
      "text/plain": [
       "   idx  num_points  num_strokes\n",
       "0    0         246            5\n",
       "1    1         172            4\n",
       "2    2         306            4\n",
       "3    3         213            3\n",
       "4    4          35            4"
      ]
     },
     "execution_count": null,
     "metadata": {},
     "output_type": "execute_result"
    }
   ],
   "source": [
    "full_dataset = np.load(\n",
    "    sample_path,\n",
    "    encoding=\"latin1\",\n",
    "    allow_pickle=True,\n",
    ")[\"arr_0\"]\n",
    "len(full_dataset)\n",
    "\n",
    "df = stroke_summary_df(full_dataset)\n",
    "df.head()"
   ]
  },
  {
   "cell_type": "code",
   "execution_count": null,
   "metadata": {},
   "outputs": [
    {
     "data": {
      "text/plain": [
       "<Axes: >"
      ]
     },
     "execution_count": null,
     "metadata": {},
     "output_type": "execute_result"
    },
    {
     "data": {
      "image/png": "[encoded data removed]",
      "text/plain": [
       "<Figure size 432x288 with 1 Axes>"
      ]
     },
     "metadata": {
      "needs_background": "light"
     },
     "output_type": "display_data"
    }
   ],
   "source": [
    "df.num_strokes.hist()"
   ]
  },
  {
   "cell_type": "markdown",
   "metadata": {},
   "source": [
    "**TODO:**\n",
    "- map order of TSV/DF to order of dataset (or of full dataset file)"
   ]
  },
  {
   "cell_type": "code",
   "execution_count": null,
   "metadata": {},
   "outputs": [],
   "source": [
    "plot_strokes(deltas_to_strokes(full_dataset[0]))"
   ]
  },
  {
   "cell_type": "code",
   "execution_count": null,
   "metadata": {},
   "outputs": [],
   "source": [
    "s0 = deltas_to_strokes(full_dataset[0])"
   ]
  },
  {
   "cell_type": "markdown",
   "metadata": {},
   "source": [
    "## Chop Dataset into Train/Val"
   ]
  },
  {
   "cell_type": "code",
   "execution_count": null,
   "metadata": {},
   "outputs": [],
   "source": []
  },
  {
   "cell_type": "code",
   "execution_count": null,
   "metadata": {},
   "outputs": [
    {
     "name": "stdout",
     "output_type": "stream",
     "text": [
      "1200 347 1547\n",
      "1200 347\n"
     ]
    }
   ],
   "source": [
    "# d6 = df[df.num_strokes <= 6].sample(frac=1)\n",
    "# train_size = int(len(d6) * 0.8 / 100) * 100\n",
    "# val_size = len(d6) - train_size\n",
    "# print(train_size, val_size, len(d6))\n",
    "\n",
    "# d6_train = full_dataset[list(d6[:train_size].idx)]\n",
    "# d6_val = full_dataset[list(d6[train_size:].idx)]\n",
    "# print(len(d6_train), len(d6_val))\n",
    "\n",
    "# np.savez(\n",
    "#     \"v2-splice-maxstrokes6.npz\",\n",
    "#     train=d6_train,\n",
    "#     valid=d6_val,\n",
    "#     test=d6_val,\n",
    "#     encoding=\"latin1\",\n",
    "#     allow_pickle=True,\n",
    "# )"
   ]
  },
  {
   "cell_type": "code",
   "execution_count": null,
   "metadata": {},
   "outputs": [],
   "source": []
  },
  {
   "cell_type": "code",
   "execution_count": null,
   "metadata": {},
   "outputs": [
    {
     "data": {
      "text/plain": [
       "(1200, 347)"
      ]
     },
     "execution_count": null,
     "metadata": {},
     "output_type": "execute_result"
    }
   ],
   "source": []
  },
  {
   "cell_type": "code",
   "execution_count": null,
   "metadata": {},
   "outputs": [
    {
     "data": {
      "text/plain": [
       "<Axes: >"
      ]
     },
     "execution_count": null,
     "metadata": {},
     "output_type": "execute_result"
    },
    {
     "data": {
      "image/png": "[encoded data removed]",
      "text/plain": [
       "<Figure size 640x480 with 1 Axes>"
      ]
     },
     "metadata": {},
     "output_type": "display_data"
    }
   ],
   "source": [
    "# import pandas as pd\n",
    "\n",
    "# d6_summary = [\n",
    "#     {\"idx\": i, \"num_points\": len(deltas), \"num_strokes\": len(deltas_to_strokes(deltas))}\n",
    "#     for i, deltas in enumerate(d6_train)\n",
    "# ]\n",
    "# d6df = pd.DataFrame(d6_summary)\n",
    "# d6df.num_strokes.hist()"
   ]
  },
  {
   "cell_type": "code",
   "execution_count": null,
   "metadata": {},
   "outputs": [],
   "source": []
  },
  {
   "cell_type": "code",
   "execution_count": null,
   "metadata": {},
   "outputs": [],
   "source": []
  },
  {
   "cell_type": "code",
   "execution_count": null,
   "metadata": {},
   "outputs": [
    {
     "name": "stdout",
     "output_type": "stream",
     "text": [
      "1100 362 1462\n",
      "1200 262\n"
     ]
    }
   ],
   "source": [
    "# d5 = df[df.num_strokes <= 5].sample(frac=1)\n",
    "# train_size = int(len(d5) * 0.8 / 100) * 100\n",
    "# val_size = len(d5) - train_size\n",
    "# print(train_size, val_size, len(d5))\n",
    "\n",
    "# d5_train = full_dataset[list(d5[:1200].idx)]\n",
    "# d5_val = full_dataset[list(d5[1200:].idx)]\n",
    "# print(len(d5_train), len(d5_val))\n",
    "\n",
    "# np.savez(\n",
    "#     \"v2-splice-maxstrokes5.npz\",\n",
    "#     train=d5_train,\n",
    "#     valid=d5_val,\n",
    "#     test=d5_val,\n",
    "#     encoding=\"latin1\",\n",
    "#     allow_pickle=True,\n",
    "# )"
   ]
  },
  {
   "cell_type": "code",
   "execution_count": null,
   "metadata": {},
   "outputs": [],
   "source": []
  },
  {
   "cell_type": "code",
   "execution_count": null,
   "metadata": {},
   "outputs": [],
   "source": []
  },
  {
   "cell_type": "markdown",
   "metadata": {},
   "source": [
    "## Inspect edge cases"
   ]
  },
  {
   "cell_type": "code",
   "execution_count": null,
   "metadata": {},
   "outputs": [
    {
     "data": {
      "text/plain": [
       "<Axes: >"
      ]
     },
     "execution_count": null,
     "metadata": {},
     "output_type": "execute_result"
    },
    {
     "data": {
      "image/png": "[encoded data removed]",
      "text/plain": [
       "<Figure size 640x480 with 1 Axes>"
      ]
     },
     "metadata": {},
     "output_type": "display_data"
    }
   ],
   "source": [
    "# df[df.num_strokes <= 2].num_points.hist()"
   ]
  },
  {
   "cell_type": "code",
   "execution_count": null,
   "metadata": {},
   "outputs": [
    {
     "data": {
      "text/html": [
       "<div>\n",
       "<style scoped>\n",
       "    .dataframe tbody tr th:only-of-type {\n",
       "        vertical-align: middle;\n",
       "    }\n",
       "\n",
       "    .dataframe tbody tr th {\n",
       "        vertical-align: top;\n",
       "    }\n",
       "\n",
       "    .dataframe thead th {\n",
       "        text-align: right;\n",
       "    }\n",
       "</style>\n",
       "<table border=\"1\" class=\"dataframe\">\n",
       "  <thead>\n",
       "    <tr style=\"text-align: right;\">\n",
       "      <th></th>\n",
       "      <th>idx</th>\n",
       "      <th>num_points</th>\n",
       "      <th>num_strokes</th>\n",
       "    </tr>\n",
       "  </thead>\n",
       "  <tbody>\n",
       "    <tr>\n",
       "      <th>1455</th>\n",
       "      <td>0</td>\n",
       "      <td>177</td>\n",
       "      <td>2</td>\n",
       "    </tr>\n",
       "    <tr>\n",
       "      <th>1456</th>\n",
       "      <td>5</td>\n",
       "      <td>252</td>\n",
       "      <td>2</td>\n",
       "    </tr>\n",
       "    <tr>\n",
       "      <th>1457</th>\n",
       "      <td>12</td>\n",
       "      <td>236</td>\n",
       "      <td>2</td>\n",
       "    </tr>\n",
       "    <tr>\n",
       "      <th>1458</th>\n",
       "      <td>28</td>\n",
       "      <td>387</td>\n",
       "      <td>2</td>\n",
       "    </tr>\n",
       "    <tr>\n",
       "      <th>1459</th>\n",
       "      <td>35</td>\n",
       "      <td>303</td>\n",
       "      <td>2</td>\n",
       "    </tr>\n",
       "  </tbody>\n",
       "</table>\n",
       "</div>"
      ],
      "text/plain": [
       "      idx  num_points  num_strokes\n",
       "1455    0         177            2\n",
       "1456    5         252            2\n",
       "1457   12         236            2\n",
       "1458   28         387            2\n",
       "1459   35         303            2"
      ]
     },
     "execution_count": null,
     "metadata": {},
     "output_type": "execute_result"
    }
   ],
   "source": [
    "# df[df.num_strokes <= 2].iloc[:5]"
   ]
  },
  {
   "cell_type": "code",
   "execution_count": null,
   "metadata": {},
   "outputs": [],
   "source": [
    "# df[df.num_strokes <= 2].iloc[:5]"
   ]
  },
  {
   "cell_type": "code",
   "execution_count": null,
   "metadata": {},
   "outputs": [],
   "source": [
    "# tmp1 = [s for s in deltas_to_strokes(tmp) if len(s) > 0]\n",
    "\n",
    "# strokes_to_deltas(rdp_strokes(tmp1, epsilon=1.1)).shape"
   ]
  },
  {
   "cell_type": "code",
   "execution_count": null,
   "metadata": {},
   "outputs": [],
   "source": [
    "# plot_strokes(rdp_strokes(tmp1, epsilon=1.1))"
   ]
  },
  {
   "cell_type": "code",
   "execution_count": null,
   "metadata": {},
   "outputs": [],
   "source": [
    "# import numpy as np\n",
    "\n",
    "# max_seq_len = 20\n",
    "# overflow = len(tmp) - max_seq_len\n",
    "# rand_offset = int(np.random.rand() * overflow)\n",
    "# overflow, rand_offset\n",
    "# rand_offset = 0\n",
    "# plot_strokes(deltas_to_strokes(tmp[rand_offset : rand_offset + max_seq_len]))"
   ]
  },
  {
   "cell_type": "code",
   "execution_count": null,
   "metadata": {},
   "outputs": [],
   "source": []
  },
  {
   "cell_type": "code",
   "execution_count": null,
   "metadata": {},
   "outputs": [],
   "source": []
  },
  {
   "cell_type": "code",
   "execution_count": null,
   "metadata": {},
   "outputs": [],
   "source": []
  },
  {
   "cell_type": "code",
   "execution_count": null,
   "metadata": {},
   "outputs": [],
   "source": [
    "# df[df.num_strokes < 5].sample(frac=1).num_strokes.hist()"
   ]
  },
  {
   "cell_type": "code",
   "execution_count": null,
   "metadata": {},
   "outputs": [],
   "source": [
    "# len(df[df.num_strokes == 6])"
   ]
  },
  {
   "cell_type": "code",
   "execution_count": null,
   "metadata": {},
   "outputs": [],
   "source": [
    "# for i in range(5):\n",
    "#     row = df[df.num_strokes == 6].iloc[i]\n",
    "#     print(row)\n",
    "#     plot_strokes(deltas_to_strokes(full_dataset[row.idx]))"
   ]
  },
  {
   "cell_type": "code",
   "execution_count": null,
   "metadata": {},
   "outputs": [],
   "source": [
    "# for entry in by_num_strokes[10:20]:\n",
    "#     idx, num_points, num_strokes = entry\n",
    "#     plot_strokes(deltas_to_strokes(full_dataset[idx]))"
   ]
  },
  {
   "cell_type": "markdown",
   "metadata": {},
   "source": [
    "## Find shortest strokes"
   ]
  },
  {
   "cell_type": "code",
   "execution_count": null,
   "metadata": {},
   "outputs": [],
   "source": [
    "# len(df[df.num_strokes == 4])"
   ]
  },
  {
   "cell_type": "code",
   "execution_count": null,
   "metadata": {},
   "outputs": [],
   "source": [
    "# for idx in range(len(df[df.num_strokes <= 4])):\n",
    "#     print(idx)"
   ]
  },
  {
   "cell_type": "code",
   "execution_count": null,
   "metadata": {},
   "outputs": [],
   "source": [
    "#| hide\n",
    "import nbdev\n",
    "\n",
    "nbdev.nbdev_export()"
   ]
  }
 ],
 "metadata": {
  "kernelspec": {
   "display_name": "python3",
   "language": "python",
   "name": "python3"
  }
 },
 "nbformat": 4,
 "nbformat_minor": 4
}
